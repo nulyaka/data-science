{
 "cells": [
  {
   "cell_type": "code",
   "execution_count": 1,
   "metadata": {},
   "outputs": [],
   "source": [
    "import pandas as pd\n",
    "import matplotlib.pyplot as plt\n",
    "plt.style.use('seaborn-white')\n",
    "import numpy as np\n",
    "import scipy.optimize as op"
   ]
  },
  {
   "cell_type": "code",
   "execution_count": 2,
   "metadata": {},
   "outputs": [],
   "source": [
    "data = pd.read_csv(\"ex2data2.txt\", names=[\"X1\",\"X2\",\"y\"])"
   ]
  },
  {
   "cell_type": "code",
   "execution_count": 3,
   "metadata": {},
   "outputs": [
    {
     "data": {
      "text/html": [
       "<div>\n",
       "<style scoped>\n",
       "    .dataframe tbody tr th:only-of-type {\n",
       "        vertical-align: middle;\n",
       "    }\n",
       "\n",
       "    .dataframe tbody tr th {\n",
       "        vertical-align: top;\n",
       "    }\n",
       "\n",
       "    .dataframe thead th {\n",
       "        text-align: right;\n",
       "    }\n",
       "</style>\n",
       "<table border=\"1\" class=\"dataframe\">\n",
       "  <thead>\n",
       "    <tr style=\"text-align: right;\">\n",
       "      <th></th>\n",
       "      <th>X1</th>\n",
       "      <th>X2</th>\n",
       "      <th>y</th>\n",
       "    </tr>\n",
       "  </thead>\n",
       "  <tbody>\n",
       "    <tr>\n",
       "      <th>0</th>\n",
       "      <td>0.051267</td>\n",
       "      <td>0.69956</td>\n",
       "      <td>1</td>\n",
       "    </tr>\n",
       "    <tr>\n",
       "      <th>1</th>\n",
       "      <td>-0.092742</td>\n",
       "      <td>0.68494</td>\n",
       "      <td>1</td>\n",
       "    </tr>\n",
       "    <tr>\n",
       "      <th>2</th>\n",
       "      <td>-0.213710</td>\n",
       "      <td>0.69225</td>\n",
       "      <td>1</td>\n",
       "    </tr>\n",
       "    <tr>\n",
       "      <th>3</th>\n",
       "      <td>-0.375000</td>\n",
       "      <td>0.50219</td>\n",
       "      <td>1</td>\n",
       "    </tr>\n",
       "    <tr>\n",
       "      <th>4</th>\n",
       "      <td>-0.513250</td>\n",
       "      <td>0.46564</td>\n",
       "      <td>1</td>\n",
       "    </tr>\n",
       "  </tbody>\n",
       "</table>\n",
       "</div>"
      ],
      "text/plain": [
       "         X1       X2  y\n",
       "0  0.051267  0.69956  1\n",
       "1 -0.092742  0.68494  1\n",
       "2 -0.213710  0.69225  1\n",
       "3 -0.375000  0.50219  1\n",
       "4 -0.513250  0.46564  1"
      ]
     },
     "execution_count": 3,
     "metadata": {},
     "output_type": "execute_result"
    }
   ],
   "source": [
    "data.head()"
   ]
  },
  {
   "cell_type": "markdown",
   "metadata": {},
   "source": [
    "### Observing data"
   ]
  },
  {
   "cell_type": "code",
   "execution_count": 4,
   "metadata": {
    "scrolled": false
   },
   "outputs": [
    {
     "data": {
      "image/png": "[encoded data removed]",
      "text/plain": [
       "<Figure size 432x288 with 1 Axes>"
      ]
     },
     "metadata": {},
     "output_type": "display_data"
    }
   ],
   "source": [
    "plt.plot(data[data.y==1].X1, data[data.y==1].X2, 'ko', markersize=6, c='r')\n",
    "plt.plot(data[data.y==0].X1, data[data.y==0].X2, 'kx', markersize=8, c='b')\n",
    "plt.xlabel('Microchip Test 1')\n",
    "plt.ylabel('Microchip Test 2')\n",
    "plt.legend(['y = 1', 'y = 0'])\n",
    "plt.show()"
   ]
  },
  {
   "cell_type": "code",
   "execution_count": 5,
   "metadata": {},
   "outputs": [],
   "source": [
    "m, n = data.shape\n",
    "X = np.hstack((np.ones((m)).reshape(m,1), data.iloc[:,0:2])) # 118x3\n",
    "y = np.array(data['y']).reshape(m,1) # 118x1"
   ]
  },
  {
   "cell_type": "markdown",
   "metadata": {},
   "source": [
    "### Adding new features"
   ]
  },
  {
   "cell_type": "code",
   "execution_count": 6,
   "metadata": {},
   "outputs": [],
   "source": [
    "# Map feature - given X1,X2\n",
    "# produce: X1, X2, X1.^2, X2.^2, X1*X2, X1*X2.^2 ... till 6th degree\n",
    "\n",
    "# accepts two numpy arrays in row form\n",
    "def map_features(X1, X2):\n",
    "    degree = 6;\n",
    "    out = np.ones((X1.size,1))\n",
    "    \n",
    "    for i in range(1, degree+1):\n",
    "        for j in range(0, i+1):\n",
    "            new_feature = np.array((X1**(i-j)) * (X2**j))\n",
    "            out = np.hstack((out, new_feature))\n",
    "    \n",
    "    return out"
   ]
  },
  {
   "cell_type": "code",
   "execution_count": 7,
   "metadata": {},
   "outputs": [
    {
     "data": {
      "text/plain": [
       "(118, 28)"
      ]
     },
     "execution_count": 7,
     "metadata": {},
     "output_type": "execute_result"
    }
   ],
   "source": [
    "# first column [ones] + [X1] + [X2] + [new features]\n",
    "X1 = np.array(data.X1).reshape(len(X),1) \n",
    "X2 = np.array(data.X2).reshape(len(X),1) \n",
    "\n",
    "X = map_features(X1, X2)\n",
    "X.shape"
   ]
  },
  {
   "cell_type": "markdown",
   "metadata": {},
   "source": [
    "### Sigmoid, 0 <= h(x) <= 1"
   ]
  },
  {
   "cell_type": "code",
   "execution_count": 8,
   "metadata": {},
   "outputs": [],
   "source": [
    "def sigmoid(z):\n",
    "    return 1/(1 + np.exp(-z))"
   ]
  },
  {
   "cell_type": "markdown",
   "metadata": {},
   "source": [
    "### Cost for a step and one step gradient functions"
   ]
  },
  {
   "cell_type": "code",
   "execution_count": 9,
   "metadata": {},
   "outputs": [],
   "source": [
    "def cost_func_reg(theta, X, y, lambda_):\n",
    "    m = len(X)\n",
    "    h = sigmoid(np.dot(X, theta))\n",
    "    J = 1/m * (np.dot((-y).T, np.log(h)) - np.dot((1-y).T, np.log(1-h)))\n",
    "    J = J + lambda_/(2*m) * sum(theta[1:]**2)\n",
    "    \n",
    "    return np.ndarray.flatten(J)"
   ]
  },
  {
   "cell_type": "code",
   "execution_count": 10,
   "metadata": {},
   "outputs": [],
   "source": [
    "def gradient_reg(theta, X, y, lambda_):\n",
    "    m = len(X)\n",
    "    h = sigmoid(np.dot(X, theta))\n",
    "    \n",
    "    grad_0 = 1/m * np.dot((h-y).T, X[:,0])\n",
    "    grad_else = 1/m * np.dot(X[:,1:].T, (h-y)) + lambda_/m * theta[1:]\n",
    "    \n",
    "    grad = np.concatenate([grad_0, np.squeeze(grad_else)])\n",
    "    \n",
    "    return grad"
   ]
  },
  {
   "cell_type": "markdown",
   "metadata": {},
   "source": [
    "### Initial cost and gradient for regularized logistic regression"
   ]
  },
  {
   "cell_type": "code",
   "execution_count": 11,
   "metadata": {},
   "outputs": [],
   "source": [
    "initial_theta = np.zeros((X.shape[1])).reshape((X.shape[1],1)) # 28x1\n",
    "lambda_ = 1"
   ]
  },
  {
   "cell_type": "code",
   "execution_count": 12,
   "metadata": {},
   "outputs": [
    {
     "name": "stdout",
     "output_type": "stream",
     "text": [
      "[0.69314718]\n"
     ]
    }
   ],
   "source": [
    "cost = cost_func_reg(initial_theta, X, y, lambda_)\n",
    "print(cost)"
   ]
  },
  {
   "cell_type": "code",
   "execution_count": 13,
   "metadata": {},
   "outputs": [
    {
     "name": "stdout",
     "output_type": "stream",
     "text": [
      "[0.0085 0.0188 0.0001 0.0503 0.0115]\n"
     ]
    }
   ],
   "source": [
    "grad = gradient_reg(initial_theta, X, y, lambda_)\n",
    "print(grad[:5].round(4))"
   ]
  },
  {
   "cell_type": "markdown",
   "metadata": {},
   "source": [
    "### Advanced optimization using *scipy.optimize.minize*"
   ]
  },
  {
   "cell_type": "code",
   "execution_count": 14,
   "metadata": {},
   "outputs": [
    {
     "name": "stdout",
     "output_type": "stream",
     "text": [
      "[ 1.14216773  0.6015967   1.16719496 -1.8713387  -0.91585431]\n"
     ]
    }
   ],
   "source": [
    "optimal_theta = op.minimize(fun = cost_func_reg, \n",
    "                            x0 = initial_theta, \n",
    "                            method='BFGS',\n",
    "                            args = (X, y, lambda_))\n",
    "\n",
    "theta = np.array(optimal_theta.x)\n",
    "print(theta[:5])"
   ]
  },
  {
   "cell_type": "markdown",
   "metadata": {},
   "source": [
    "### Plot decision boundary"
   ]
  },
  {
   "cell_type": "code",
   "execution_count": 15,
   "metadata": {},
   "outputs": [],
   "source": [
    "def plot_db(X1, X2, theta):\n",
    "    u = np.linspace(-1, 1.5, 50)\n",
    "    v = np.linspace(-1, 1.5, 50)\n",
    "    z = np.zeros((len(u), len(v)))\n",
    "\n",
    "    for i in range(len(u)):\n",
    "        for j in range(len(v)):\n",
    "            ui = u[i].reshape(u[i].size,1)\n",
    "            vj = u[j].reshape(u[j].size,1)\n",
    "            z[i,j] = np.dot(map_features(ui, vj), theta)\n",
    "            \n",
    "    plt.contour(u, v, z, 0, colors='black')\n",
    "    plt.plot(data[data.y==1].X1, data[data.y==1].X2, 'ko', markersize=6, c='r')\n",
    "    plt.plot(data[data.y==0].X1, data[data.y==0].X2, 'kx', markersize=8, c='b')\n",
    "    plt.xlabel('Microchip Test 1')\n",
    "    plt.ylabel('Microchip Test 2')\n",
    "    plt.legend(['y = 1', 'y = 0'])\n",
    "    plt.show()"
   ]
  },
  {
   "cell_type": "code",
   "execution_count": 16,
   "metadata": {
    "scrolled": true
   },
   "outputs": [
    {
     "data": {
      "image/png": "[encoded data removed]",
      "text/plain": [
       "<Figure size 432x288 with 1 Axes>"
      ]
     },
     "metadata": {},
     "output_type": "display_data"
    }
   ],
   "source": [
    "plot_db(X1,X2,theta)"
   ]
  },
  {
   "cell_type": "markdown",
   "metadata": {},
   "source": [
    "### Predict"
   ]
  },
  {
   "cell_type": "code",
   "execution_count": 17,
   "metadata": {},
   "outputs": [],
   "source": [
    "def predict(X, theta):\n",
    "    return np.round(sigmoid(np.dot(X, theta)))"
   ]
  },
  {
   "cell_type": "code",
   "execution_count": 18,
   "metadata": {},
   "outputs": [
    {
     "name": "stdout",
     "output_type": "stream",
     "text": [
      "[1.]\n"
     ]
    }
   ],
   "source": [
    "# testing X1 = 0.2, X2 = 0.2\n",
    "# must be y = 1\n",
    "a = np.array([0.2]).reshape(1,1)\n",
    "b = np.array([0.2]).reshape(1,1)\n",
    "\n",
    "test_X = map_features(a,b)\n",
    "\n",
    "print(predict(test_X, theta))"
   ]
  },
  {
   "cell_type": "code",
   "execution_count": 19,
   "metadata": {},
   "outputs": [
    {
     "name": "stdout",
     "output_type": "stream",
     "text": [
      "[0.]\n"
     ]
    }
   ],
   "source": [
    "# testing X1 = 0.2, X2 = 0.9\n",
    "# must be y = 0\n",
    "a = np.array([0.2]).reshape(1,1)\n",
    "b = np.array([0.9]).reshape(1,1)\n",
    "\n",
    "test_X = map_features(a,b)\n",
    "\n",
    "print(predict(test_X, theta))"
   ]
  },
  {
   "cell_type": "markdown",
   "metadata": {},
   "source": [
    "### Changing lambda parameter"
   ]
  },
  {
   "cell_type": "markdown",
   "metadata": {},
   "source": [
    "### Overfitting"
   ]
  },
  {
   "cell_type": "code",
   "execution_count": 20,
   "metadata": {},
   "outputs": [
    {
     "name": "stdout",
     "output_type": "stream",
     "text": [
      "[  35.1645865    44.18780309   69.37667813 -344.86020383 -198.42131645]\n"
     ]
    }
   ],
   "source": [
    "# no regularization\n",
    "lambda_ = 0\n",
    "\n",
    "optimal_theta = op.minimize(fun = cost_func_reg, \n",
    "                            x0 = initial_theta, \n",
    "                            method='BFGS',\n",
    "                            args = (X, y, lambda_))\n",
    "\n",
    "theta = np.array(optimal_theta.x)\n",
    "print(theta[:5])"
   ]
  },
  {
   "cell_type": "code",
   "execution_count": 21,
   "metadata": {},
   "outputs": [
    {
     "data": {
      "image/png": "[encoded data removed]",
      "text/plain": [
       "<Figure size 432x288 with 1 Axes>"
      ]
     },
     "metadata": {},
     "output_type": "display_data"
    }
   ],
   "source": [
    "plot_db(X1,X2,theta)"
   ]
  },
  {
   "cell_type": "markdown",
   "metadata": {},
   "source": [
    "### Underfitting"
   ]
  },
  {
   "cell_type": "code",
   "execution_count": 24,
   "metadata": {},
   "outputs": [
    {
     "name": "stdout",
     "output_type": "stream",
     "text": [
      "[ 0.00468518 -0.01727029  0.0064181  -0.05402536 -0.01327389]\n"
     ]
    }
   ],
   "source": [
    "lambda_ = 100\n",
    "\n",
    "optimal_theta = op.minimize(fun = cost_func_reg, \n",
    "                            x0 = initial_theta, \n",
    "                            method='BFGS',\n",
    "                            args = (X, y, lambda_))\n",
    "\n",
    "theta = np.array(optimal_theta.x)\n",
    "print(theta[:5])"
   ]
  },
  {
   "cell_type": "code",
   "execution_count": 25,
   "metadata": {},
   "outputs": [
    {
     "data": {
      "image/png": "[encoded data removed]",
      "text/plain": [
       "<Figure size 432x288 with 1 Axes>"
      ]
     },
     "metadata": {},
     "output_type": "display_data"
    }
   ],
   "source": [
    "plot_db(X1,X2,theta)"
   ]
  }
 ],
 "metadata": {
  "kernelspec": {
   "display_name": "Python 3",
   "language": "python",
   "name": "python3"
  },
  "language_info": {
   "codemirror_mode": {
    "name": "ipython",
    "version": 3
   },
   "file_extension": ".py",
   "mimetype": "text/x-python",
   "name": "python",
   "nbconvert_exporter": "python",
   "pygments_lexer": "ipython3",
   "version": "3.7.6"
  }
 },
 "nbformat": 4,
 "nbformat_minor": 4
}
