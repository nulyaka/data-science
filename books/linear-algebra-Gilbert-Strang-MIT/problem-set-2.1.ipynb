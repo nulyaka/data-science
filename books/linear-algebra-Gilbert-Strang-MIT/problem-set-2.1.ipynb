{
 "cells": [
  {
   "cell_type": "code",
   "execution_count": 1,
   "metadata": {},
   "outputs": [],
   "source": [
    "import numpy as np\n",
    "from scipy.linalg import solve, lstsq"
   ]
  },
  {
   "cell_type": "markdown",
   "metadata": {},
   "source": [
    "### 1"
   ]
  },
  {
   "cell_type": "code",
   "execution_count": 2,
   "metadata": {},
   "outputs": [
    {
     "name": "stdout",
     "output_type": "stream",
     "text": [
      "[[1 0 0]\n",
      " [0 1 0]\n",
      " [0 0 1]]\n",
      "[2. 3. 4.]\n"
     ]
    }
   ],
   "source": [
    "i,j,k = [1,0,0],[0,1,0],[0,0,1]\n",
    "I = np.array([i,j,k])\n",
    "b = np.array([2,3,4])\n",
    "\n",
    "print(I)\n",
    "x = solve(I,b)\n",
    "print(x)"
   ]
  },
  {
   "cell_type": "markdown",
   "metadata": {},
   "source": [
    "### 2"
   ]
  },
  {
   "cell_type": "code",
   "execution_count": 3,
   "metadata": {},
   "outputs": [
    {
     "name": "stdout",
     "output_type": "stream",
     "text": [
      "[[2 0 0]\n",
      " [0 3 0]\n",
      " [0 0 4]]\n",
      "[2. 3. 4.]\n"
     ]
    }
   ],
   "source": [
    "d1,d2,d3 = [2,0,0],[0,3,0],[0,0,4]\n",
    "D = np.array([d1,d2,d3])\n",
    "B = np.array([4,9,16])\n",
    "\n",
    "print(D)\n",
    "X = solve(D,B)\n",
    "print(X)"
   ]
  },
  {
   "cell_type": "markdown",
   "metadata": {},
   "source": [
    "### 4"
   ]
  },
  {
   "cell_type": "code",
   "execution_count": 4,
   "metadata": {},
   "outputs": [
    {
     "name": "stdout",
     "output_type": "stream",
     "text": [
      "[ 1. -1.  2.]\n",
      "[5. 1. 0.]\n",
      "[3. 0. 1.]\n"
     ]
    }
   ],
   "source": [
    "a1,a2,a3 = [1,1,3],[1,-1,1],[0,0,1]\n",
    "A = np.array([a1,a2,a3])\n",
    "b = np.array([6,4,2])\n",
    "\n",
    "x1 = solve(A,b)\n",
    "print(x1)\n",
    "\n",
    "b[2] = 0\n",
    "x2 = solve(A,b)\n",
    "print(x2)\n",
    "\n",
    "x_mid = (x1+x2)/2\n",
    "print(x_mid)"
   ]
  },
  {
   "cell_type": "markdown",
   "metadata": {},
   "source": [
    "### 5"
   ]
  },
  {
   "cell_type": "code",
   "execution_count": 5,
   "metadata": {},
   "outputs": [
    {
     "name": "stdout",
     "output_type": "stream",
     "text": [
      "[0.5 1.  0.5]\n"
     ]
    }
   ],
   "source": [
    "a1,a2,a3 = [1,1,1],[1,2,1],[2,3,2]\n",
    "A = np.array([a1,a2,a3])\n",
    "b = np.array([2,3,5])\n",
    "\n",
    "## linalg.solve can't handle singular matrix\n",
    "## x = solve(A,b)\n",
    "x = lstsq(A,b)\n",
    "\n",
    "print(x[0])"
   ]
  },
  {
   "cell_type": "markdown",
   "metadata": {},
   "source": [
    "### 6"
   ]
  },
  {
   "cell_type": "code",
   "execution_count": 6,
   "metadata": {},
   "outputs": [
    {
     "name": "stdout",
     "output_type": "stream",
     "text": [
      "(array([1.16666667, 1.        , 1.16666667]), array([], dtype=float64), 2, array([5.07613488e+00, 4.82550169e-01, 2.69573835e-16]))\n"
     ]
    }
   ],
   "source": [
    "a1,a2,a3 = [1,1,1],[1,2,1],[2,3,2]\n",
    "A = np.array([a1,a2,a3])\n",
    "b = np.array([2,3,9])\n",
    "\n",
    "# gives inproper results, it has no soluti\n",
    "x = lstsq(A,b)\n",
    "print(x)"
   ]
  },
  {
   "cell_type": "markdown",
   "metadata": {},
   "source": [
    "### 7"
   ]
  },
  {
   "cell_type": "code",
   "execution_count": 10,
   "metadata": {},
   "outputs": [
    {
     "name": "stdout",
     "output_type": "stream",
     "text": [
      "[18  5  0]\n",
      "[3 4 5 5]\n"
     ]
    }
   ],
   "source": [
    "# a\n",
    "A = np.array([[1,2,4],[-2,3,1],[-4,1,2]])\n",
    "x = np.array([2,2,3])\n",
    "\n",
    "b = A.dot(x)\n",
    "print(b)\n",
    "\n",
    "# b\n",
    "A = np.array([[2,1,0,0],[1,2,1,0],[0,1,2,1],[0,0,1,2]])\n",
    "x = np.array([1,1,1,2])\n",
    "\n",
    "b = A.dot(x)\n",
    "print(b)"
   ]
  },
  {
   "cell_type": "markdown",
   "metadata": {},
   "source": [
    "### 23"
   ]
  },
  {
   "cell_type": "code",
   "execution_count": 20,
   "metadata": {},
   "outputs": [
    {
     "name": "stdout",
     "output_type": "stream",
     "text": [
      "True\n"
     ]
    }
   ],
   "source": [
    "A = np.array([[1,2],[3,4]])\n",
    "x = np.array([5,-2])\n",
    "b = np.array([1,7])\n",
    "\n",
    "# checking each element, and whether all of them are true.\n",
    "print((np.dot(A,x) == b).all())"
   ]
  },
  {
   "cell_type": "markdown",
   "metadata": {},
   "source": [
    "### 24"
   ]
  },
  {
   "cell_type": "code",
   "execution_count": 49,
   "metadata": {},
   "outputs": [
    {
     "name": "stdout",
     "output_type": "stream",
     "text": [
      "[3. 4. 5.]\n",
      "50\n"
     ]
    }
   ],
   "source": [
    "A = np.eye(3)\n",
    "v = np.array(range(3,6))\n",
    "\n",
    "print(A.dot(v))\n",
    "print(v.dot(v.T))"
   ]
  },
  {
   "cell_type": "markdown",
   "metadata": {},
   "source": [
    "### 25"
   ]
  },
  {
   "cell_type": "code",
   "execution_count": 67,
   "metadata": {},
   "outputs": [
    {
     "name": "stdout",
     "output_type": "stream",
     "text": [
      "[[4. 4. 4. 4.]]\n",
      "[[10. 10. 10. 10.]]\n"
     ]
    }
   ],
   "source": [
    "A = np.ones((4,4))\n",
    "v = np.ones((4,1))\n",
    "print(A.dot(v).T)\n",
    "\n",
    "B = np.eye(4) + np.ones(4)\n",
    "w = np.zeros((4,1)) + 2*np.ones((4,1))\n",
    "print(B.dot(w).T)"
   ]
  },
  {
   "cell_type": "markdown",
   "metadata": {},
   "source": [
    "### 29"
   ]
  },
  {
   "cell_type": "code",
   "execution_count": 77,
   "metadata": {},
   "outputs": [
    {
     "name": "stdout",
     "output_type": "stream",
     "text": [
      "u1: [0.8 0.2]\n",
      "u2: [0.7 0.3]\n",
      "u3: [0.65 0.35]\n",
      "u4: [0.625 0.375]\n",
      "u5: [0.6125 0.3875]\n",
      "u6: [0.60625 0.39375]\n",
      "u7: [0.603125 0.396875]\n"
     ]
    }
   ],
   "source": [
    "A = np.array([[.8,.3],[.2,.7]])\n",
    "u0 = np.array([1,0])\n",
    "\n",
    "u = u0\n",
    "for i in range(1,8):\n",
    "    u = A.dot(u)\n",
    "    print(\"u\"+str(i)+\":\",u)\n",
    "    \n",
    "# steady state vector [0.6, 0.4]"
   ]
  },
  {
   "cell_type": "markdown",
   "metadata": {},
   "source": [
    "### 34"
   ]
  },
  {
   "cell_type": "code",
   "execution_count": 80,
   "metadata": {},
   "outputs": [
    {
     "name": "stdout",
     "output_type": "stream",
     "text": [
      "[4. 7. 8. 6.]\n"
     ]
    }
   ],
   "source": [
    "A = np.array([[2,-1,0,0],[-1,2,-1,0],[0,-1,2,-1],[0,0,-1,2]])\n",
    "b = np.array([1,2,3,4])\n",
    "\n",
    "x = solve(A,b)\n",
    "print(x)"
   ]
  },
  {
   "cell_type": "code",
   "execution_count": null,
   "metadata": {},
   "outputs": [],
   "source": []
  }
 ],
 "metadata": {
  "kernelspec": {
   "display_name": "Python 3",
   "language": "python",
   "name": "python3"
  },
  "language_info": {
   "codemirror_mode": {
    "name": "ipython",
    "version": 3
   },
   "file_extension": ".py",
   "mimetype": "text/x-python",
   "name": "python",
   "nbconvert_exporter": "python",
   "pygments_lexer": "ipython3",
   "version": "3.7.6"
  }
 },
 "nbformat": 4,
 "nbformat_minor": 4
}
