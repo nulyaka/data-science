{
 "cells": [
  {
   "cell_type": "markdown",
   "metadata": {},
   "source": [
    "## Problem Set 1.2 "
   ]
  },
  {
   "cell_type": "code",
   "execution_count": 87,
   "metadata": {},
   "outputs": [],
   "source": [
    "import numpy as np\n",
    "import math"
   ]
  },
  {
   "cell_type": "code",
   "execution_count": 29,
   "metadata": {},
   "outputs": [],
   "source": [
    "def unit_vector(vector):\n",
    "    \"\"\" Returns the unit vector of the vector.  \"\"\"\n",
    "    return vector / np.linalg.norm(vector)\n",
    "\n",
    "def angle_between(v1, v2):\n",
    "    \"\"\" Returns the angle in radians between vectors 'v1' and 'v2'::\n",
    "\n",
    "            >>> angle_between((1, 0, 0), (0, 1, 0))\n",
    "            1.5707963267948966\n",
    "            >>> angle_between((1, 0, 0), (1, 0, 0))\n",
    "            0.0\n",
    "            >>> angle_between((1, 0, 0), (-1, 0, 0))\n",
    "            3.141592653589793\n",
    "    \"\"\"\n",
    "    v1_u = unit_vector(v1)\n",
    "    v2_u = unit_vector(v2)\n",
    "    return np.arccos(np.clip(np.dot(v1_u, v2_u), -1.0, 1.0))"
   ]
  },
  {
   "cell_type": "code",
   "execution_count": 54,
   "metadata": {},
   "outputs": [],
   "source": [
    "def angle(v1, v2):\n",
    "    # angle = 57.2968 * radian\n",
    "    return (angle_between(v1, v2) * 57.2968)"
   ]
  },
  {
   "cell_type": "code",
   "execution_count": 68,
   "metadata": {},
   "outputs": [],
   "source": [
    "def length(v):\n",
    "    return np.linalg.norm(v)"
   ]
  },
  {
   "cell_type": "markdown",
   "metadata": {},
   "source": [
    "### №1"
   ]
  },
  {
   "cell_type": "code",
   "execution_count": 2,
   "metadata": {
    "scrolled": true
   },
   "outputs": [
    {
     "name": "stdout",
     "output_type": "stream",
     "text": [
      "0.0\n",
      "1.0\n",
      "1.0\n",
      "10\n"
     ]
    }
   ],
   "source": [
    "# dot products u,v; u,w; u,v+w; w,v.\n",
    "u = np.array([-.6, .8])\n",
    "v = np.array([4, 3])\n",
    "w = np.array([1, 2])\n",
    "\n",
    "print(round(np.dot(u,v)))\n",
    "print(round(np.dot(u,w)))\n",
    "print(round(np.dot(u,v+w)))\n",
    "print(round(np.dot(w,v)))"
   ]
  },
  {
   "cell_type": "markdown",
   "metadata": {},
   "source": [
    "### №2 "
   ]
  },
  {
   "cell_type": "code",
   "execution_count": 3,
   "metadata": {},
   "outputs": [
    {
     "name": "stdout",
     "output_type": "stream",
     "text": [
      "1.0\n",
      "5.0\n",
      "2.23606797749979\n"
     ]
    }
   ],
   "source": [
    "# magnitudes u,v,w.\n",
    "print(np.linalg.norm(u))\n",
    "print(np.linalg.norm(v))\n",
    "print(np.linalg.norm(w))"
   ]
  },
  {
   "cell_type": "code",
   "execution_count": 4,
   "metadata": {},
   "outputs": [
    {
     "name": "stdout",
     "output_type": "stream",
     "text": [
      "0.0 5.0\n"
     ]
    }
   ],
   "source": [
    "# dot product of u,v; product of magnitudes of u,v.\n",
    "print(abs(round(np.dot(u,v))), np.linalg.norm(u) * np.linalg.norm(v))"
   ]
  },
  {
   "cell_type": "code",
   "execution_count": 5,
   "metadata": {},
   "outputs": [
    {
     "name": "stdout",
     "output_type": "stream",
     "text": [
      "10 11.1803\n"
     ]
    }
   ],
   "source": [
    "# dot product of v,w; product of magnitudes of v,w.\n",
    "print(abs(round(np.dot(v,w))), round(np.linalg.norm(v) * np.linalg.norm(w), 4))"
   ]
  },
  {
   "cell_type": "markdown",
   "metadata": {},
   "source": [
    "### №3"
   ]
  },
  {
   "cell_type": "code",
   "execution_count": 6,
   "metadata": {},
   "outputs": [
    {
     "name": "stdout",
     "output_type": "stream",
     "text": [
      "[0.8 0.6]\n",
      "[0.4472136  0.89442719]\n",
      "26.57\n"
     ]
    }
   ],
   "source": [
    "# unit vectors of v,w; angle between v,w.\n",
    "v_unit = v/np.linalg.norm(v)\n",
    "print(v_unit)\n",
    "\n",
    "w_unit = w/np.linalg.norm(w)\n",
    "print(w_unit)\n",
    "\n",
    "radian_vw = np.arccos(np.dot(v_unit, w_unit))\n",
    "angle_vw = radian_vw * 57.2958\n",
    "print(round(angle_vw,2))"
   ]
  },
  {
   "cell_type": "markdown",
   "metadata": {},
   "source": [
    "* *0°: w itself*\n",
    "* *90°: any orthogonal vector to w*\n",
    "* *180°: -w*"
   ]
  },
  {
   "cell_type": "markdown",
   "metadata": {},
   "source": [
    "### №4"
   ]
  },
  {
   "cell_type": "code",
   "execution_count": 7,
   "metadata": {},
   "outputs": [
    {
     "name": "stdout",
     "output_type": "stream",
     "text": [
      "-1.0\n",
      "0.0\n",
      "-3.0\n"
     ]
    }
   ],
   "source": [
    "# dot products of any unit vectors v,w:\n",
    "# 1. v, -v \n",
    "# 2. v+w, v-w\n",
    "# 3. v-2w, v+2w\n",
    "\n",
    "# example of unit vectors:\n",
    "v = np.array([0.8, 0.6])\n",
    "w = np.array([0.6, 0.8])\n",
    "\n",
    "print(np.dot(v, -v))\n",
    "print(np.dot(v+w, v-w))\n",
    "print(np.dot(v-2*w, v+2*w))"
   ]
  },
  {
   "cell_type": "markdown",
   "metadata": {},
   "source": [
    "* *v · (-v) = -1*\n",
    "* *(v + w) · (v - w) = 0*\n",
    "* *(v - 2w) · (v + 2w) = -3*"
   ]
  },
  {
   "cell_type": "markdown",
   "metadata": {},
   "source": [
    "### №5"
   ]
  },
  {
   "cell_type": "code",
   "execution_count": 8,
   "metadata": {},
   "outputs": [
    {
     "name": "stdout",
     "output_type": "stream",
     "text": [
      "[0.3162 0.9487] [0.6667 0.3333 0.6667]\n"
     ]
    }
   ],
   "source": [
    "# find unit vectors of v,w; assign them to u1,u2.\n",
    "v = np.array([1,3])\n",
    "w = np.array([2,1,2])\n",
    "\n",
    "u1 = v/np.linalg.norm(v)\n",
    "u2 = w/np.linalg.norm(w)\n",
    "\n",
    "print(np.around(u1, 4), np.around(u2, 4))"
   ]
  },
  {
   "cell_type": "code",
   "execution_count": 9,
   "metadata": {},
   "outputs": [],
   "source": [
    "# find unit vectors U1 and U2 that are perpendicular to u1 and u2"
   ]
  },
  {
   "cell_type": "markdown",
   "metadata": {},
   "source": [
    "#### *Let U1 components be x1, x2*  \n",
    "*Solve equation: 0.3162·x1 + 0.9487·x2 = 0*  \n",
    "*x1 = -3·x2*  \n",
    "* *Let x2 be 1, then x1 = -3*  \n",
    "*U1 = (-3, 1) / ||U1||*  \n",
    "* *Let x2 be -1, then x1 = 3*  \n",
    "*U1 = (3, -1) / ||U1||*  \n",
    "  \n",
    "  \n",
    "\n",
    "#### *Let U2 components be y1, y2, y3*  \n",
    "*Solve equation: 0.6667·y1 + 0.3333·y2 + 0.6667·y3 = 0*  \n",
    "*The units vectors of the whole plain can be perpendicular to U2*"
   ]
  },
  {
   "cell_type": "markdown",
   "metadata": {},
   "source": [
    "### №6"
   ]
  },
  {
   "cell_type": "markdown",
   "metadata": {},
   "source": [
    "* *2·w1 + (-1)·w2 = 0*  \n",
    "*2·w1 = w2*  \n",
    "* *The vectors perpendicluar to (1,1,1) lies on a plane in R3*\n",
    "* *The vectors perpendicular to (1,1,1) and (1,2,3) lies on a line in R3*"
   ]
  },
  {
   "cell_type": "markdown",
   "metadata": {},
   "source": [
    "### №7"
   ]
  },
  {
   "cell_type": "code",
   "execution_count": 33,
   "metadata": {},
   "outputs": [
    {
     "name": "stdout",
     "output_type": "stream",
     "text": [
      "60.0\n"
     ]
    }
   ],
   "source": [
    "#a\n",
    "v = np.array([1, math.sqrt(3)])\n",
    "w = np.array([1, 0])\n",
    "\n",
    "print(round(angle(v,w)))"
   ]
  },
  {
   "cell_type": "code",
   "execution_count": 32,
   "metadata": {},
   "outputs": [
    {
     "name": "stdout",
     "output_type": "stream",
     "text": [
      "90.0\n"
     ]
    }
   ],
   "source": [
    "#b\n",
    "v = np.array([2, 2, -1])\n",
    "w = np.array([2, -1, 2])\n",
    "\n",
    "print(round(angle(v,w)))"
   ]
  },
  {
   "cell_type": "code",
   "execution_count": 34,
   "metadata": {},
   "outputs": [
    {
     "name": "stdout",
     "output_type": "stream",
     "text": [
      "60.0\n"
     ]
    }
   ],
   "source": [
    "#c\n",
    "v = np.array([1, math.sqrt(3)])\n",
    "w = np.array([-1, math.sqrt(3)])\n",
    "\n",
    "print(round(angle(v,w)))"
   ]
  },
  {
   "cell_type": "code",
   "execution_count": 35,
   "metadata": {},
   "outputs": [
    {
     "name": "stdout",
     "output_type": "stream",
     "text": [
      "135.0\n"
     ]
    }
   ],
   "source": [
    "#d\n",
    "v = np.array([3, 1])\n",
    "w = np.array([-1, -2])\n",
    "\n",
    "print(round(angle(v,w)))"
   ]
  },
  {
   "cell_type": "markdown",
   "metadata": {},
   "source": [
    "### №8"
   ]
  },
  {
   "cell_type": "markdown",
   "metadata": {},
   "source": [
    "* *If u = (1, 1, 1) is perpendicular to v and w, then vis parallel tow*  \n",
    "*False*  \n",
    "* *If u is perpendicular to v and w, then u is perpendicular to v + 2w*  \n",
    "*True*  \n",
    "* *If u and v are perpendicular unit vectors then ||u - v|| = sqrt(2)*  \n",
    "*True*  "
   ]
  },
  {
   "cell_type": "code",
   "execution_count": 39,
   "metadata": {},
   "outputs": [
    {
     "name": "stdout",
     "output_type": "stream",
     "text": [
      "1.4142135623730951 1.4142135623730951\n"
     ]
    }
   ],
   "source": [
    "u = np.array([0,1])\n",
    "v = np.array([1,0])\n",
    "\n",
    "print(np.linalg.norm(u-v), math.sqrt(2))"
   ]
  },
  {
   "cell_type": "markdown",
   "metadata": {},
   "source": [
    "### №9"
   ]
  },
  {
   "cell_type": "markdown",
   "metadata": {},
   "source": [
    "*If v2·w2/v1·w1 = −1*  \n",
    "*then v2·w2 = −v1·w1 or v1·w1+v2·w2 = v·w = 0: perpendicular!*"
   ]
  },
  {
   "cell_type": "code",
   "execution_count": 42,
   "metadata": {},
   "outputs": [
    {
     "name": "stdout",
     "output_type": "stream",
     "text": [
      "90.0\n",
      "-1.0\n"
     ]
    }
   ],
   "source": [
    "v1 = 1\n",
    "v2 = 4*v1\n",
    "v = np.array([v1,v2])\n",
    "\n",
    "w1 = 1\n",
    "w2 = -1/4*w1\n",
    "w = np.array([w1,w2])\n",
    "\n",
    "print(round(angle(v, w)))\n",
    "\n",
    "print(v2*w2/v1*w1)"
   ]
  },
  {
   "cell_type": "markdown",
   "metadata": {},
   "source": [
    "### №10"
   ]
  },
  {
   "cell_type": "code",
   "execution_count": 48,
   "metadata": {},
   "outputs": [
    {
     "name": "stdout",
     "output_type": "stream",
     "text": [
      "-1.0\n",
      "0.0\n",
      "90.0\n"
     ]
    }
   ],
   "source": [
    "v = np.array([1,2])\n",
    "w = np.array([-2,1])\n",
    "\n",
    "print(v[1]/v[0] * w[1]/w[0])\n",
    "print(np.dot(v,w)/(np.linalg.norm(v)*np.linalg.norm(w)))\n",
    "print(round(angle(v,w)))"
   ]
  },
  {
   "cell_type": "markdown",
   "metadata": {},
   "source": [
    "### №11"
   ]
  },
  {
   "cell_type": "markdown",
   "metadata": {},
   "source": [
    "*v · w < 0 means angle > 90◦*  \n",
    "*these w’s fill half of 3-dimensional space*"
   ]
  },
  {
   "cell_type": "markdown",
   "metadata": {},
   "source": [
    "### №12"
   ]
  },
  {
   "cell_type": "code",
   "execution_count": 50,
   "metadata": {},
   "outputs": [
    {
     "name": "stdout",
     "output_type": "stream",
     "text": [
      "3.0\n"
     ]
    }
   ],
   "source": [
    "v = np.array([1,1])\n",
    "w = np.array([1,5])\n",
    "\n",
    "# c = v·w / v·v\n",
    "c = np.dot(v,w)/np.dot(v,v)\n",
    "print(c)"
   ]
  },
  {
   "cell_type": "markdown",
   "metadata": {},
   "source": [
    "### №13"
   ]
  },
  {
   "cell_type": "markdown",
   "metadata": {},
   "source": [
    "*Find perpendicular vector to (1,0,1)*  \n",
    "*Answer: all vectors (c, d, −c)*"
   ]
  },
  {
   "cell_type": "markdown",
   "metadata": {},
   "source": [
    "### №14"
   ]
  },
  {
   "cell_type": "markdown",
   "metadata": {},
   "source": [
    "*Find nonzero vectors u, v, w that are perpendicular to (1, 1, 1, 1) and to each other*"
   ]
  },
  {
   "cell_type": "markdown",
   "metadata": {},
   "source": [
    "*Answer: u = (1, −1, 0, 0), v = (0, 0, 1, −1), w = (1, 1, −1, −1)\n",
    "and (1, 1, 1, 1) are perpendicular to each other*"
   ]
  },
  {
   "cell_type": "markdown",
   "metadata": {},
   "source": [
    "### №15"
   ]
  },
  {
   "cell_type": "code",
   "execution_count": 53,
   "metadata": {},
   "outputs": [
    {
     "name": "stdout",
     "output_type": "stream",
     "text": [
      "0.8\n"
     ]
    }
   ],
   "source": [
    "u = np.array([math.sqrt(2),math.sqrt(8)])\n",
    "w = np.array([math.sqrt(8),math.sqrt(2)])\n",
    "\n",
    "cosine = np.dot(u,w) / (np.linalg.norm(u) * np.linalg.norm(u))\n",
    "print(cosine)"
   ]
  },
  {
   "cell_type": "markdown",
   "metadata": {},
   "source": [
    "### №16"
   ]
  },
  {
   "cell_type": "code",
   "execution_count": 55,
   "metadata": {},
   "outputs": [
    {
     "name": "stdout",
     "output_type": "stream",
     "text": [
      "3.0\n",
      "[0.33333333 0.33333333 0.33333333 0.33333333 0.33333333 0.33333333\n",
      " 0.33333333 0.33333333 0.33333333]\n"
     ]
    }
   ],
   "source": [
    "v = np.array([1,1,1,1,1,1,1,1,1])\n",
    "\n",
    "magnitude = np.linalg.norm(v)\n",
    "print(magnitude)\n",
    "\n",
    "v_unit = v/magnitude\n",
    "print(v_unit)"
   ]
  },
  {
   "cell_type": "markdown",
   "metadata": {},
   "source": [
    "### №18"
   ]
  },
  {
   "cell_type": "code",
   "execution_count": 76,
   "metadata": {},
   "outputs": [
    {
     "name": "stdout",
     "output_type": "stream",
     "text": [
      "[20.  5. 25.]\n"
     ]
    }
   ],
   "source": [
    "v = np.array([4,2])\n",
    "w = np.array([-1,2])\n",
    "\n",
    "len_v = length(v)\n",
    "len_w = length(w)\n",
    "len_vw = length(v+w)\n",
    "\n",
    "print(np.around([len_v**2, len_w**2, len_vw**2]))"
   ]
  },
  {
   "cell_type": "markdown",
   "metadata": {},
   "source": [
    "### №19"
   ]
  },
  {
   "cell_type": "code",
   "execution_count": 84,
   "metadata": {},
   "outputs": [
    {
     "name": "stdout",
     "output_type": "stream",
     "text": [
      "1. 43 = 43\n",
      "2. 72 = 36 + 36\n",
      "3. 430 = 430\n"
     ]
    }
   ],
   "source": [
    "#example\n",
    "v = np.array([5,4])\n",
    "w = np.array([7,2])\n",
    "u = np.array([4,4])\n",
    "c = 10\n",
    "\n",
    "# v·w = w·v\n",
    "print(\"1.\", np.dot(v,w), \"=\", np.dot(w,v))\n",
    "# u·(v+w)= u·v + u·w\n",
    "print(\"2.\", np.dot(u,v+w), \"=\", np.dot(u,v), \"+\", np.dot(u,w))\n",
    "# (cv)·w = c(v·w)\n",
    "print(\"3.\", np.dot(c*v,w), \"=\", c*np.dot(v,w))"
   ]
  },
  {
   "cell_type": "markdown",
   "metadata": {},
   "source": [
    "### №20"
   ]
  },
  {
   "cell_type": "code",
   "execution_count": 90,
   "metadata": {},
   "outputs": [
    {
     "name": "stdout",
     "output_type": "stream",
     "text": [
      "8.0\n",
      "8.0\n"
     ]
    }
   ],
   "source": [
    "v = np.array([5,4])\n",
    "w = np.array([7,2])\n",
    "\n",
    "# ||v-w||^2\n",
    "print(round(length(v-w)**2))\n",
    "\n",
    "# ||v||^2 - 2||v||*||w||*cos_vw + ||w||^2\n",
    "print(round(length(v)**2 - 2*length(v)*length(w)*np.cos(angle_between(v,w)) + length(w)**2))"
   ]
  }
 ],
 "metadata": {
  "kernelspec": {
   "display_name": "Python 3",
   "language": "python",
   "name": "python3"
  },
  "language_info": {
   "codemirror_mode": {
    "name": "ipython",
    "version": 3
   },
   "file_extension": ".py",
   "mimetype": "text/x-python",
   "name": "python",
   "nbconvert_exporter": "python",
   "pygments_lexer": "ipython3",
   "version": "3.7.6"
  }
 },
 "nbformat": 4,
 "nbformat_minor": 4
}
