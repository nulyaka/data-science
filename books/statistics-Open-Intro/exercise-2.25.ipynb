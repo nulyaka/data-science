{
 "cells": [
  {
   "cell_type": "markdown",
   "metadata": {},
   "source": [
    "### Side effects of Avandia"
   ]
  },
  {
   "cell_type": "markdown",
   "metadata": {},
   "source": [
    "Rosiglitazone is the active ingredient in the controversial type 2 diabetes\n",
    "medicine Avandia and has been linked to an increased risk of serious cardiovascular problems such as stroke,\n",
    "heart failure, and death. A common alternative treatment is pioglitazone, the active ingredient in a diabetes\n",
    "medicine called Actos. In a nationwide retrospective observational study of 227,571 Medicare beneficiaries\n",
    "aged 65 years or older, it was found that 2,593 of the 67,593 patients using rosiglitazone and 5,386 of\n",
    "the 159,978 using pioglitazone had serious cardiovascular problems. These data are summarized in the\n",
    "contingency table below."
   ]
  },
  {
   "cell_type": "code",
   "execution_count": 176,
   "metadata": {},
   "outputs": [],
   "source": [
    "import pandas as pd\n",
    "import numpy as np\n",
    "import matplotlib.pyplot as plt"
   ]
  },
  {
   "cell_type": "code",
   "execution_count": 2,
   "metadata": {},
   "outputs": [],
   "source": [
    "data = {'treatment':[\"rosiglitazone\", \"pioglitazone\"], \n",
    "        'yes':[2593, 5386], \n",
    "        'no':[65000, 154592], \n",
    "        'total': [67593,159978]}"
   ]
  },
  {
   "cell_type": "code",
   "execution_count": 3,
   "metadata": {},
   "outputs": [],
   "source": [
    "df = pd.DataFrame(data=data)"
   ]
  },
  {
   "cell_type": "code",
   "execution_count": 4,
   "metadata": {},
   "outputs": [
    {
     "data": {
      "text/html": [
       "<div>\n",
       "<style scoped>\n",
       "    .dataframe tbody tr th:only-of-type {\n",
       "        vertical-align: middle;\n",
       "    }\n",
       "\n",
       "    .dataframe tbody tr th {\n",
       "        vertical-align: top;\n",
       "    }\n",
       "\n",
       "    .dataframe thead th {\n",
       "        text-align: right;\n",
       "    }\n",
       "</style>\n",
       "<table border=\"1\" class=\"dataframe\">\n",
       "  <thead>\n",
       "    <tr style=\"text-align: right;\">\n",
       "      <th></th>\n",
       "      <th>treatment</th>\n",
       "      <th>yes</th>\n",
       "      <th>no</th>\n",
       "      <th>total</th>\n",
       "    </tr>\n",
       "  </thead>\n",
       "  <tbody>\n",
       "    <tr>\n",
       "      <th>0</th>\n",
       "      <td>rosiglitazone</td>\n",
       "      <td>2593</td>\n",
       "      <td>65000</td>\n",
       "      <td>67593</td>\n",
       "    </tr>\n",
       "    <tr>\n",
       "      <th>1</th>\n",
       "      <td>pioglitazone</td>\n",
       "      <td>5386</td>\n",
       "      <td>154592</td>\n",
       "      <td>159978</td>\n",
       "    </tr>\n",
       "  </tbody>\n",
       "</table>\n",
       "</div>"
      ],
      "text/plain": [
       "       treatment   yes      no   total\n",
       "0  rosiglitazone  2593   65000   67593\n",
       "1   pioglitazone  5386  154592  159978"
      ]
     },
     "execution_count": 4,
     "metadata": {},
     "output_type": "execute_result"
    }
   ],
   "source": [
    "df.head()"
   ]
  },
  {
   "cell_type": "markdown",
   "metadata": {},
   "source": [
    "#### H_o: treatment and rate of problems are independent\n",
    "#### H_a: they are not"
   ]
  },
  {
   "cell_type": "code",
   "execution_count": 95,
   "metadata": {},
   "outputs": [
    {
     "name": "stdout",
     "output_type": "stream",
     "text": [
      "7979\n"
     ]
    }
   ],
   "source": [
    "yes = df['yes'].sum()\n",
    "print(yes)"
   ]
  },
  {
   "cell_type": "code",
   "execution_count": 96,
   "metadata": {},
   "outputs": [
    {
     "name": "stdout",
     "output_type": "stream",
     "text": [
      "227571\n"
     ]
    }
   ],
   "source": [
    "total = df['total'].sum()\n",
    "print(total)"
   ]
  },
  {
   "cell_type": "code",
   "execution_count": 104,
   "metadata": {},
   "outputs": [
    {
     "name": "stdout",
     "output_type": "stream",
     "text": [
      "0.03506158517561552\n"
     ]
    }
   ],
   "source": [
    "rate = yes/total\n",
    "print(rate)"
   ]
  },
  {
   "cell_type": "code",
   "execution_count": 102,
   "metadata": {},
   "outputs": [
    {
     "name": "stdout",
     "output_type": "stream",
     "text": [
      "67593\n"
     ]
    }
   ],
   "source": [
    "ros_total = df['total'][0]\n",
    "print(ros_total)"
   ]
  },
  {
   "cell_type": "code",
   "execution_count": 109,
   "metadata": {},
   "outputs": [
    {
     "name": "stdout",
     "output_type": "stream",
     "text": [
      "2593\n"
     ]
    }
   ],
   "source": [
    "ros_yes = df['yes'][0]\n",
    "print(ros_yes)"
   ]
  },
  {
   "cell_type": "code",
   "execution_count": 110,
   "metadata": {},
   "outputs": [
    {
     "name": "stdout",
     "output_type": "stream",
     "text": [
      "2369.91772677538\n"
     ]
    }
   ],
   "source": [
    "ros_yes_must_be = rate * ros_total\n",
    "print(ros_rate)"
   ]
  },
  {
   "cell_type": "markdown",
   "metadata": {},
   "source": [
    "*As we see rosiglitazone amount of problems(yes) are more than we expect, if treatment and outcome were independent*"
   ]
  },
  {
   "cell_type": "markdown",
   "metadata": {},
   "source": [
    "*We must check the probability of it happening*"
   ]
  },
  {
   "cell_type": "markdown",
   "metadata": {},
   "source": [
    "#### simulation (1 shuffle)"
   ]
  },
  {
   "cell_type": "code",
   "execution_count": 168,
   "metadata": {},
   "outputs": [],
   "source": [
    "sim1 = np.zeros(total, dtype=int)\n",
    "sim1[:yes] = 1\n",
    "np.random.shuffle(sim1)\n",
    "sim1 = sim1.astype(bool)"
   ]
  },
  {
   "cell_type": "code",
   "execution_count": 169,
   "metadata": {},
   "outputs": [
    {
     "name": "stdout",
     "output_type": "stream",
     "text": [
      "2398\n"
     ]
    }
   ],
   "source": [
    "sample1 = sim1[:ros_total]\n",
    "count1 = np.count_nonzero(sample1)\n",
    "print(count1)"
   ]
  },
  {
   "cell_type": "markdown",
   "metadata": {},
   "source": [
    "#### simulation (1000 shuffles) and save the counts"
   ]
  },
  {
   "cell_type": "code",
   "execution_count": 174,
   "metadata": {},
   "outputs": [],
   "source": [
    "counts = [0]*1000"
   ]
  },
  {
   "cell_type": "code",
   "execution_count": 175,
   "metadata": {},
   "outputs": [],
   "source": [
    "sim = np.zeros(total, dtype=int)\n",
    "sim[:yes] = 1\n",
    "\n",
    "for i in range(1000):\n",
    "    np.random.shuffle(sim)\n",
    "    sample = sim[:ros_total]\n",
    "    count = np.count_nonzero(sample)\n",
    "    counts[i] = count"
   ]
  },
  {
   "cell_type": "code",
   "execution_count": 186,
   "metadata": {},
   "outputs": [
    {
     "data": {
      "image/png": "[encoded data removed]",
      "text/plain": [
       "<Figure size 432x288 with 1 Axes>"
      ]
     },
     "metadata": {
      "needs_background": "light"
     },
     "output_type": "display_data"
    }
   ],
   "source": [
    "plt.hist(counts, bins=20)\n",
    "plt.show()"
   ]
  },
  {
   "cell_type": "code",
   "execution_count": 188,
   "metadata": {},
   "outputs": [
    {
     "name": "stdout",
     "output_type": "stream",
     "text": [
      "2369.682\n"
     ]
    }
   ],
   "source": [
    "mean = sum(counts)/len(counts)\n",
    "print(mean)"
   ]
  },
  {
   "cell_type": "markdown",
   "metadata": {},
   "source": [
    "*The mean is approximetaly 2369, and our 'yes' rate in Rosiglitazone treatment is 2593, which is far beyond the mean and is an outlier (we can see it visually). We should reject H_o. Treatments are not independent.*"
   ]
  }
 ],
 "metadata": {
  "kernelspec": {
   "display_name": "Python 3",
   "language": "python",
   "name": "python3"
  },
  "language_info": {
   "codemirror_mode": {
    "name": "ipython",
    "version": 3
   },
   "file_extension": ".py",
   "mimetype": "text/x-python",
   "name": "python",
   "nbconvert_exporter": "python",
   "pygments_lexer": "ipython3",
   "version": "3.7.6"
  }
 },
 "nbformat": 4,
 "nbformat_minor": 4
}
