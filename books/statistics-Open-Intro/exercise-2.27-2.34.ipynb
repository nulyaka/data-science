{
 "cells": [
  {
   "cell_type": "code",
   "execution_count": 79,
   "metadata": {},
   "outputs": [],
   "source": [
    "import pandas as pd\n",
    "import matplotlib.pyplot as plt\n",
    "import numpy as np"
   ]
  },
  {
   "cell_type": "markdown",
   "metadata": {},
   "source": [
    "### 2.27 Make-up exam."
   ]
  },
  {
   "cell_type": "markdown",
   "metadata": {},
   "source": [
    "In a class of 25 students, 24 of them took an exam in class and 1 student took a\n",
    "make-up exam the following day. The professor graded the first batch of 24 exams and found an average\n",
    "score of 74 points with a standard deviation of 8.9 points. The student who took the make-up the following\n",
    "day scored 64 points on the exam."
   ]
  },
  {
   "cell_type": "markdown",
   "metadata": {},
   "source": [
    "* (a) Does the new student’s score increase or decrease the average score?\n",
    "* (b) What is the new average?\n",
    "* (c) Does the new student’s score increase or decrease the standard deviation of the scores?"
   ]
  },
  {
   "cell_type": "code",
   "execution_count": 2,
   "metadata": {},
   "outputs": [
    {
     "name": "stdout",
     "output_type": "stream",
     "text": [
      "73.6\n"
     ]
    }
   ],
   "source": [
    "# (a) decrease\n",
    "\n",
    "# (b) calculating weighted mean\n",
    "new_mean = (24*74 + 1*64)/(24+1)\n",
    "print(new_mean)\n",
    "\n",
    "# (c) increase"
   ]
  },
  {
   "cell_type": "markdown",
   "metadata": {},
   "source": [
    "### 2.28 Infant mortality."
   ]
  },
  {
   "cell_type": "markdown",
   "metadata": {},
   "source": [
    "The infant mortality rate is defined as the number of infant deaths per 1,000 live\n",
    "births. This rate is often used as an indicator of the level of health in a country. The relative frequency\n",
    "histogram below shows the distribution of estimated infant death rates for 224 countries for which such data\n",
    "were available in 2014."
   ]
  },
  {
   "cell_type": "markdown",
   "metadata": {},
   "source": [
    "* (a) Estimate Q1, the median, and Q3 from the\n",
    "histogram.\n",
    "* (b) Would you expect the mean of this data set\n",
    "to be smaller or larger than the median?\n",
    "Explain your reasoning"
   ]
  },
  {
   "cell_type": "code",
   "execution_count": 24,
   "metadata": {},
   "outputs": [
    {
     "data": {
      "text/html": [
       "<div>\n",
       "<style scoped>\n",
       "    .dataframe tbody tr th:only-of-type {\n",
       "        vertical-align: middle;\n",
       "    }\n",
       "\n",
       "    .dataframe tbody tr th {\n",
       "        vertical-align: top;\n",
       "    }\n",
       "\n",
       "    .dataframe thead th {\n",
       "        text-align: right;\n",
       "    }\n",
       "</style>\n",
       "<table border=\"1\" class=\"dataframe\">\n",
       "  <thead>\n",
       "    <tr style=\"text-align: right;\">\n",
       "      <th></th>\n",
       "      <th>country</th>\n",
       "      <th>inf_mort_rate</th>\n",
       "    </tr>\n",
       "  </thead>\n",
       "  <tbody>\n",
       "    <tr>\n",
       "      <th>0</th>\n",
       "      <td>Afghanistan</td>\n",
       "      <td>121.63</td>\n",
       "    </tr>\n",
       "    <tr>\n",
       "      <th>1</th>\n",
       "      <td>Niger</td>\n",
       "      <td>109.98</td>\n",
       "    </tr>\n",
       "    <tr>\n",
       "      <th>2</th>\n",
       "      <td>Mali</td>\n",
       "      <td>109.08</td>\n",
       "    </tr>\n",
       "    <tr>\n",
       "      <th>3</th>\n",
       "      <td>Somalia</td>\n",
       "      <td>103.72</td>\n",
       "    </tr>\n",
       "    <tr>\n",
       "      <th>4</th>\n",
       "      <td>Central African Republic</td>\n",
       "      <td>97.17</td>\n",
       "    </tr>\n",
       "  </tbody>\n",
       "</table>\n",
       "</div>"
      ],
      "text/plain": [
       "                    country  inf_mort_rate\n",
       "0               Afghanistan         121.63\n",
       "1                     Niger         109.98\n",
       "2                      Mali         109.08\n",
       "3                   Somalia         103.72\n",
       "4  Central African Republic          97.17"
      ]
     },
     "execution_count": 24,
     "metadata": {},
     "output_type": "execute_result"
    }
   ],
   "source": [
    "df = pd.read_csv('infmortrate.csv')\n",
    "df.head()"
   ]
  },
  {
   "cell_type": "code",
   "execution_count": 23,
   "metadata": {},
   "outputs": [
    {
     "data": {
      "image/png": "[encoded data removed]",
      "text/plain": [
       "<Figure size 432x288 with 1 Axes>"
      ]
     },
     "metadata": {
      "needs_background": "light"
     },
     "output_type": "display_data"
    }
   ],
   "source": [
    "plt.hist(df['inf_mort_rate'], bins='auto', density='True')\n",
    "plt.show()"
   ]
  },
  {
   "cell_type": "code",
   "execution_count": 26,
   "metadata": {},
   "outputs": [
    {
     "name": "stdout",
     "output_type": "stream",
     "text": [
      "26.70189189189188\n"
     ]
    }
   ],
   "source": [
    "mean = df['inf_mort_rate'].mean()\n",
    "print(mean)"
   ]
  },
  {
   "cell_type": "code",
   "execution_count": 39,
   "metadata": {},
   "outputs": [
    {
     "name": "stdout",
     "output_type": "stream",
     "text": [
      "0.25     6.505\n",
      "0.50    15.615\n",
      "0.75    42.140\n",
      "Name: inf_mort_rate, dtype: float64\n"
     ]
    }
   ],
   "source": [
    "qt = df.inf_mort_rate.quantile([0.25,0.5,0.75])\n",
    "print(qt)"
   ]
  },
  {
   "cell_type": "code",
   "execution_count": 30,
   "metadata": {},
   "outputs": [],
   "source": [
    "# (b)mean is larger than median because data is right skewed"
   ]
  },
  {
   "cell_type": "markdown",
   "metadata": {},
   "source": [
    "### 2.29 TV watchers."
   ]
  },
  {
   "cell_type": "markdown",
   "metadata": {},
   "source": [
    "Students in an AP Statistics class were asked how many hours of television they\n",
    "watch per week (including online streaming). This sample yielded an average of 4.71 hours, with a standard\n",
    "deviation of 4.18 hours. Is the distribution of number of hours students watch television weekly symmetric?\n",
    "If not, what shape would you expect this distribution to have? Explain your reasoning."
   ]
  },
  {
   "cell_type": "markdown",
   "metadata": {},
   "source": [
    "*The data is very spread and you can't watch TV less than 0 hours. Hence the data will be right skewed*"
   ]
  },
  {
   "cell_type": "markdown",
   "metadata": {},
   "source": [
    "### 2.30 A new statistic. "
   ]
  },
  {
   "cell_type": "markdown",
   "metadata": {},
   "source": [
    "The statistic mean/median can be used as a measure of skewness. Suppose we have a\n",
    "distribution where all observations are greater than 0, x_i > 0. What is the expected shape of the distribution\n",
    "under the following conditions? Explain your reasoning."
   ]
  },
  {
   "cell_type": "markdown",
   "metadata": {},
   "source": [
    "* (a) mean / median = 1\n",
    "* (b) mean / median < 1\n",
    "* (c) mean / median > 1"
   ]
  },
  {
   "cell_type": "markdown",
   "metadata": {},
   "source": [
    "* *(a) when mean and median are equal the data is symmetric*\n",
    "* *(b) when mean is larger than median, then data is right skewed*\n",
    "* *(c) when mean is smaller than median, then data is left skewed*"
   ]
  },
  {
   "cell_type": "markdown",
   "metadata": {},
   "source": [
    "### 2.31 Oscar winners. "
   ]
  },
  {
   "cell_type": "markdown",
   "metadata": {},
   "source": [
    "The first Oscar awards for best actor and best actress were given out in 1929. The\n",
    "histograms below show the age distribution for all of the best actor and best actress winners from 1929 to 2018. Summary statistics for these distributions are also provided. Compare the distributions of ages of\n",
    "best actor and actress winners"
   ]
  },
  {
   "cell_type": "code",
   "execution_count": 49,
   "metadata": {},
   "outputs": [
    {
     "data": {
      "text/html": [
       "<div>\n",
       "<style scoped>\n",
       "    .dataframe tbody tr th:only-of-type {\n",
       "        vertical-align: middle;\n",
       "    }\n",
       "\n",
       "    .dataframe tbody tr th {\n",
       "        vertical-align: top;\n",
       "    }\n",
       "\n",
       "    .dataframe thead th {\n",
       "        text-align: right;\n",
       "    }\n",
       "</style>\n",
       "<table border=\"1\" class=\"dataframe\">\n",
       "  <thead>\n",
       "    <tr style=\"text-align: right;\">\n",
       "      <th></th>\n",
       "      <th>oscar_no</th>\n",
       "      <th>oscar_yr</th>\n",
       "      <th>award</th>\n",
       "      <th>name</th>\n",
       "      <th>movie</th>\n",
       "      <th>age</th>\n",
       "      <th>birth_pl</th>\n",
       "      <th>birth_date</th>\n",
       "      <th>birth_mo</th>\n",
       "      <th>birth_d</th>\n",
       "      <th>birth_y</th>\n",
       "    </tr>\n",
       "  </thead>\n",
       "  <tbody>\n",
       "    <tr>\n",
       "      <th>0</th>\n",
       "      <td>1</td>\n",
       "      <td>1929</td>\n",
       "      <td>Best actress</td>\n",
       "      <td>Janet Gaynor</td>\n",
       "      <td>7th Heaven</td>\n",
       "      <td>22</td>\n",
       "      <td>Pennsylvania</td>\n",
       "      <td>1906-10-06</td>\n",
       "      <td>10</td>\n",
       "      <td>6</td>\n",
       "      <td>1906</td>\n",
       "    </tr>\n",
       "    <tr>\n",
       "      <th>1</th>\n",
       "      <td>2</td>\n",
       "      <td>1930</td>\n",
       "      <td>Best actress</td>\n",
       "      <td>Mary Pickford</td>\n",
       "      <td>Coquette</td>\n",
       "      <td>37</td>\n",
       "      <td>Canada</td>\n",
       "      <td>1892-04-08</td>\n",
       "      <td>4</td>\n",
       "      <td>8</td>\n",
       "      <td>1892</td>\n",
       "    </tr>\n",
       "    <tr>\n",
       "      <th>2</th>\n",
       "      <td>3</td>\n",
       "      <td>1931</td>\n",
       "      <td>Best actress</td>\n",
       "      <td>Norma Shearer</td>\n",
       "      <td>The Divorcee</td>\n",
       "      <td>28</td>\n",
       "      <td>Canada</td>\n",
       "      <td>1902-08-10</td>\n",
       "      <td>8</td>\n",
       "      <td>10</td>\n",
       "      <td>1902</td>\n",
       "    </tr>\n",
       "    <tr>\n",
       "      <th>3</th>\n",
       "      <td>4</td>\n",
       "      <td>1932</td>\n",
       "      <td>Best actress</td>\n",
       "      <td>Marie Dressler</td>\n",
       "      <td>Min and Bill</td>\n",
       "      <td>63</td>\n",
       "      <td>Canada</td>\n",
       "      <td>1868-11-09</td>\n",
       "      <td>11</td>\n",
       "      <td>9</td>\n",
       "      <td>1868</td>\n",
       "    </tr>\n",
       "    <tr>\n",
       "      <th>4</th>\n",
       "      <td>5</td>\n",
       "      <td>1933</td>\n",
       "      <td>Best actress</td>\n",
       "      <td>Helen Hayes</td>\n",
       "      <td>The Sin of Madelon Claudet</td>\n",
       "      <td>32</td>\n",
       "      <td>Washington DC</td>\n",
       "      <td>1900-10-10</td>\n",
       "      <td>10</td>\n",
       "      <td>10</td>\n",
       "      <td>1900</td>\n",
       "    </tr>\n",
       "  </tbody>\n",
       "</table>\n",
       "</div>"
      ],
      "text/plain": [
       "   oscar_no  oscar_yr         award            name  \\\n",
       "0         1      1929  Best actress    Janet Gaynor   \n",
       "1         2      1930  Best actress   Mary Pickford   \n",
       "2         3      1931  Best actress   Norma Shearer   \n",
       "3         4      1932  Best actress  Marie Dressler   \n",
       "4         5      1933  Best actress     Helen Hayes   \n",
       "\n",
       "                        movie  age       birth_pl  birth_date  birth_mo  \\\n",
       "0                  7th Heaven   22   Pennsylvania  1906-10-06        10   \n",
       "1                    Coquette   37         Canada  1892-04-08         4   \n",
       "2                The Divorcee   28         Canada  1902-08-10         8   \n",
       "3                Min and Bill   63         Canada  1868-11-09        11   \n",
       "4  The Sin of Madelon Claudet   32  Washington DC  1900-10-10        10   \n",
       "\n",
       "   birth_d  birth_y  \n",
       "0        6     1906  \n",
       "1        8     1892  \n",
       "2       10     1902  \n",
       "3        9     1868  \n",
       "4       10     1900  "
      ]
     },
     "execution_count": 49,
     "metadata": {},
     "output_type": "execute_result"
    }
   ],
   "source": [
    "df = pd.read_csv('oscars.csv')\n",
    "df.head()"
   ]
  },
  {
   "cell_type": "code",
   "execution_count": 64,
   "metadata": {},
   "outputs": [],
   "source": [
    "df_men = df[df.award == \"Best actor\"]\n",
    "df_women = df[df.award == \"Best actress\"]"
   ]
  },
  {
   "cell_type": "code",
   "execution_count": 77,
   "metadata": {},
   "outputs": [
    {
     "data": {
      "image/png": "[encoded data removed]",
      "text/plain": [
       "<Figure size 432x288 with 1 Axes>"
      ]
     },
     "metadata": {
      "needs_background": "light"
     },
     "output_type": "display_data"
    },
    {
     "name": "stdout",
     "output_type": "stream",
     "text": [
      "44 9 92\n"
     ]
    },
    {
     "data": {
      "image/png": "[encoded data removed]",
      "text/plain": [
       "<Figure size 432x288 with 1 Axes>"
      ]
     },
     "metadata": {
      "needs_background": "light"
     },
     "output_type": "display_data"
    },
    {
     "name": "stdout",
     "output_type": "stream",
     "text": [
      "36 12 92\n"
     ]
    }
   ],
   "source": [
    "plt.hist(df_men.age, bins='auto')\n",
    "plt.show()\n",
    "print(round(df_men.age.mean()), round(df_men.age.std()), len(df_men.age))\n",
    "plt.hist(df_women.age, bins='auto')\n",
    "plt.show()\n",
    "print(round(df_women.age.mean()), round(df_women.age.std()), len(df_women.age))"
   ]
  },
  {
   "cell_type": "markdown",
   "metadata": {},
   "source": [
    "### 2.32 Exam scores. "
   ]
  },
  {
   "cell_type": "markdown",
   "metadata": {},
   "source": [
    "The average on a history exam (scored out of 100 points) was 85, with a standard\n",
    "deviation of 15. Is the distribution of the scores on this exam symmetric? If not, what shape would you\n",
    "expect this distribution to have? Explain your reasoning."
   ]
  },
  {
   "cell_type": "markdown",
   "metadata": {},
   "source": [
    "*It's assumed to be an approximately symmetrix with little skew in left, because the data is wide spread with std of 15.*"
   ]
  },
  {
   "cell_type": "markdown",
   "metadata": {},
   "source": [
    "### 2.33 Stats scores. "
   ]
  },
  {
   "cell_type": "markdown",
   "metadata": {},
   "source": [
    "Below are the final exam scores of twenty introductory statistics students.  \n",
    "57, 66, 69, 71, 72, 73, 74, 77, 78, 78, 79, 79, 81, 81, 82, 83, 83, 88, 89, 94.  "
   ]
  },
  {
   "cell_type": "code",
   "execution_count": 81,
   "metadata": {},
   "outputs": [],
   "source": [
    "my_list = np.array([57, 66, 69, 71, 72, 73, 74, 77, 78, 78, \n",
    "                    79, 79, 81, 81, 82, 83, 83, 88, 89, 94])"
   ]
  },
  {
   "cell_type": "code",
   "execution_count": 93,
   "metadata": {},
   "outputs": [
    {
     "data": {
      "image/png": "[encoded data removed]",
      "text/plain": [
       "<Figure size 432x288 with 1 Axes>"
      ]
     },
     "metadata": {
      "needs_background": "light"
     },
     "output_type": "display_data"
    }
   ],
   "source": [
    "plt.boxplot(my_list, vert=False)\n",
    "plt.show()"
   ]
  },
  {
   "cell_type": "markdown",
   "metadata": {},
   "source": [
    "### 2.34 Marathon winners. "
   ]
  },
  {
   "cell_type": "markdown",
   "metadata": {},
   "source": [
    "The histogram and box plots below show the distribution of finishing times for\n",
    "male and female winners of the New York Marathon between 1970 and 1999."
   ]
  },
  {
   "cell_type": "code",
   "execution_count": 109,
   "metadata": {},
   "outputs": [
    {
     "data": {
      "text/html": [
       "<div>\n",
       "<style scoped>\n",
       "    .dataframe tbody tr th:only-of-type {\n",
       "        vertical-align: middle;\n",
       "    }\n",
       "\n",
       "    .dataframe tbody tr th {\n",
       "        vertical-align: top;\n",
       "    }\n",
       "\n",
       "    .dataframe thead th {\n",
       "        text-align: right;\n",
       "    }\n",
       "</style>\n",
       "<table border=\"1\" class=\"dataframe\">\n",
       "  <thead>\n",
       "    <tr style=\"text-align: right;\">\n",
       "      <th></th>\n",
       "      <th>year</th>\n",
       "      <th>gender</th>\n",
       "      <th>time</th>\n",
       "    </tr>\n",
       "  </thead>\n",
       "  <tbody>\n",
       "    <tr>\n",
       "      <th>0</th>\n",
       "      <td>1980</td>\n",
       "      <td>m</td>\n",
       "      <td>2.16139</td>\n",
       "    </tr>\n",
       "    <tr>\n",
       "      <th>1</th>\n",
       "      <td>1981</td>\n",
       "      <td>m</td>\n",
       "      <td>2.13694</td>\n",
       "    </tr>\n",
       "    <tr>\n",
       "      <th>2</th>\n",
       "      <td>1982</td>\n",
       "      <td>m</td>\n",
       "      <td>2.15806</td>\n",
       "    </tr>\n",
       "    <tr>\n",
       "      <th>3</th>\n",
       "      <td>1983</td>\n",
       "      <td>m</td>\n",
       "      <td>2.14972</td>\n",
       "    </tr>\n",
       "    <tr>\n",
       "      <th>4</th>\n",
       "      <td>1984</td>\n",
       "      <td>m</td>\n",
       "      <td>2.24806</td>\n",
       "    </tr>\n",
       "  </tbody>\n",
       "</table>\n",
       "</div>"
      ],
      "text/plain": [
       "   year gender     time\n",
       "0  1980      m  2.16139\n",
       "1  1981      m  2.13694\n",
       "2  1982      m  2.15806\n",
       "3  1983      m  2.14972\n",
       "4  1984      m  2.24806"
      ]
     },
     "execution_count": 109,
     "metadata": {},
     "output_type": "execute_result"
    }
   ],
   "source": [
    "df = pd.read_csv('marathon.csv')\n",
    "df.head()"
   ]
  },
  {
   "cell_type": "code",
   "execution_count": 101,
   "metadata": {},
   "outputs": [
    {
     "data": {
      "image/png": "[encoded data removed]",
      "text/plain": [
       "<Figure size 432x288 with 1 Axes>"
      ]
     },
     "metadata": {
      "needs_background": "light"
     },
     "output_type": "display_data"
    },
    {
     "data": {
      "image/png": "[encoded data removed]",
      "text/plain": [
       "<Figure size 432x288 with 1 Axes>"
      ]
     },
     "metadata": {
      "needs_background": "light"
     },
     "output_type": "display_data"
    }
   ],
   "source": [
    "plt.figure(1)\n",
    "plt.hist(df.time, bins='auto')\n",
    "plt.figure(2)\n",
    "plt.boxplot(df.time, vert=False)\n",
    "plt.show()"
   ]
  },
  {
   "cell_type": "markdown",
   "metadata": {},
   "source": [
    "* (a) What features of the distribution are apparent in the histogram and not the box plot?       What features are apparent in the box plot but not in the histogram?\n",
    "* (b) What may be the reason for the bimodal distribution? Explain.\n",
    "* (c) Compare the distribution of marathon times for men and women based on the box plot shown below."
   ]
  },
  {
   "cell_type": "markdown",
   "metadata": {},
   "source": [
    "* *(a) We see the peaks and highes proportions of time. We see median, Q1, Q1 and outliers*\n",
    "* *(b) Having several peaks makes it bimodal*\n",
    "* *(c) below*"
   ]
  },
  {
   "cell_type": "code",
   "execution_count": 110,
   "metadata": {},
   "outputs": [],
   "source": [
    "df_men = df[df.gender == \"m\"]\n",
    "df_women = df[df.gender == \"f\"]"
   ]
  },
  {
   "cell_type": "code",
   "execution_count": 111,
   "metadata": {},
   "outputs": [
    {
     "data": {
      "image/png": "[encoded data removed]",
      "text/plain": [
       "<Figure size 432x288 with 1 Axes>"
      ]
     },
     "metadata": {
      "needs_background": "light"
     },
     "output_type": "display_data"
    },
    {
     "data": {
      "image/png": "[encoded data removed]",
      "text/plain": [
       "<Figure size 432x288 with 1 Axes>"
      ]
     },
     "metadata": {
      "needs_background": "light"
     },
     "output_type": "display_data"
    },
    {
     "data": {
      "image/png": "[encoded data removed]",
      "text/plain": [
       "<Figure size 432x288 with 1 Axes>"
      ]
     },
     "metadata": {
      "needs_background": "light"
     },
     "output_type": "display_data"
    },
    {
     "data": {
      "image/png": "[encoded data removed]",
      "text/plain": [
       "<Figure size 432x288 with 1 Axes>"
      ]
     },
     "metadata": {
      "needs_background": "light"
     },
     "output_type": "display_data"
    }
   ],
   "source": [
    "plt.figure(1)\n",
    "plt.hist(df_men.time, bins='auto')\n",
    "plt.figure(2)\n",
    "plt.hist(df_women.time, bins='auto')\n",
    "plt.figure(3)\n",
    "plt.boxplot(df_men.time, vert=False)\n",
    "plt.figure(4)\n",
    "plt.boxplot(df_women.time, vert=False)\n",
    "plt.show()"
   ]
  },
  {
   "cell_type": "code",
   "execution_count": 114,
   "metadata": {},
   "outputs": [
    {
     "name": "stdout",
     "output_type": "stream",
     "text": [
      "2.2206 2.5662\n",
      "0.1076 0.2124\n",
      "2.1835 2.4686\n"
     ]
    }
   ],
   "source": [
    "print(round(df_men.time.mean(), 4), round(df_women.time.mean(), 4))\n",
    "print(round(df_men.time.std(), 4), round(df_women.time.std(), 4))\n",
    "print(round(df_men.time.median(), 4), round(df_women.time.median(), 4))"
   ]
  },
  {
   "cell_type": "markdown",
   "metadata": {},
   "source": [
    "*Men in average are faster than women according to statistics*  \n",
    "*The data is less spread in time in men data*  "
   ]
  }
 ],
 "metadata": {
  "kernelspec": {
   "display_name": "Python 3",
   "language": "python",
   "name": "python3"
  },
  "language_info": {
   "codemirror_mode": {
    "name": "ipython",
    "version": 3
   },
   "file_extension": ".py",
   "mimetype": "text/x-python",
   "name": "python",
   "nbconvert_exporter": "python",
   "pygments_lexer": "ipython3",
   "version": "3.7.6"
  }
 },
 "nbformat": 4,
 "nbformat_minor": 4
}
