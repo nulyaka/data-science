{
 "cells": [
  {
   "cell_type": "markdown",
   "metadata": {},
   "source": [
    "### Heart transplants\n",
    "The Stanford University Heart Transplant Study was conducted to determine\n",
    "whether an experimental heart transplant program increased lifespan. Each patient entering the program\n",
    "was designated an official heart transplant candidate, meaning that he was gravely ill and would most likely\n",
    "benefit from a new heart. Some patients got a transplant and some did not. The variable transplant\n",
    "indicates which group the patients were in; patients in the treatment group got a transplant and those in the\n",
    "control group did not. Of the 34 patients in the control group, 30 died. Of the 69 people in the treatment\n",
    "group, 45 died. Another variable called survived was used to indicate whether or not the patient was alive\n",
    "at the end of the study."
   ]
  },
  {
   "cell_type": "code",
   "execution_count": 2,
   "metadata": {},
   "outputs": [],
   "source": [
    "import numpy as np\n",
    "import pandas as pd\n",
    "import matplotlib.pyplot as plt"
   ]
  },
  {
   "cell_type": "code",
   "execution_count": 13,
   "metadata": {},
   "outputs": [],
   "source": [
    "data = {'groups':[\"treatment\",\"control\"], 'died':[45,30], 'not died':[24,4], 'total':[69,34]}"
   ]
  },
  {
   "cell_type": "code",
   "execution_count": 14,
   "metadata": {},
   "outputs": [],
   "source": [
    "df = pd.DataFrame(data=data)"
   ]
  },
  {
   "cell_type": "code",
   "execution_count": 15,
   "metadata": {},
   "outputs": [
    {
     "data": {
      "text/html": [
       "<div>\n",
       "<style scoped>\n",
       "    .dataframe tbody tr th:only-of-type {\n",
       "        vertical-align: middle;\n",
       "    }\n",
       "\n",
       "    .dataframe tbody tr th {\n",
       "        vertical-align: top;\n",
       "    }\n",
       "\n",
       "    .dataframe thead th {\n",
       "        text-align: right;\n",
       "    }\n",
       "</style>\n",
       "<table border=\"1\" class=\"dataframe\">\n",
       "  <thead>\n",
       "    <tr style=\"text-align: right;\">\n",
       "      <th></th>\n",
       "      <th>groups</th>\n",
       "      <th>died</th>\n",
       "      <th>not died</th>\n",
       "      <th>total</th>\n",
       "    </tr>\n",
       "  </thead>\n",
       "  <tbody>\n",
       "    <tr>\n",
       "      <th>0</th>\n",
       "      <td>treatment</td>\n",
       "      <td>45</td>\n",
       "      <td>24</td>\n",
       "      <td>69</td>\n",
       "    </tr>\n",
       "    <tr>\n",
       "      <th>1</th>\n",
       "      <td>control</td>\n",
       "      <td>30</td>\n",
       "      <td>4</td>\n",
       "      <td>34</td>\n",
       "    </tr>\n",
       "  </tbody>\n",
       "</table>\n",
       "</div>"
      ],
      "text/plain": [
       "      groups  died  not died  total\n",
       "0  treatment    45        24     69\n",
       "1    control    30         4     34"
      ]
     },
     "execution_count": 15,
     "metadata": {},
     "output_type": "execute_result"
    }
   ],
   "source": [
    "df"
   ]
  },
  {
   "cell_type": "code",
   "execution_count": 42,
   "metadata": {},
   "outputs": [
    {
     "name": "stdout",
     "output_type": "stream",
     "text": [
      "0.7281553398058253\n"
     ]
    }
   ],
   "source": [
    "rate = df['died'].sum()/df['total'].sum()\n",
    "print(ctr_rate)"
   ]
  },
  {
   "cell_type": "code",
   "execution_count": 27,
   "metadata": {},
   "outputs": [
    {
     "name": "stdout",
     "output_type": "stream",
     "text": [
      "0.6521739130434783\n"
     ]
    }
   ],
   "source": [
    "trt_rate = df['died'][0]/df['total'][0]\n",
    "print(trt_rate)"
   ]
  },
  {
   "cell_type": "code",
   "execution_count": 43,
   "metadata": {},
   "outputs": [
    {
     "name": "stdout",
     "output_type": "stream",
     "text": [
      "-0.07598142676234698\n"
     ]
    }
   ],
   "source": [
    "diff = trt_rate - rate\n",
    "print(diff)"
   ]
  },
  {
   "cell_type": "markdown",
   "metadata": {},
   "source": [
    "*We see a huge difference between rates. We want to check if treatment helps in reducing death rate*"
   ]
  },
  {
   "cell_type": "markdown",
   "metadata": {},
   "source": [
    "#### H_o: treatment doesn't help, difference is around 0\n",
    "#### H_a: treatment helps, difference is less than 0"
   ]
  },
  {
   "cell_type": "code",
   "execution_count": 39,
   "metadata": {},
   "outputs": [
    {
     "name": "stdout",
     "output_type": "stream",
     "text": [
      "75 103 69 34\n"
     ]
    }
   ],
   "source": [
    "died = df['died'].sum()\n",
    "total = df['total'].sum()\n",
    "trt_size = df['total'][0]\n",
    "\n",
    "print(died, total, trt_size, ctr_size)"
   ]
  },
  {
   "cell_type": "markdown",
   "metadata": {},
   "source": [
    "#### simulation and shuffle"
   ]
  },
  {
   "cell_type": "code",
   "execution_count": 46,
   "metadata": {},
   "outputs": [],
   "source": [
    "sim = np.zeros(total, dtype=int)\n",
    "sim[:died] = 1\n",
    "\n",
    "diffs = [0]*1000\n",
    "\n",
    "for i in range(1000):\n",
    "    np.random.shuffle(sim)\n",
    "    # dividing into treatment and control groups\n",
    "    trt_group = sim[:trt_size]\n",
    "    trt_group = trt_group.astype(bool)\n",
    "    # counting dead rate\n",
    "    ct_trt = np.count_nonzero(trt_group)\n",
    "    diffs[i] = ct_trt/trt_size - rate"
   ]
  },
  {
   "cell_type": "code",
   "execution_count": 47,
   "metadata": {},
   "outputs": [
    {
     "data": {
      "image/png": "[encoded data removed]",
      "text/plain": [
       "<Figure size 432x288 with 1 Axes>"
      ]
     },
     "metadata": {
      "needs_background": "light"
     },
     "output_type": "display_data"
    }
   ],
   "source": [
    "plt.hist(diffs, bins=10)\n",
    "plt.show()"
   ]
  },
  {
   "cell_type": "markdown",
   "metadata": {},
   "source": [
    "*We see our data is normally distributed with the mean around 0, and our difference -0.075 is an outlier and is less than 0. We reject H_o and accept H_a.*"
   ]
  }
 ],
 "metadata": {
  "kernelspec": {
   "display_name": "Python 3",
   "language": "python",
   "name": "python3"
  },
  "language_info": {
   "codemirror_mode": {
    "name": "ipython",
    "version": 3
   },
   "file_extension": ".py",
   "mimetype": "text/x-python",
   "name": "python",
   "nbconvert_exporter": "python",
   "pygments_lexer": "ipython3",
   "version": "3.7.6"
  }
 },
 "nbformat": 4,
 "nbformat_minor": 4
}
