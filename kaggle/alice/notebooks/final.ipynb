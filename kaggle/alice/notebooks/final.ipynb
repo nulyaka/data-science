{
  "nbformat": 4,
  "nbformat_minor": 0,
  "metadata": {
    "colab": {
      "name": "final.ipynb",
      "provenance": [],
      "collapsed_sections": [
        "IKkbiDD-q5S8",
        "VjHKF75Qrnka",
        "zErEzqSVsAgy",
        "PWVqZtLIszaF",
        "liugfRpdsxLa",
        "KJC5iKWPtBhq",
        "akXMP3tutLK9",
        "t6aKPxJItf4A",
        "DoN7_chKuETN",
        "-ezbk5lqVaIB",
        "rC40Q4LIc-iu",
        "zuMYhBe2dcdb",
        "5pMfwkFBeBRL",
        "Yf-wz_W9fh-x",
        "cR9MQXC-a4k_",
        "xvFDYVjTZ9-H",
        "o3UkKzpOb_5x",
        "9OMImJJ_qstc",
        "SIapujborv1b",
        "ZBCrUZDOtkpw",
        "jy4HfmCWQFTs",
        "3fxRnuyVRHnZ"
      ]
    },
    "kernelspec": {
      "name": "python3",
      "display_name": "Python 3"
    },
    "language_info": {
      "name": "python"
    }
  },
  "cells": [
    {
      "cell_type": "markdown",
      "metadata": {
        "id": "2KtT6PGZqWog"
      },
      "source": [
        "## MOUNT"
      ]
    },
    {
      "cell_type": "code",
      "metadata": {
        "colab": {
          "base_uri": "https://localhost:8080/"
        },
        "id": "8bnOhOLFqB8W",
        "outputId": "58191012-41f2-471b-8cf8-a51abd000518"
      },
      "source": [
        "from google.colab import drive\n",
        "drive.mount('/content/drive')"
      ],
      "execution_count": 2,
      "outputs": [
        {
          "output_type": "stream",
          "name": "stdout",
          "text": [
            "Mounted at /content/drive\n"
          ]
        }
      ]
    },
    {
      "cell_type": "markdown",
      "metadata": {
        "id": "mi47RZAKeiJG"
      },
      "source": [
        "---"
      ]
    },
    {
      "cell_type": "markdown",
      "metadata": {
        "id": "tUgKj3vCqdg5"
      },
      "source": [
        "## IMPORTS"
      ]
    },
    {
      "cell_type": "code",
      "metadata": {
        "id": "jgn2qywPqFD7"
      },
      "source": [
        "import os\n",
        "import pickle\n",
        "# import warnings\n",
        "# warnings.filterwarnings('ignore')"
      ],
      "execution_count": 3,
      "outputs": []
    },
    {
      "cell_type": "code",
      "metadata": {
        "id": "R7V107r2qjxx"
      },
      "source": [
        "from IPython.display import display, display_html"
      ],
      "execution_count": 4,
      "outputs": []
    },
    {
      "cell_type": "code",
      "metadata": {
        "id": "hzjR2kvRqlnf"
      },
      "source": [
        "import numpy as np\n",
        "import pandas as pd\n",
        "import seaborn as sns\n",
        "from matplotlib import pyplot as plt\n",
        "\n",
        "sns.set()\n",
        "%config InlineBackend.figure_format = 'retina'"
      ],
      "execution_count": 5,
      "outputs": []
    },
    {
      "cell_type": "code",
      "metadata": {
        "id": "lVn-ShQqqwml"
      },
      "source": [
        "from scipy.sparse import csr_matrix, hstack"
      ],
      "execution_count": 6,
      "outputs": []
    },
    {
      "cell_type": "code",
      "metadata": {
        "id": "bSnAgpQNq0Do"
      },
      "source": [
        "# preprocessing\n",
        "from sklearn.preprocessing import StandardScaler\n",
        "from sklearn.feature_extraction.text import TfidfVectorizer, TfidfTransformer, HashingVectorizer\n",
        "\n",
        "# training - evaluating\n",
        "from sklearn.metrics import roc_auc_score\n",
        "from sklearn.linear_model import LogisticRegression, LogisticRegressionCV\n",
        "from sklearn.model_selection import cross_val_score, StratifiedKFold, GridSearchCV\n",
        "from sklearn.model_selection import train_test_split, cross_val_predict, TimeSeriesSplit\n",
        "\n",
        "# logit features\n",
        "!pip install eli5\n",
        "import eli5"
      ],
      "execution_count": null,
      "outputs": []
    },
    {
      "cell_type": "markdown",
      "metadata": {
        "id": "GSt8zv9VelE8"
      },
      "source": [
        "---"
      ]
    },
    {
      "cell_type": "markdown",
      "metadata": {
        "id": "IKkbiDD-q5S8"
      },
      "source": [
        "## CONSTANTS"
      ]
    },
    {
      "cell_type": "code",
      "metadata": {
        "id": "xUXnxfr3q2E5"
      },
      "source": [
        "# path to data\n",
        "PATH_TO_TRAIN = \"drive/MyDrive/Projects/Alice/data/train_sessions.csv\"\n",
        "PATH_TO_TEST = \"drive/MyDrive/Projects/Alice/data/test_sessions.csv\"\n",
        "PATH_TO_DICT = \"drive/MyDrive/Projects/Alice/data/site_dic.pkl\"\n",
        "PATH_TO_SUBM = \"drive/MyDrive/Projects/Alice/submissions/\""
      ],
      "execution_count": 11,
      "outputs": []
    },
    {
      "cell_type": "code",
      "metadata": {
        "id": "TN3IrT2jrBYz"
      },
      "source": [
        "# parameters - hyper parameters\n",
        "SEED = 17\n",
        "N_JOBS = 4\n",
        "NUM_TIME_SPLITS = 10    # for time-based cross-validation\n",
        "SITE_NGRAMS = (1, 5)    # site ngrams for \"bag of sites\"\n",
        "MAX_FEATURES = 50000    # max features for \"bag of sites\"\n",
        "BEST_LOGIT_C = 8.8586   # precomputed tuned C for logistic regression\n",
        "TIME_SPLIT = TimeSeriesSplit(n_splits=NUM_TIME_SPLITS)\n",
        "SCORING = \"roc_auc\"\n",
        "LOGIT = LogisticRegression(C=1, random_state=SEED, solver='liblinear')"
      ],
      "execution_count": 12,
      "outputs": []
    },
    {
      "cell_type": "code",
      "metadata": {
        "id": "z6FjXkfzrJIp"
      },
      "source": [
        "# convenient column selection\n",
        "TIMES = [\"time%s\" % t for t in range(1,11)]\n",
        "SITES = [\"site%s\" % s for s in range(1,11)]"
      ],
      "execution_count": 13,
      "outputs": []
    },
    {
      "cell_type": "markdown",
      "metadata": {
        "id": "gUs-3ox2eoOZ"
      },
      "source": [
        "---"
      ]
    },
    {
      "cell_type": "markdown",
      "metadata": {
        "id": "VjHKF75Qrnka"
      },
      "source": [
        "## READING FILES"
      ]
    },
    {
      "cell_type": "code",
      "metadata": {
        "id": "zJDm6BICrlEN"
      },
      "source": [
        "train_df = pd.read_csv(PATH_TO_TRAIN)\n",
        "test_df = pd.read_csv(PATH_TO_TEST)"
      ],
      "execution_count": 14,
      "outputs": []
    },
    {
      "cell_type": "code",
      "metadata": {
        "colab": {
          "base_uri": "https://localhost:8080/",
          "height": 392
        },
        "id": "lbe94eGwrxHB",
        "outputId": "e3376536-808a-459a-b5c4-964ff79d467f"
      },
      "source": [
        "print(\"TRAIN SET\")\n",
        "display(train_df.head(2))\n",
        "\n",
        "print(\"TEST SET\")\n",
        "display(test_df.head(2))"
      ],
      "execution_count": 15,
      "outputs": [
        {
          "output_type": "stream",
          "name": "stdout",
          "text": [
            "TRAIN SET\n"
          ]
        },
        {
          "output_type": "display_data",
          "data": {
            "text/html": [
              "<div>\n",
              "<style scoped>\n",
              "    .dataframe tbody tr th:only-of-type {\n",
              "        vertical-align: middle;\n",
              "    }\n",
              "\n",
              "    .dataframe tbody tr th {\n",
              "        vertical-align: top;\n",
              "    }\n",
              "\n",
              "    .dataframe thead th {\n",
              "        text-align: right;\n",
              "    }\n",
              "</style>\n",
              "<table border=\"1\" class=\"dataframe\">\n",
              "  <thead>\n",
              "    <tr style=\"text-align: right;\">\n",
              "      <th></th>\n",
              "      <th>session_id</th>\n",
              "      <th>site1</th>\n",
              "      <th>time1</th>\n",
              "      <th>site2</th>\n",
              "      <th>time2</th>\n",
              "      <th>site3</th>\n",
              "      <th>time3</th>\n",
              "      <th>site4</th>\n",
              "      <th>time4</th>\n",
              "      <th>site5</th>\n",
              "      <th>time5</th>\n",
              "      <th>site6</th>\n",
              "      <th>time6</th>\n",
              "      <th>site7</th>\n",
              "      <th>time7</th>\n",
              "      <th>site8</th>\n",
              "      <th>time8</th>\n",
              "      <th>site9</th>\n",
              "      <th>time9</th>\n",
              "      <th>site10</th>\n",
              "      <th>time10</th>\n",
              "      <th>target</th>\n",
              "    </tr>\n",
              "  </thead>\n",
              "  <tbody>\n",
              "    <tr>\n",
              "      <th>0</th>\n",
              "      <td>1</td>\n",
              "      <td>718</td>\n",
              "      <td>2014-02-20 10:02:45</td>\n",
              "      <td>NaN</td>\n",
              "      <td>NaN</td>\n",
              "      <td>NaN</td>\n",
              "      <td>NaN</td>\n",
              "      <td>NaN</td>\n",
              "      <td>NaN</td>\n",
              "      <td>NaN</td>\n",
              "      <td>NaN</td>\n",
              "      <td>NaN</td>\n",
              "      <td>NaN</td>\n",
              "      <td>NaN</td>\n",
              "      <td>NaN</td>\n",
              "      <td>NaN</td>\n",
              "      <td>NaN</td>\n",
              "      <td>NaN</td>\n",
              "      <td>NaN</td>\n",
              "      <td>NaN</td>\n",
              "      <td>NaN</td>\n",
              "      <td>0</td>\n",
              "    </tr>\n",
              "    <tr>\n",
              "      <th>1</th>\n",
              "      <td>2</td>\n",
              "      <td>890</td>\n",
              "      <td>2014-02-22 11:19:50</td>\n",
              "      <td>941.0</td>\n",
              "      <td>2014-02-22 11:19:50</td>\n",
              "      <td>3847.0</td>\n",
              "      <td>2014-02-22 11:19:51</td>\n",
              "      <td>941.0</td>\n",
              "      <td>2014-02-22 11:19:51</td>\n",
              "      <td>942.0</td>\n",
              "      <td>2014-02-22 11:19:51</td>\n",
              "      <td>3846.0</td>\n",
              "      <td>2014-02-22 11:19:51</td>\n",
              "      <td>3847.0</td>\n",
              "      <td>2014-02-22 11:19:52</td>\n",
              "      <td>3846.0</td>\n",
              "      <td>2014-02-22 11:19:52</td>\n",
              "      <td>1516.0</td>\n",
              "      <td>2014-02-22 11:20:15</td>\n",
              "      <td>1518.0</td>\n",
              "      <td>2014-02-22 11:20:16</td>\n",
              "      <td>0</td>\n",
              "    </tr>\n",
              "  </tbody>\n",
              "</table>\n",
              "</div>"
            ],
            "text/plain": [
              "   session_id  site1                time1  ...  site10               time10  target\n",
              "0           1    718  2014-02-20 10:02:45  ...     NaN                  NaN       0\n",
              "1           2    890  2014-02-22 11:19:50  ...  1518.0  2014-02-22 11:20:16       0\n",
              "\n",
              "[2 rows x 22 columns]"
            ]
          },
          "metadata": {}
        },
        {
          "output_type": "stream",
          "name": "stdout",
          "text": [
            "TEST SET\n"
          ]
        },
        {
          "output_type": "display_data",
          "data": {
            "text/html": [
              "<div>\n",
              "<style scoped>\n",
              "    .dataframe tbody tr th:only-of-type {\n",
              "        vertical-align: middle;\n",
              "    }\n",
              "\n",
              "    .dataframe tbody tr th {\n",
              "        vertical-align: top;\n",
              "    }\n",
              "\n",
              "    .dataframe thead th {\n",
              "        text-align: right;\n",
              "    }\n",
              "</style>\n",
              "<table border=\"1\" class=\"dataframe\">\n",
              "  <thead>\n",
              "    <tr style=\"text-align: right;\">\n",
              "      <th></th>\n",
              "      <th>session_id</th>\n",
              "      <th>site1</th>\n",
              "      <th>time1</th>\n",
              "      <th>site2</th>\n",
              "      <th>time2</th>\n",
              "      <th>site3</th>\n",
              "      <th>time3</th>\n",
              "      <th>site4</th>\n",
              "      <th>time4</th>\n",
              "      <th>site5</th>\n",
              "      <th>time5</th>\n",
              "      <th>site6</th>\n",
              "      <th>time6</th>\n",
              "      <th>site7</th>\n",
              "      <th>time7</th>\n",
              "      <th>site8</th>\n",
              "      <th>time8</th>\n",
              "      <th>site9</th>\n",
              "      <th>time9</th>\n",
              "      <th>site10</th>\n",
              "      <th>time10</th>\n",
              "    </tr>\n",
              "  </thead>\n",
              "  <tbody>\n",
              "    <tr>\n",
              "      <th>0</th>\n",
              "      <td>1</td>\n",
              "      <td>29</td>\n",
              "      <td>2014-10-04 11:19:53</td>\n",
              "      <td>35.0</td>\n",
              "      <td>2014-10-04 11:19:53</td>\n",
              "      <td>22.0</td>\n",
              "      <td>2014-10-04 11:19:54</td>\n",
              "      <td>321.0</td>\n",
              "      <td>2014-10-04 11:19:54</td>\n",
              "      <td>23.0</td>\n",
              "      <td>2014-10-04 11:19:54</td>\n",
              "      <td>2211.0</td>\n",
              "      <td>2014-10-04 11:19:54</td>\n",
              "      <td>6730.0</td>\n",
              "      <td>2014-10-04 11:19:54</td>\n",
              "      <td>21.0</td>\n",
              "      <td>2014-10-04 11:19:54</td>\n",
              "      <td>44582.0</td>\n",
              "      <td>2014-10-04 11:20:00</td>\n",
              "      <td>15336.0</td>\n",
              "      <td>2014-10-04 11:20:00</td>\n",
              "    </tr>\n",
              "    <tr>\n",
              "      <th>1</th>\n",
              "      <td>2</td>\n",
              "      <td>782</td>\n",
              "      <td>2014-07-03 11:00:28</td>\n",
              "      <td>782.0</td>\n",
              "      <td>2014-07-03 11:00:53</td>\n",
              "      <td>782.0</td>\n",
              "      <td>2014-07-03 11:00:58</td>\n",
              "      <td>782.0</td>\n",
              "      <td>2014-07-03 11:01:06</td>\n",
              "      <td>782.0</td>\n",
              "      <td>2014-07-03 11:01:09</td>\n",
              "      <td>782.0</td>\n",
              "      <td>2014-07-03 11:01:10</td>\n",
              "      <td>782.0</td>\n",
              "      <td>2014-07-03 11:01:23</td>\n",
              "      <td>782.0</td>\n",
              "      <td>2014-07-03 11:01:29</td>\n",
              "      <td>782.0</td>\n",
              "      <td>2014-07-03 11:01:30</td>\n",
              "      <td>782.0</td>\n",
              "      <td>2014-07-03 11:01:53</td>\n",
              "    </tr>\n",
              "  </tbody>\n",
              "</table>\n",
              "</div>"
            ],
            "text/plain": [
              "   session_id  site1  ...   site10               time10\n",
              "0           1     29  ...  15336.0  2014-10-04 11:20:00\n",
              "1           2    782  ...    782.0  2014-07-03 11:01:53\n",
              "\n",
              "[2 rows x 21 columns]"
            ]
          },
          "metadata": {}
        }
      ]
    },
    {
      "cell_type": "markdown",
      "metadata": {
        "id": "R_nj9jQVerHh"
      },
      "source": [
        "---"
      ]
    },
    {
      "cell_type": "markdown",
      "metadata": {
        "id": "zErEzqSVsAgy"
      },
      "source": [
        "## BASIC INFO"
      ]
    },
    {
      "cell_type": "code",
      "metadata": {
        "id": "GgWE8WM7c4sQ"
      },
      "source": [
        "# will be using time split cross validation\n",
        "# time must be storted \n",
        "train_df = train_df.sort_values(by=\"time1\")"
      ],
      "execution_count": 16,
      "outputs": []
    },
    {
      "cell_type": "code",
      "metadata": {
        "colab": {
          "base_uri": "https://localhost:8080/"
        },
        "id": "J7Ovp0Qar4VK",
        "outputId": "611232ad-c1dc-4f6b-cd5d-594babc1b95a"
      },
      "source": [
        "train_df.info()\n",
        "# Main observations:\n",
        "# 1. change object to datetime format\n",
        "# 2. change sites nulls to 0"
      ],
      "execution_count": 17,
      "outputs": [
        {
          "output_type": "stream",
          "name": "stdout",
          "text": [
            "<class 'pandas.core.frame.DataFrame'>\n",
            "Int64Index: 253561 entries, 21668 to 204761\n",
            "Data columns (total 22 columns):\n",
            " #   Column      Non-Null Count   Dtype  \n",
            "---  ------      --------------   -----  \n",
            " 0   session_id  253561 non-null  int64  \n",
            " 1   site1       253561 non-null  int64  \n",
            " 2   time1       253561 non-null  object \n",
            " 3   site2       250098 non-null  float64\n",
            " 4   time2       250098 non-null  object \n",
            " 5   site3       246919 non-null  float64\n",
            " 6   time3       246919 non-null  object \n",
            " 7   site4       244321 non-null  float64\n",
            " 8   time4       244321 non-null  object \n",
            " 9   site5       241829 non-null  float64\n",
            " 10  time5       241829 non-null  object \n",
            " 11  site6       239495 non-null  float64\n",
            " 12  time6       239495 non-null  object \n",
            " 13  site7       237297 non-null  float64\n",
            " 14  time7       237297 non-null  object \n",
            " 15  site8       235224 non-null  float64\n",
            " 16  time8       235224 non-null  object \n",
            " 17  site9       233084 non-null  float64\n",
            " 18  time9       233084 non-null  object \n",
            " 19  site10      231052 non-null  float64\n",
            " 20  time10      231052 non-null  object \n",
            " 21  target      253561 non-null  int64  \n",
            "dtypes: float64(9), int64(3), object(10)\n",
            "memory usage: 44.5+ MB\n"
          ]
        }
      ]
    },
    {
      "cell_type": "code",
      "metadata": {
        "colab": {
          "base_uri": "https://localhost:8080/"
        },
        "id": "MoJgNRvXsEhU",
        "outputId": "0c9cd9d1-4b40-4802-f0bf-f67d9db8ba14"
      },
      "source": [
        "test_df.info()\n",
        "# same changes need to be applied as to train_df"
      ],
      "execution_count": 18,
      "outputs": [
        {
          "output_type": "stream",
          "name": "stdout",
          "text": [
            "<class 'pandas.core.frame.DataFrame'>\n",
            "RangeIndex: 82797 entries, 0 to 82796\n",
            "Data columns (total 21 columns):\n",
            " #   Column      Non-Null Count  Dtype  \n",
            "---  ------      --------------  -----  \n",
            " 0   session_id  82797 non-null  int64  \n",
            " 1   site1       82797 non-null  int64  \n",
            " 2   time1       82797 non-null  object \n",
            " 3   site2       81308 non-null  float64\n",
            " 4   time2       81308 non-null  object \n",
            " 5   site3       80075 non-null  float64\n",
            " 6   time3       80075 non-null  object \n",
            " 7   site4       79182 non-null  float64\n",
            " 8   time4       79182 non-null  object \n",
            " 9   site5       78341 non-null  float64\n",
            " 10  time5       78341 non-null  object \n",
            " 11  site6       77566 non-null  float64\n",
            " 12  time6       77566 non-null  object \n",
            " 13  site7       76840 non-null  float64\n",
            " 14  time7       76840 non-null  object \n",
            " 15  site8       76151 non-null  float64\n",
            " 16  time8       76151 non-null  object \n",
            " 17  site9       75484 non-null  float64\n",
            " 18  time9       75484 non-null  object \n",
            " 19  site10      74806 non-null  float64\n",
            " 20  time10      74806 non-null  object \n",
            "dtypes: float64(9), int64(2), object(10)\n",
            "memory usage: 13.3+ MB\n"
          ]
        }
      ]
    },
    {
      "cell_type": "code",
      "metadata": {
        "id": "Q-LHSfDwsKrF"
      },
      "source": [
        "# some of the operations will made on both train_df and test_df\n",
        "# instead of hard copying, concatenate them into one single full_df\n",
        "# this full_df can also be used in exploratory data analysis\n",
        "\n",
        "# save target from train_df\n",
        "train_target = train_df['target']\n",
        "\n",
        "full_df = pd.concat([train_df.drop('target', axis=1), test_df]).copy()\n",
        "\n",
        "# index to split train_df from test_df\n",
        "idx_split = train_df.shape[0]"
      ],
      "execution_count": 19,
      "outputs": []
    },
    {
      "cell_type": "code",
      "metadata": {
        "id": "33bgztREsPRL"
      },
      "source": [
        "# 1. changing object to datetime\n",
        "full_df[TIMES] = full_df[TIMES].apply(pd.to_datetime)"
      ],
      "execution_count": 20,
      "outputs": []
    },
    {
      "cell_type": "code",
      "metadata": {
        "id": "xi9CmIGUsRql"
      },
      "source": [
        "# 2. changing sites' nulls to 0\n",
        "full_df[SITES] = full_df[SITES].fillna(0).astype(\"int\")\n",
        "# now can work with the given data"
      ],
      "execution_count": 21,
      "outputs": []
    },
    {
      "cell_type": "code",
      "metadata": {
        "id": "CUByogDEsTH3"
      },
      "source": [
        "# updating train_df and test_df\n",
        "train_df = full_df[:idx_split]\n",
        "test_df = full_df[idx_split:]"
      ],
      "execution_count": 22,
      "outputs": []
    },
    {
      "cell_type": "code",
      "metadata": {
        "id": "J68I7DE2sUJD"
      },
      "source": [
        "# returning target column\n",
        "train_df[\"target\"] = train_target"
      ],
      "execution_count": null,
      "outputs": []
    },
    {
      "cell_type": "code",
      "metadata": {
        "colab": {
          "base_uri": "https://localhost:8080/",
          "height": 196
        },
        "id": "IQRs5kDJsWy3",
        "outputId": "72219221-3855-4434-e2ec-5889841ba779"
      },
      "source": [
        "full_df.head(2)"
      ],
      "execution_count": 24,
      "outputs": [
        {
          "output_type": "execute_result",
          "data": {
            "text/html": [
              "<div>\n",
              "<style scoped>\n",
              "    .dataframe tbody tr th:only-of-type {\n",
              "        vertical-align: middle;\n",
              "    }\n",
              "\n",
              "    .dataframe tbody tr th {\n",
              "        vertical-align: top;\n",
              "    }\n",
              "\n",
              "    .dataframe thead th {\n",
              "        text-align: right;\n",
              "    }\n",
              "</style>\n",
              "<table border=\"1\" class=\"dataframe\">\n",
              "  <thead>\n",
              "    <tr style=\"text-align: right;\">\n",
              "      <th></th>\n",
              "      <th>session_id</th>\n",
              "      <th>site1</th>\n",
              "      <th>time1</th>\n",
              "      <th>site2</th>\n",
              "      <th>time2</th>\n",
              "      <th>site3</th>\n",
              "      <th>time3</th>\n",
              "      <th>site4</th>\n",
              "      <th>time4</th>\n",
              "      <th>site5</th>\n",
              "      <th>time5</th>\n",
              "      <th>site6</th>\n",
              "      <th>time6</th>\n",
              "      <th>site7</th>\n",
              "      <th>time7</th>\n",
              "      <th>site8</th>\n",
              "      <th>time8</th>\n",
              "      <th>site9</th>\n",
              "      <th>time9</th>\n",
              "      <th>site10</th>\n",
              "      <th>time10</th>\n",
              "    </tr>\n",
              "  </thead>\n",
              "  <tbody>\n",
              "    <tr>\n",
              "      <th>21668</th>\n",
              "      <td>21669</td>\n",
              "      <td>56</td>\n",
              "      <td>2013-01-12 08:05:57</td>\n",
              "      <td>55</td>\n",
              "      <td>2013-01-12 08:05:57</td>\n",
              "      <td>0</td>\n",
              "      <td>NaT</td>\n",
              "      <td>0</td>\n",
              "      <td>NaT</td>\n",
              "      <td>0</td>\n",
              "      <td>NaT</td>\n",
              "      <td>0</td>\n",
              "      <td>NaT</td>\n",
              "      <td>0</td>\n",
              "      <td>NaT</td>\n",
              "      <td>0</td>\n",
              "      <td>NaT</td>\n",
              "      <td>0</td>\n",
              "      <td>NaT</td>\n",
              "      <td>0</td>\n",
              "      <td>NaT</td>\n",
              "    </tr>\n",
              "    <tr>\n",
              "      <th>54842</th>\n",
              "      <td>54843</td>\n",
              "      <td>56</td>\n",
              "      <td>2013-01-12 08:37:23</td>\n",
              "      <td>55</td>\n",
              "      <td>2013-01-12 08:37:23</td>\n",
              "      <td>56</td>\n",
              "      <td>2013-01-12 09:07:07</td>\n",
              "      <td>55</td>\n",
              "      <td>2013-01-12 09:07:09</td>\n",
              "      <td>0</td>\n",
              "      <td>NaT</td>\n",
              "      <td>0</td>\n",
              "      <td>NaT</td>\n",
              "      <td>0</td>\n",
              "      <td>NaT</td>\n",
              "      <td>0</td>\n",
              "      <td>NaT</td>\n",
              "      <td>0</td>\n",
              "      <td>NaT</td>\n",
              "      <td>0</td>\n",
              "      <td>NaT</td>\n",
              "    </tr>\n",
              "  </tbody>\n",
              "</table>\n",
              "</div>"
            ],
            "text/plain": [
              "       session_id  site1               time1  site2  ... site9  time9 site10  time10\n",
              "21668       21669     56 2013-01-12 08:05:57     55  ...     0    NaT      0     NaT\n",
              "54842       54843     56 2013-01-12 08:37:23     55  ...     0    NaT      0     NaT\n",
              "\n",
              "[2 rows x 21 columns]"
            ]
          },
          "metadata": {},
          "execution_count": 24
        }
      ]
    },
    {
      "cell_type": "code",
      "metadata": {
        "colab": {
          "base_uri": "https://localhost:8080/"
        },
        "id": "LjPftuemsZjl",
        "outputId": "cc75c2e3-5a4c-400e-f054-ce62ca1c4b07"
      },
      "source": [
        "full_df.info()"
      ],
      "execution_count": 25,
      "outputs": [
        {
          "output_type": "stream",
          "name": "stdout",
          "text": [
            "<class 'pandas.core.frame.DataFrame'>\n",
            "Int64Index: 336358 entries, 21668 to 82796\n",
            "Data columns (total 21 columns):\n",
            " #   Column      Non-Null Count   Dtype         \n",
            "---  ------      --------------   -----         \n",
            " 0   session_id  336358 non-null  int64         \n",
            " 1   site1       336358 non-null  int64         \n",
            " 2   time1       336358 non-null  datetime64[ns]\n",
            " 3   site2       336358 non-null  int64         \n",
            " 4   time2       331406 non-null  datetime64[ns]\n",
            " 5   site3       336358 non-null  int64         \n",
            " 6   time3       326994 non-null  datetime64[ns]\n",
            " 7   site4       336358 non-null  int64         \n",
            " 8   time4       323503 non-null  datetime64[ns]\n",
            " 9   site5       336358 non-null  int64         \n",
            " 10  time5       320170 non-null  datetime64[ns]\n",
            " 11  site6       336358 non-null  int64         \n",
            " 12  time6       317061 non-null  datetime64[ns]\n",
            " 13  site7       336358 non-null  int64         \n",
            " 14  time7       314137 non-null  datetime64[ns]\n",
            " 15  site8       336358 non-null  int64         \n",
            " 16  time8       311375 non-null  datetime64[ns]\n",
            " 17  site9       336358 non-null  int64         \n",
            " 18  time9       308568 non-null  datetime64[ns]\n",
            " 19  site10      336358 non-null  int64         \n",
            " 20  time10      305858 non-null  datetime64[ns]\n",
            "dtypes: datetime64[ns](10), int64(11)\n",
            "memory usage: 56.5 MB\n"
          ]
        }
      ]
    },
    {
      "cell_type": "markdown",
      "metadata": {
        "id": "bJVtGI8qeuoA"
      },
      "source": [
        "---"
      ]
    },
    {
      "cell_type": "markdown",
      "metadata": {
        "id": "_L6q1oGwsdpA"
      },
      "source": [
        "## EDA"
      ]
    },
    {
      "cell_type": "markdown",
      "metadata": {
        "id": "PWVqZtLIszaF"
      },
      "source": [
        "### main observations"
      ]
    },
    {
      "cell_type": "code",
      "metadata": {
        "colab": {
          "base_uri": "https://localhost:8080/",
          "height": 237
        },
        "id": "DoWXwJC1scXD",
        "outputId": "9c46d261-8b57-44a5-b6b4-22fdfb24fb29"
      },
      "source": [
        "train_df[TIMES].head(4)"
      ],
      "execution_count": 26,
      "outputs": [
        {
          "output_type": "execute_result",
          "data": {
            "text/html": [
              "<div>\n",
              "<style scoped>\n",
              "    .dataframe tbody tr th:only-of-type {\n",
              "        vertical-align: middle;\n",
              "    }\n",
              "\n",
              "    .dataframe tbody tr th {\n",
              "        vertical-align: top;\n",
              "    }\n",
              "\n",
              "    .dataframe thead th {\n",
              "        text-align: right;\n",
              "    }\n",
              "</style>\n",
              "<table border=\"1\" class=\"dataframe\">\n",
              "  <thead>\n",
              "    <tr style=\"text-align: right;\">\n",
              "      <th></th>\n",
              "      <th>time1</th>\n",
              "      <th>time2</th>\n",
              "      <th>time3</th>\n",
              "      <th>time4</th>\n",
              "      <th>time5</th>\n",
              "      <th>time6</th>\n",
              "      <th>time7</th>\n",
              "      <th>time8</th>\n",
              "      <th>time9</th>\n",
              "      <th>time10</th>\n",
              "    </tr>\n",
              "  </thead>\n",
              "  <tbody>\n",
              "    <tr>\n",
              "      <th>21668</th>\n",
              "      <td>2013-01-12 08:05:57</td>\n",
              "      <td>2013-01-12 08:05:57</td>\n",
              "      <td>NaT</td>\n",
              "      <td>NaT</td>\n",
              "      <td>NaT</td>\n",
              "      <td>NaT</td>\n",
              "      <td>NaT</td>\n",
              "      <td>NaT</td>\n",
              "      <td>NaT</td>\n",
              "      <td>NaT</td>\n",
              "    </tr>\n",
              "    <tr>\n",
              "      <th>54842</th>\n",
              "      <td>2013-01-12 08:37:23</td>\n",
              "      <td>2013-01-12 08:37:23</td>\n",
              "      <td>2013-01-12 09:07:07</td>\n",
              "      <td>2013-01-12 09:07:09</td>\n",
              "      <td>NaT</td>\n",
              "      <td>NaT</td>\n",
              "      <td>NaT</td>\n",
              "      <td>NaT</td>\n",
              "      <td>NaT</td>\n",
              "      <td>NaT</td>\n",
              "    </tr>\n",
              "    <tr>\n",
              "      <th>77291</th>\n",
              "      <td>2013-01-12 08:50:13</td>\n",
              "      <td>2013-01-12 08:50:14</td>\n",
              "      <td>2013-01-12 08:50:15</td>\n",
              "      <td>2013-01-12 08:50:15</td>\n",
              "      <td>2013-01-12 08:50:16</td>\n",
              "      <td>2013-01-12 08:50:16</td>\n",
              "      <td>2013-01-12 08:50:16</td>\n",
              "      <td>2013-01-12 08:50:16</td>\n",
              "      <td>2013-01-12 08:50:17</td>\n",
              "      <td>2013-01-12 08:50:17</td>\n",
              "    </tr>\n",
              "    <tr>\n",
              "      <th>114020</th>\n",
              "      <td>2013-01-12 08:50:17</td>\n",
              "      <td>2013-01-12 08:50:17</td>\n",
              "      <td>2013-01-12 08:50:18</td>\n",
              "      <td>2013-01-12 08:50:18</td>\n",
              "      <td>2013-01-12 08:50:18</td>\n",
              "      <td>2013-01-12 08:50:18</td>\n",
              "      <td>2013-01-12 08:50:19</td>\n",
              "      <td>2013-01-12 08:50:19</td>\n",
              "      <td>2013-01-12 08:50:19</td>\n",
              "      <td>2013-01-12 08:50:20</td>\n",
              "    </tr>\n",
              "  </tbody>\n",
              "</table>\n",
              "</div>"
            ],
            "text/plain": [
              "                     time1  ...              time10\n",
              "21668  2013-01-12 08:05:57  ...                 NaT\n",
              "54842  2013-01-12 08:37:23  ...                 NaT\n",
              "77291  2013-01-12 08:50:13  ... 2013-01-12 08:50:17\n",
              "114020 2013-01-12 08:50:17  ... 2013-01-12 08:50:20\n",
              "\n",
              "[4 rows x 10 columns]"
            ]
          },
          "metadata": {},
          "execution_count": 26
        }
      ]
    },
    {
      "cell_type": "markdown",
      "metadata": {
        "id": "P635D3ZKssUo"
      },
      "source": [
        "will be observing:\n",
        "\n",
        "- start hour.\n",
        "- end hour.\n",
        "- daily,\n",
        "- weekly,\n",
        "- monthly observations.\n",
        "- session length.\n",
        "- time differences.\n",
        "- most visited web sites.\n"
      ]
    },
    {
      "cell_type": "markdown",
      "metadata": {
        "id": "HNE9jtekfBkE"
      },
      "source": [
        "---"
      ]
    },
    {
      "cell_type": "markdown",
      "metadata": {
        "id": "liugfRpdsxLa"
      },
      "source": [
        "### checking target balance"
      ]
    },
    {
      "cell_type": "code",
      "metadata": {
        "colab": {
          "base_uri": "https://localhost:8080/"
        },
        "id": "hYOg9Ug3sp0L",
        "outputId": "c6a9a872-2cac-4e07-d6be-1da833394533"
      },
      "source": [
        "train_df[train_df[\"target\"] == 1].shape, train_df[train_df[\"target\"] == 0].shape\n",
        "\n",
        "# the data is imbalanced, 2297 Alice samples, 251264 itruders' samples\n",
        "# can't use accuracy score, will be using ROC AUC for checking the model's performance "
      ],
      "execution_count": 27,
      "outputs": [
        {
          "output_type": "execute_result",
          "data": {
            "text/plain": [
              "((2297, 22), (251264, 22))"
            ]
          },
          "metadata": {},
          "execution_count": 27
        }
      ]
    },
    {
      "cell_type": "code",
      "metadata": {
        "colab": {
          "base_uri": "https://localhost:8080/",
          "height": 298
        },
        "id": "gIqkPkrus--E",
        "outputId": "242b388e-e8c2-47ea-d73c-542e3d0f3248"
      },
      "source": [
        "# obesrving it visually\n",
        "sns.countplot(x = train_df[\"target\"]);\n",
        "plt.title(\"target's proportion\");"
      ],
      "execution_count": 28,
      "outputs": [
        {
          "output_type": "display_data",
          "data": {
            "image/png": "[encoded data removed]",
            "text/plain": [
              "<Figure size 432x288 with 1 Axes>"
            ]
          },
          "metadata": {
            "image/png": {
              "width": 417,
              "height": 282
            }
          }
        }
      ]
    },
    {
      "cell_type": "markdown",
      "metadata": {
        "id": "P6TgoogcfD1r"
      },
      "source": [
        "---"
      ]
    },
    {
      "cell_type": "markdown",
      "metadata": {
        "id": "KJC5iKWPtBhq"
      },
      "source": [
        "### reusable functions for visualization"
      ]
    },
    {
      "cell_type": "code",
      "metadata": {
        "id": "iRWm3zuftAlY"
      },
      "source": [
        "def two_count_plots(x1, x2, title1, title2):\n",
        "\n",
        "    fig, (ax1, ax2) = plt.subplots(1, 2, figsize = (17,7))\n",
        "\n",
        "    sns.countplot(x = x1, ax = ax1);\n",
        "    sns.countplot(x = x2, ax = ax2);\n",
        "\n",
        "    ax1.set_title(title1);\n",
        "    ax2.set_title(title2);\n",
        "\n",
        "\n",
        "def two_hist_plots(x1, x2, title1, title2, bins = 30):\n",
        "\n",
        "    fig, (ax1, ax2) = plt.subplots(1, 2, figsize = (17,7))\n",
        "\n",
        "    sns.histplot(x = x1, ax = ax1, bins = bins);\n",
        "    sns.histplot(x = x2, ax = ax2, bins = bins);\n",
        "\n",
        "    ax1.set_title(title1);\n",
        "    ax2.set_title(title2);"
      ],
      "execution_count": 29,
      "outputs": []
    },
    {
      "cell_type": "markdown",
      "metadata": {
        "id": "Ju-qS3URfGSx"
      },
      "source": [
        "---"
      ]
    },
    {
      "cell_type": "markdown",
      "metadata": {
        "id": "akXMP3tutLK9"
      },
      "source": [
        "### start hour"
      ]
    },
    {
      "cell_type": "code",
      "metadata": {
        "colab": {
          "base_uri": "https://localhost:8080/",
          "height": 202
        },
        "id": "gadVsSgntJO6",
        "outputId": "9e882bfd-b783-46cc-e5b6-14740f1b94b4"
      },
      "source": [
        "# checking whether Alice's start hour is different\n",
        "\n",
        "# creating an additonal DataFrame for new features based on 'train_df'\n",
        "train_feat = pd.DataFrame(index = train_df.index)\n",
        "train_feat[\"target\"] = train_df[\"target\"]\n",
        "# 'time1' column can be used as start hour\n",
        "train_feat[\"start_hour\"] = train_df[\"time1\"].apply(lambda ts: ts.hour)\n",
        "train_feat.head()"
      ],
      "execution_count": 30,
      "outputs": [
        {
          "output_type": "execute_result",
          "data": {
            "text/html": [
              "<div>\n",
              "<style scoped>\n",
              "    .dataframe tbody tr th:only-of-type {\n",
              "        vertical-align: middle;\n",
              "    }\n",
              "\n",
              "    .dataframe tbody tr th {\n",
              "        vertical-align: top;\n",
              "    }\n",
              "\n",
              "    .dataframe thead th {\n",
              "        text-align: right;\n",
              "    }\n",
              "</style>\n",
              "<table border=\"1\" class=\"dataframe\">\n",
              "  <thead>\n",
              "    <tr style=\"text-align: right;\">\n",
              "      <th></th>\n",
              "      <th>target</th>\n",
              "      <th>start_hour</th>\n",
              "    </tr>\n",
              "  </thead>\n",
              "  <tbody>\n",
              "    <tr>\n",
              "      <th>21668</th>\n",
              "      <td>0</td>\n",
              "      <td>8</td>\n",
              "    </tr>\n",
              "    <tr>\n",
              "      <th>54842</th>\n",
              "      <td>0</td>\n",
              "      <td>8</td>\n",
              "    </tr>\n",
              "    <tr>\n",
              "      <th>77291</th>\n",
              "      <td>0</td>\n",
              "      <td>8</td>\n",
              "    </tr>\n",
              "    <tr>\n",
              "      <th>114020</th>\n",
              "      <td>0</td>\n",
              "      <td>8</td>\n",
              "    </tr>\n",
              "    <tr>\n",
              "      <th>146669</th>\n",
              "      <td>0</td>\n",
              "      <td>8</td>\n",
              "    </tr>\n",
              "  </tbody>\n",
              "</table>\n",
              "</div>"
            ],
            "text/plain": [
              "        target  start_hour\n",
              "21668        0           8\n",
              "54842        0           8\n",
              "77291        0           8\n",
              "114020       0           8\n",
              "146669       0           8"
            ]
          },
          "metadata": {},
          "execution_count": 30
        }
      ]
    },
    {
      "cell_type": "code",
      "metadata": {
        "colab": {
          "base_uri": "https://localhost:8080/"
        },
        "id": "ltr-b2B_tRbl",
        "outputId": "53a002d1-c6fa-4f7d-8bae-03079b6709c8"
      },
      "source": [
        "# Alice's start hour (average) \n",
        "print(train_feat[train_feat[\"target\"] == 1][\"start_hour\"].mean())\n",
        "\n",
        "# Intruders' start hour (average)\n",
        "print(train_feat[train_feat[\"target\"] == 0][\"start_hour\"].mean())"
      ],
      "execution_count": 31,
      "outputs": [
        {
          "output_type": "stream",
          "name": "stdout",
          "text": [
            "15.433609055289509\n",
            "12.259730801069791\n"
          ]
        }
      ]
    },
    {
      "cell_type": "code",
      "metadata": {
        "colab": {
          "base_uri": "https://localhost:8080/",
          "height": 463
        },
        "id": "OHeQhl3PtXOx",
        "outputId": "caa44de0-0457-418f-e342-1b96d05169a4"
      },
      "source": [
        "# there is the difference in start hours\n",
        "# visualizing it\n",
        "two_count_plots(x1 = train_feat[train_feat[\"target\"] == 1][\"start_hour\"],\n",
        "                x2 = train_feat[train_feat[\"target\"] == 0][\"start_hour\"],\n",
        "                title1 = \"Alice starts at\",\n",
        "                title2 = \"Intruders start at\")"
      ],
      "execution_count": 32,
      "outputs": [
        {
          "output_type": "display_data",
          "data": {
            "image/png": "[encoded data removed]",
            "text/plain": [
              "<Figure size 1224x504 with 2 Axes>"
            ]
          },
          "metadata": {
            "image/png": {
              "width": 1009,
              "height": 446
            }
          }
        }
      ]
    },
    {
      "cell_type": "markdown",
      "metadata": {
        "id": "_SQTq5B7tekt"
      },
      "source": [
        "Alice starts her work at some specific hours (12-13, 16-18 mostly).   \n",
        "Useful feature. "
      ]
    },
    {
      "cell_type": "markdown",
      "metadata": {
        "id": "vPpnIfIRfJOw"
      },
      "source": [
        "---"
      ]
    },
    {
      "cell_type": "markdown",
      "metadata": {
        "id": "t6aKPxJItf4A"
      },
      "source": [
        "### end hour"
      ]
    },
    {
      "cell_type": "code",
      "metadata": {
        "id": "Vs9sBz04tZu7"
      },
      "source": [
        "# checking whether Alice's end hour is different\n",
        "\n",
        "# can't just use 'time10' column as end hour, \n",
        "# some of the sessions have less than 10 websites visited\n",
        "\n",
        "def add_end_hour_column(df, feat):\n",
        "    end_hour = []\n",
        "\n",
        "    for row in df[TIMES].values:\n",
        "        col = len(row) - 1\n",
        "        while pd.isnull(row[col]):\n",
        "            col -= 1\n",
        "        end_hour.append(row[col])\n",
        "\n",
        "    feat[\"end_hour\"] = end_hour\n",
        "    feat[\"end_hour\"] = feat[\"end_hour\"].apply(lambda ts: ts.hour)\n",
        "    \n",
        "    return feat"
      ],
      "execution_count": 33,
      "outputs": []
    },
    {
      "cell_type": "code",
      "metadata": {
        "colab": {
          "base_uri": "https://localhost:8080/",
          "height": 202
        },
        "id": "seEwULcVt3uo",
        "outputId": "4da2a1c9-fa92-4717-9985-61ed4d66a3ac"
      },
      "source": [
        "train_feat = add_end_hour_column(train_df, train_feat)\n",
        "train_feat.head()"
      ],
      "execution_count": 34,
      "outputs": [
        {
          "output_type": "execute_result",
          "data": {
            "text/html": [
              "<div>\n",
              "<style scoped>\n",
              "    .dataframe tbody tr th:only-of-type {\n",
              "        vertical-align: middle;\n",
              "    }\n",
              "\n",
              "    .dataframe tbody tr th {\n",
              "        vertical-align: top;\n",
              "    }\n",
              "\n",
              "    .dataframe thead th {\n",
              "        text-align: right;\n",
              "    }\n",
              "</style>\n",
              "<table border=\"1\" class=\"dataframe\">\n",
              "  <thead>\n",
              "    <tr style=\"text-align: right;\">\n",
              "      <th></th>\n",
              "      <th>target</th>\n",
              "      <th>start_hour</th>\n",
              "      <th>end_hour</th>\n",
              "    </tr>\n",
              "  </thead>\n",
              "  <tbody>\n",
              "    <tr>\n",
              "      <th>21668</th>\n",
              "      <td>0</td>\n",
              "      <td>8</td>\n",
              "      <td>8</td>\n",
              "    </tr>\n",
              "    <tr>\n",
              "      <th>54842</th>\n",
              "      <td>0</td>\n",
              "      <td>8</td>\n",
              "      <td>9</td>\n",
              "    </tr>\n",
              "    <tr>\n",
              "      <th>77291</th>\n",
              "      <td>0</td>\n",
              "      <td>8</td>\n",
              "      <td>8</td>\n",
              "    </tr>\n",
              "    <tr>\n",
              "      <th>114020</th>\n",
              "      <td>0</td>\n",
              "      <td>8</td>\n",
              "      <td>8</td>\n",
              "    </tr>\n",
              "    <tr>\n",
              "      <th>146669</th>\n",
              "      <td>0</td>\n",
              "      <td>8</td>\n",
              "      <td>8</td>\n",
              "    </tr>\n",
              "  </tbody>\n",
              "</table>\n",
              "</div>"
            ],
            "text/plain": [
              "        target  start_hour  end_hour\n",
              "21668        0           8         8\n",
              "54842        0           8         9\n",
              "77291        0           8         8\n",
              "114020       0           8         8\n",
              "146669       0           8         8"
            ]
          },
          "metadata": {},
          "execution_count": 34
        }
      ]
    },
    {
      "cell_type": "code",
      "metadata": {
        "colab": {
          "base_uri": "https://localhost:8080/"
        },
        "id": "DeXQ2EZ4t5zI",
        "outputId": "ba700b21-056a-4a89-e672-5bcab8b1ee0c"
      },
      "source": [
        "# checking the difference\n",
        "print(train_feat[train_feat[\"target\"] == 1]['end_hour'].mean())\n",
        "\n",
        "print(train_feat[train_feat[\"target\"] == 0]['end_hour'].mean())\n",
        "# there is a difference in end hours as well, they are almost equal to start hours.\n",
        "# it's clear why, the sessions are <30 mins long."
      ],
      "execution_count": 35,
      "outputs": [
        {
          "output_type": "stream",
          "name": "stdout",
          "text": [
            "15.451458424031346\n",
            "12.295963607997962\n"
          ]
        }
      ]
    },
    {
      "cell_type": "markdown",
      "metadata": {
        "id": "e3upwVyqfLMi"
      },
      "source": [
        "---"
      ]
    },
    {
      "cell_type": "markdown",
      "metadata": {
        "id": "DoN7_chKuETN"
      },
      "source": [
        "### daily observations"
      ]
    },
    {
      "cell_type": "code",
      "metadata": {
        "colab": {
          "base_uri": "https://localhost:8080/",
          "height": 202
        },
        "id": "chi9u-lcuBV4",
        "outputId": "921aa6eb-3604-4e54-848f-0de4ae3e95da"
      },
      "source": [
        "# checking Alice's week day activity.\n",
        "train_feat[\"week_day\"] = train_df[\"time1\"].dt.dayofweek\n",
        "# train_feat = train_feat.sort_values(by = \"week_day\", ascending = True)\n",
        "train_feat.head()"
      ],
      "execution_count": 36,
      "outputs": [
        {
          "output_type": "execute_result",
          "data": {
            "text/html": [
              "<div>\n",
              "<style scoped>\n",
              "    .dataframe tbody tr th:only-of-type {\n",
              "        vertical-align: middle;\n",
              "    }\n",
              "\n",
              "    .dataframe tbody tr th {\n",
              "        vertical-align: top;\n",
              "    }\n",
              "\n",
              "    .dataframe thead th {\n",
              "        text-align: right;\n",
              "    }\n",
              "</style>\n",
              "<table border=\"1\" class=\"dataframe\">\n",
              "  <thead>\n",
              "    <tr style=\"text-align: right;\">\n",
              "      <th></th>\n",
              "      <th>target</th>\n",
              "      <th>start_hour</th>\n",
              "      <th>end_hour</th>\n",
              "      <th>week_day</th>\n",
              "    </tr>\n",
              "  </thead>\n",
              "  <tbody>\n",
              "    <tr>\n",
              "      <th>21668</th>\n",
              "      <td>0</td>\n",
              "      <td>8</td>\n",
              "      <td>8</td>\n",
              "      <td>5</td>\n",
              "    </tr>\n",
              "    <tr>\n",
              "      <th>54842</th>\n",
              "      <td>0</td>\n",
              "      <td>8</td>\n",
              "      <td>9</td>\n",
              "      <td>5</td>\n",
              "    </tr>\n",
              "    <tr>\n",
              "      <th>77291</th>\n",
              "      <td>0</td>\n",
              "      <td>8</td>\n",
              "      <td>8</td>\n",
              "      <td>5</td>\n",
              "    </tr>\n",
              "    <tr>\n",
              "      <th>114020</th>\n",
              "      <td>0</td>\n",
              "      <td>8</td>\n",
              "      <td>8</td>\n",
              "      <td>5</td>\n",
              "    </tr>\n",
              "    <tr>\n",
              "      <th>146669</th>\n",
              "      <td>0</td>\n",
              "      <td>8</td>\n",
              "      <td>8</td>\n",
              "      <td>5</td>\n",
              "    </tr>\n",
              "  </tbody>\n",
              "</table>\n",
              "</div>"
            ],
            "text/plain": [
              "        target  start_hour  end_hour  week_day\n",
              "21668        0           8         8         5\n",
              "54842        0           8         9         5\n",
              "77291        0           8         8         5\n",
              "114020       0           8         8         5\n",
              "146669       0           8         8         5"
            ]
          },
          "metadata": {},
          "execution_count": 36
        }
      ]
    },
    {
      "cell_type": "code",
      "metadata": {
        "id": "AhXgQKiJVGUW"
      },
      "source": [
        "# int to string mapping\n",
        "week_days = {0: \"Monday\", 1: \"Tuesday\", 2: \"Wednesday\", 3: \"Thursday\",\n",
        "             4: \"Friday\", 5: \"Saturday\", 6: \"Sunday\"}\n",
        "\n",
        "train_feat[\"week_day\"] = train_feat[\"week_day\"].map(week_days)"
      ],
      "execution_count": 37,
      "outputs": []
    },
    {
      "cell_type": "code",
      "metadata": {
        "colab": {
          "base_uri": "https://localhost:8080/",
          "height": 463
        },
        "id": "xYCX4yW6VH9n",
        "outputId": "4d0dad66-da36-4f7d-9a03-cae50cca1eb4"
      },
      "source": [
        "two_count_plots(x1 = train_feat[train_feat[\"target\"] == 1][\"week_day\"],\n",
        "                x2 = train_feat[train_feat[\"target\"] == 0][\"week_day\"],\n",
        "                title1 = \"Alice's week day activity\",\n",
        "                title2 = \"Intruders' week day activity\")"
      ],
      "execution_count": 38,
      "outputs": [
        {
          "output_type": "display_data",
          "data": {
            "image/png": "[encoded data removed]",
            "text/plain": [
              "<Figure size 1224x504 with 2 Axes>"
            ]
          },
          "metadata": {
            "image/png": {
              "width": 1009,
              "height": 446
            }
          }
        }
      ]
    },
    {
      "cell_type": "markdown",
      "metadata": {
        "id": "6Fo8_Hd4VZAL"
      },
      "source": [
        "Alice is most active on Monday. Also Tuesday, Thursday and Friday.\n",
        "Useful feature."
      ]
    },
    {
      "cell_type": "markdown",
      "metadata": {
        "id": "_SaEEdelfNQz"
      },
      "source": [
        "---"
      ]
    },
    {
      "cell_type": "markdown",
      "metadata": {
        "id": "-ezbk5lqVaIB"
      },
      "source": [
        "### weekly observations"
      ]
    },
    {
      "cell_type": "code",
      "metadata": {
        "colab": {
          "base_uri": "https://localhost:8080/",
          "height": 202
        },
        "id": "ilrge7m4VVrv",
        "outputId": "9c72d745-fb41-4081-b43e-a023796da02c"
      },
      "source": [
        "# adding 'start_session' column \n",
        "train_feat[\"session_start\"] = train_df[TIMES].min(axis = 1)\n",
        "train_feat.head()"
      ],
      "execution_count": 39,
      "outputs": [
        {
          "output_type": "execute_result",
          "data": {
            "text/html": [
              "<div>\n",
              "<style scoped>\n",
              "    .dataframe tbody tr th:only-of-type {\n",
              "        vertical-align: middle;\n",
              "    }\n",
              "\n",
              "    .dataframe tbody tr th {\n",
              "        vertical-align: top;\n",
              "    }\n",
              "\n",
              "    .dataframe thead th {\n",
              "        text-align: right;\n",
              "    }\n",
              "</style>\n",
              "<table border=\"1\" class=\"dataframe\">\n",
              "  <thead>\n",
              "    <tr style=\"text-align: right;\">\n",
              "      <th></th>\n",
              "      <th>target</th>\n",
              "      <th>start_hour</th>\n",
              "      <th>end_hour</th>\n",
              "      <th>week_day</th>\n",
              "      <th>session_start</th>\n",
              "    </tr>\n",
              "  </thead>\n",
              "  <tbody>\n",
              "    <tr>\n",
              "      <th>21668</th>\n",
              "      <td>0</td>\n",
              "      <td>8</td>\n",
              "      <td>8</td>\n",
              "      <td>Saturday</td>\n",
              "      <td>2013-01-12 08:05:57</td>\n",
              "    </tr>\n",
              "    <tr>\n",
              "      <th>54842</th>\n",
              "      <td>0</td>\n",
              "      <td>8</td>\n",
              "      <td>9</td>\n",
              "      <td>Saturday</td>\n",
              "      <td>2013-01-12 08:37:23</td>\n",
              "    </tr>\n",
              "    <tr>\n",
              "      <th>77291</th>\n",
              "      <td>0</td>\n",
              "      <td>8</td>\n",
              "      <td>8</td>\n",
              "      <td>Saturday</td>\n",
              "      <td>2013-01-12 08:50:13</td>\n",
              "    </tr>\n",
              "    <tr>\n",
              "      <th>114020</th>\n",
              "      <td>0</td>\n",
              "      <td>8</td>\n",
              "      <td>8</td>\n",
              "      <td>Saturday</td>\n",
              "      <td>2013-01-12 08:50:17</td>\n",
              "    </tr>\n",
              "    <tr>\n",
              "      <th>146669</th>\n",
              "      <td>0</td>\n",
              "      <td>8</td>\n",
              "      <td>8</td>\n",
              "      <td>Saturday</td>\n",
              "      <td>2013-01-12 08:50:20</td>\n",
              "    </tr>\n",
              "  </tbody>\n",
              "</table>\n",
              "</div>"
            ],
            "text/plain": [
              "        target  start_hour  end_hour  week_day       session_start\n",
              "21668        0           8         8  Saturday 2013-01-12 08:05:57\n",
              "54842        0           8         9  Saturday 2013-01-12 08:37:23\n",
              "77291        0           8         8  Saturday 2013-01-12 08:50:13\n",
              "114020       0           8         8  Saturday 2013-01-12 08:50:17\n",
              "146669       0           8         8  Saturday 2013-01-12 08:50:20"
            ]
          },
          "metadata": {},
          "execution_count": 39
        }
      ]
    },
    {
      "cell_type": "code",
      "metadata": {
        "colab": {
          "base_uri": "https://localhost:8080/"
        },
        "id": "DMp9rIrLVkqV",
        "outputId": "317e704e-4d9b-483e-9e52-d71e3bb84902"
      },
      "source": [
        "train_feat[\"session_start\"].min(), train_feat[\"session_start\"].max() \n",
        "# the difference between the first and last sessions is ~60 weeks"
      ],
      "execution_count": 40,
      "outputs": [
        {
          "output_type": "execute_result",
          "data": {
            "text/plain": [
              "(Timestamp('2013-01-12 08:05:57'), Timestamp('2014-04-30 23:39:53'))"
            ]
          },
          "metadata": {},
          "execution_count": 40
        }
      ]
    },
    {
      "cell_type": "code",
      "metadata": {
        "colab": {
          "base_uri": "https://localhost:8080/",
          "height": 445
        },
        "id": "3sTYsl2cVq7U",
        "outputId": "fe7b3a0c-fb26-4b2b-d02a-572ccf9ab5b8"
      },
      "source": [
        "two_hist_plots(x1 = train_df[TIMES].min(axis = 1), \n",
        "               x2 = test_df[TIMES].min(axis = 1),\n",
        "               title1 = \"sessions by date (train_df)\",\n",
        "               title2 = \"sessions by date (test_df)\",\n",
        "               bins=60)"
      ],
      "execution_count": 41,
      "outputs": [
        {
          "output_type": "display_data",
          "data": {
            "image/png": "[encoded data removed]",
            "text/plain": [
              "<Figure size 1224x504 with 2 Axes>"
            ]
          },
          "metadata": {
            "image/png": {
              "width": 1023,
              "height": 429
            }
          }
        }
      ]
    },
    {
      "cell_type": "markdown",
      "metadata": {
        "id": "3t66BUIkcvvf"
      },
      "source": [
        "Above: The train and test sessions by date aren't equally ditributed. Predictions may not be accurate.  \n",
        "Below: The difference of Alice's and Intruders' sessions by date are different.  \n",
        "May be useful feature."
      ]
    },
    {
      "cell_type": "code",
      "metadata": {
        "colab": {
          "base_uri": "https://localhost:8080/",
          "height": 463
        },
        "id": "uBzQchiFcUPU",
        "outputId": "74eefa8c-5f80-419a-b625-7f79d0026fea"
      },
      "source": [
        "two_hist_plots(x1 = train_feat[train_feat[\"target\"] == 1][\"session_start\"],\n",
        "               x2 = train_feat[train_feat[\"target\"] == 0][\"session_start\"],\n",
        "               title1 = \"Alice's sessions by date (train)\",\n",
        "               title2 = \"Intruders' sessions by date (train)\",\n",
        "               bins=60)"
      ],
      "execution_count": 42,
      "outputs": [
        {
          "output_type": "display_data",
          "data": {
            "image/png": "[encoded data removed]",
            "text/plain": [
              "<Figure size 1224x504 with 2 Axes>"
            ]
          },
          "metadata": {
            "image/png": {
              "width": 1013,
              "height": 446
            }
          }
        }
      ]
    },
    {
      "cell_type": "markdown",
      "metadata": {
        "id": "98kn8H_6fP1z"
      },
      "source": [
        "---"
      ]
    },
    {
      "cell_type": "markdown",
      "metadata": {
        "id": "rC40Q4LIc-iu"
      },
      "source": [
        "### monthly observations"
      ]
    },
    {
      "cell_type": "code",
      "metadata": {
        "id": "u0Ha_CCecy5y"
      },
      "source": [
        "# adding 'month' column \n",
        "train_feat[\"month\"] = train_feat[\"session_start\"].apply(lambda ts: ts.month)"
      ],
      "execution_count": 43,
      "outputs": []
    },
    {
      "cell_type": "code",
      "metadata": {
        "colab": {
          "base_uri": "https://localhost:8080/",
          "height": 462
        },
        "id": "ZT-W_0OGdGuD",
        "outputId": "ae58dbe6-0ab5-4023-9643-7f0aea3e0b9b"
      },
      "source": [
        "two_hist_plots(x1 = train_feat[train_feat[\"target\"] == 1][\"month\"],\n",
        "               x2 = train_feat[train_feat[\"target\"] == 0][\"month\"],\n",
        "               title1 = \"Alice's sessions by month\",\n",
        "               title2 = \"Intruders' sessions month\",\n",
        "               bins = 12)"
      ],
      "execution_count": 44,
      "outputs": [
        {
          "output_type": "display_data",
          "data": {
            "image/png": "[encoded data removed]",
            "text/plain": [
              "<Figure size 1224x504 with 2 Axes>"
            ]
          },
          "metadata": {
            "image/png": {
              "width": 1009,
              "height": 445
            }
          }
        }
      ]
    },
    {
      "cell_type": "markdown",
      "metadata": {
        "id": "jEsizUJedNMd"
      },
      "source": [
        "- Above: Alice is active in February-April, September and November.  \n",
        "Intruders are active in January-April, November and December.  \n",
        "Plots differ a bit.\n",
        "\n",
        "- Below: train and test sessions by month aren't ditributed equally.  \n",
        "Can't make any assumptions.\n",
        "\n",
        "Feature doesn't seem to be useful.  \n",
        "It's not time series, hence months may not be relevant.\n",
        "\n"
      ]
    },
    {
      "cell_type": "code",
      "metadata": {
        "colab": {
          "base_uri": "https://localhost:8080/",
          "height": 462
        },
        "id": "iREpJ75vdIR5",
        "outputId": "38a3d5ce-9c6c-4bd9-f839-0b4f7b5784a1"
      },
      "source": [
        "two_hist_plots(x1 = train_df[\"time1\"].apply(lambda ts: ts.month), \n",
        "               x2 = test_df[\"time1\"].apply(lambda ts: ts.month),\n",
        "               title1 = \"sessions by month (train_df)\",\n",
        "               title2 = \"sessions by month (test_df)\",\n",
        "               bins = 12)"
      ],
      "execution_count": 45,
      "outputs": [
        {
          "output_type": "display_data",
          "data": {
            "image/png": "[encoded data removed]",
            "text/plain": [
              "<Figure size 1224x504 with 2 Axes>"
            ]
          },
          "metadata": {
            "image/png": {
              "width": 1023,
              "height": 445
            }
          }
        }
      ]
    },
    {
      "cell_type": "markdown",
      "metadata": {
        "id": "M6DZVw3QfSRM"
      },
      "source": [
        "---"
      ]
    },
    {
      "cell_type": "markdown",
      "metadata": {
        "id": "zuMYhBe2dcdb"
      },
      "source": [
        "### session duration"
      ]
    },
    {
      "cell_type": "code",
      "metadata": {
        "id": "7dAxrxBOdPY7"
      },
      "source": [
        "# adding 'session_length' column \n",
        "train_feat[\"session_length\"] = ( train_df[TIMES].max(axis = 1) \\\n",
        "                                - train_df[TIMES].min(axis = 1) \n",
        "                               ).dt.seconds"
      ],
      "execution_count": 46,
      "outputs": []
    },
    {
      "cell_type": "code",
      "metadata": {
        "colab": {
          "base_uri": "https://localhost:8080/",
          "height": 202
        },
        "id": "0IPWIvX1dg0h",
        "outputId": "186f00f3-a2f7-4e2d-886d-5e5ee74dca52"
      },
      "source": [
        "train_feat.head()"
      ],
      "execution_count": 47,
      "outputs": [
        {
          "output_type": "execute_result",
          "data": {
            "text/html": [
              "<div>\n",
              "<style scoped>\n",
              "    .dataframe tbody tr th:only-of-type {\n",
              "        vertical-align: middle;\n",
              "    }\n",
              "\n",
              "    .dataframe tbody tr th {\n",
              "        vertical-align: top;\n",
              "    }\n",
              "\n",
              "    .dataframe thead th {\n",
              "        text-align: right;\n",
              "    }\n",
              "</style>\n",
              "<table border=\"1\" class=\"dataframe\">\n",
              "  <thead>\n",
              "    <tr style=\"text-align: right;\">\n",
              "      <th></th>\n",
              "      <th>target</th>\n",
              "      <th>start_hour</th>\n",
              "      <th>end_hour</th>\n",
              "      <th>week_day</th>\n",
              "      <th>session_start</th>\n",
              "      <th>month</th>\n",
              "      <th>session_length</th>\n",
              "    </tr>\n",
              "  </thead>\n",
              "  <tbody>\n",
              "    <tr>\n",
              "      <th>21668</th>\n",
              "      <td>0</td>\n",
              "      <td>8</td>\n",
              "      <td>8</td>\n",
              "      <td>Saturday</td>\n",
              "      <td>2013-01-12 08:05:57</td>\n",
              "      <td>1</td>\n",
              "      <td>0</td>\n",
              "    </tr>\n",
              "    <tr>\n",
              "      <th>54842</th>\n",
              "      <td>0</td>\n",
              "      <td>8</td>\n",
              "      <td>9</td>\n",
              "      <td>Saturday</td>\n",
              "      <td>2013-01-12 08:37:23</td>\n",
              "      <td>1</td>\n",
              "      <td>1786</td>\n",
              "    </tr>\n",
              "    <tr>\n",
              "      <th>77291</th>\n",
              "      <td>0</td>\n",
              "      <td>8</td>\n",
              "      <td>8</td>\n",
              "      <td>Saturday</td>\n",
              "      <td>2013-01-12 08:50:13</td>\n",
              "      <td>1</td>\n",
              "      <td>4</td>\n",
              "    </tr>\n",
              "    <tr>\n",
              "      <th>114020</th>\n",
              "      <td>0</td>\n",
              "      <td>8</td>\n",
              "      <td>8</td>\n",
              "      <td>Saturday</td>\n",
              "      <td>2013-01-12 08:50:17</td>\n",
              "      <td>1</td>\n",
              "      <td>3</td>\n",
              "    </tr>\n",
              "    <tr>\n",
              "      <th>146669</th>\n",
              "      <td>0</td>\n",
              "      <td>8</td>\n",
              "      <td>8</td>\n",
              "      <td>Saturday</td>\n",
              "      <td>2013-01-12 08:50:20</td>\n",
              "      <td>1</td>\n",
              "      <td>2</td>\n",
              "    </tr>\n",
              "  </tbody>\n",
              "</table>\n",
              "</div>"
            ],
            "text/plain": [
              "        target  start_hour  end_hour  ...       session_start month  session_length\n",
              "21668        0           8         8  ... 2013-01-12 08:05:57     1               0\n",
              "54842        0           8         9  ... 2013-01-12 08:37:23     1            1786\n",
              "77291        0           8         8  ... 2013-01-12 08:50:13     1               4\n",
              "114020       0           8         8  ... 2013-01-12 08:50:17     1               3\n",
              "146669       0           8         8  ... 2013-01-12 08:50:20     1               2\n",
              "\n",
              "[5 rows x 7 columns]"
            ]
          },
          "metadata": {},
          "execution_count": 47
        }
      ]
    },
    {
      "cell_type": "code",
      "metadata": {
        "colab": {
          "base_uri": "https://localhost:8080/",
          "height": 463
        },
        "id": "Pga1Nabddl0_",
        "outputId": "276a8cf1-dc33-4a5c-cc3f-4cbc7aa59b5d"
      },
      "source": [
        "# Checking whether Alice's sessions' lengths differ.\n",
        "two_hist_plots(x1 = train_feat[train_feat[\"target\"] == 1][\"session_length\"],\n",
        "               x2 = train_feat[train_feat[\"target\"] == 0][\"session_length\"],\n",
        "               title1 = \"Alice's session length\",\n",
        "               title2 = \"Intruders' session length\")"
      ],
      "execution_count": 48,
      "outputs": [
        {
          "output_type": "display_data",
          "data": {
            "image/png": "[encoded data removed]",
            "text/plain": [
              "<Figure size 1224x504 with 2 Axes>"
            ]
          },
          "metadata": {
            "image/png": {
              "width": 1016,
              "height": 446
            }
          }
        }
      ]
    },
    {
      "cell_type": "code",
      "metadata": {
        "colab": {
          "base_uri": "https://localhost:8080/",
          "height": 463
        },
        "id": "jTvBIw3cducU",
        "outputId": "49dc0e46-9ce7-4144-b8d0-4f3d237ac9c0"
      },
      "source": [
        "# Not giving much information, wrapping it into logartihm.\n",
        "two_hist_plots(x1 = np.log1p(train_feat[train_feat[\"target\"] == 1][\"session_length\"] + 1),\n",
        "               x2 = np.log1p(train_feat[train_feat[\"target\"] == 0][\"session_length\"] + 1),\n",
        "               title1 = \"Alice's session length (log)\",\n",
        "               title2 = \"Intruders' session length (log)\")"
      ],
      "execution_count": 49,
      "outputs": [
        {
          "output_type": "display_data",
          "data": {
            "image/png": "[encoded data removed]",
            "text/plain": [
              "<Figure size 1224x504 with 2 Axes>"
            ]
          },
          "metadata": {
            "image/png": {
              "width": 1009,
              "height": 446
            }
          }
        }
      ]
    },
    {
      "cell_type": "markdown",
      "metadata": {
        "id": "lTmCe-Gwd7yq"
      },
      "source": [
        "There's a difference, but not crucial.  \n",
        "Feature may be useful."
      ]
    },
    {
      "cell_type": "markdown",
      "metadata": {
        "id": "VDLMjweOfUiH"
      },
      "source": [
        "---"
      ]
    },
    {
      "cell_type": "markdown",
      "metadata": {
        "id": "5pMfwkFBeBRL"
      },
      "source": [
        "### time differences in seconds"
      ]
    },
    {
      "cell_type": "code",
      "metadata": {
        "id": "YILhsur0d05O"
      },
      "source": [
        "# time difference between each time in TIMES\n",
        "# time2 - time1, time3 - time2, time4 - time3, etc., until timeX is null.\n",
        "\n",
        "# adding 'time_diff[1-9]' columns\n",
        "def get_time_diff(row):\n",
        "    row_len = row.shape[0] - 1 \n",
        "    t_diff = [0] * row_len\n",
        "    t = 0 \n",
        "    while (t < row_len) and pd.notnull(row[t + 1]): \n",
        "        t_diff[t] = (row[t + 1] - row[t]) / np.timedelta64(1,'s') \n",
        "        t += 1 \n",
        "    return t_diff\n",
        "\n",
        "\n",
        "def add_time_diff_columns(df, feat):\n",
        "    # applying for each instance in train_df\n",
        "    time_diff = []\n",
        "\n",
        "    for row in df[TIMES].values:\n",
        "        time_diff.append(get_time_diff(row))\n",
        "    time_diff = np.log1p(np.array(time_diff).astype(float))\n",
        "    \n",
        "    # adding these 9 new columns in train_feat DataFrame\n",
        "    time_diff_columns = ['time_diff_' + str(t) for t in range(1,10)] \n",
        "\n",
        "    for ind, diff_column in enumerate(time_diff_columns): \n",
        "        feat[diff_column] = time_diff[:, ind]\n",
        "        \n",
        "    return feat"
      ],
      "execution_count": 50,
      "outputs": []
    },
    {
      "cell_type": "code",
      "metadata": {
        "colab": {
          "base_uri": "https://localhost:8080/"
        },
        "id": "_-DRa8WoeO_I",
        "outputId": "ea29f120-3cf9-485d-fac7-796ac2943b41"
      },
      "source": [
        "%%time\n",
        "# adding time differences features\n",
        "train_feat = add_time_diff_columns(train_df, train_feat)"
      ],
      "execution_count": 51,
      "outputs": [
        {
          "output_type": "stream",
          "name": "stdout",
          "text": [
            "CPU times: user 18 s, sys: 167 ms, total: 18.2 s\n",
            "Wall time: 18.2 s\n"
          ]
        }
      ]
    },
    {
      "cell_type": "code",
      "metadata": {
        "colab": {
          "base_uri": "https://localhost:8080/",
          "height": 257
        },
        "id": "posCgQD6eSdY",
        "outputId": "ae7cdd37-dc09-4aea-ba38-fc22103f5982"
      },
      "source": [
        "train_feat.head(4)"
      ],
      "execution_count": 52,
      "outputs": [
        {
          "output_type": "execute_result",
          "data": {
            "text/html": [
              "<div>\n",
              "<style scoped>\n",
              "    .dataframe tbody tr th:only-of-type {\n",
              "        vertical-align: middle;\n",
              "    }\n",
              "\n",
              "    .dataframe tbody tr th {\n",
              "        vertical-align: top;\n",
              "    }\n",
              "\n",
              "    .dataframe thead th {\n",
              "        text-align: right;\n",
              "    }\n",
              "</style>\n",
              "<table border=\"1\" class=\"dataframe\">\n",
              "  <thead>\n",
              "    <tr style=\"text-align: right;\">\n",
              "      <th></th>\n",
              "      <th>target</th>\n",
              "      <th>start_hour</th>\n",
              "      <th>end_hour</th>\n",
              "      <th>week_day</th>\n",
              "      <th>session_start</th>\n",
              "      <th>month</th>\n",
              "      <th>session_length</th>\n",
              "      <th>time_diff_1</th>\n",
              "      <th>time_diff_2</th>\n",
              "      <th>time_diff_3</th>\n",
              "      <th>time_diff_4</th>\n",
              "      <th>time_diff_5</th>\n",
              "      <th>time_diff_6</th>\n",
              "      <th>time_diff_7</th>\n",
              "      <th>time_diff_8</th>\n",
              "      <th>time_diff_9</th>\n",
              "    </tr>\n",
              "  </thead>\n",
              "  <tbody>\n",
              "    <tr>\n",
              "      <th>21668</th>\n",
              "      <td>0</td>\n",
              "      <td>8</td>\n",
              "      <td>8</td>\n",
              "      <td>Saturday</td>\n",
              "      <td>2013-01-12 08:05:57</td>\n",
              "      <td>1</td>\n",
              "      <td>0</td>\n",
              "      <td>0.000000</td>\n",
              "      <td>0.000000</td>\n",
              "      <td>0.000000</td>\n",
              "      <td>0.000000</td>\n",
              "      <td>0.0</td>\n",
              "      <td>0.000000</td>\n",
              "      <td>0.0</td>\n",
              "      <td>0.000000</td>\n",
              "      <td>0.000000</td>\n",
              "    </tr>\n",
              "    <tr>\n",
              "      <th>54842</th>\n",
              "      <td>0</td>\n",
              "      <td>8</td>\n",
              "      <td>9</td>\n",
              "      <td>Saturday</td>\n",
              "      <td>2013-01-12 08:37:23</td>\n",
              "      <td>1</td>\n",
              "      <td>1786</td>\n",
              "      <td>0.000000</td>\n",
              "      <td>7.487174</td>\n",
              "      <td>1.098612</td>\n",
              "      <td>0.000000</td>\n",
              "      <td>0.0</td>\n",
              "      <td>0.000000</td>\n",
              "      <td>0.0</td>\n",
              "      <td>0.000000</td>\n",
              "      <td>0.000000</td>\n",
              "    </tr>\n",
              "    <tr>\n",
              "      <th>77291</th>\n",
              "      <td>0</td>\n",
              "      <td>8</td>\n",
              "      <td>8</td>\n",
              "      <td>Saturday</td>\n",
              "      <td>2013-01-12 08:50:13</td>\n",
              "      <td>1</td>\n",
              "      <td>4</td>\n",
              "      <td>0.693147</td>\n",
              "      <td>0.693147</td>\n",
              "      <td>0.000000</td>\n",
              "      <td>0.693147</td>\n",
              "      <td>0.0</td>\n",
              "      <td>0.000000</td>\n",
              "      <td>0.0</td>\n",
              "      <td>0.693147</td>\n",
              "      <td>0.000000</td>\n",
              "    </tr>\n",
              "    <tr>\n",
              "      <th>114020</th>\n",
              "      <td>0</td>\n",
              "      <td>8</td>\n",
              "      <td>8</td>\n",
              "      <td>Saturday</td>\n",
              "      <td>2013-01-12 08:50:17</td>\n",
              "      <td>1</td>\n",
              "      <td>3</td>\n",
              "      <td>0.000000</td>\n",
              "      <td>0.693147</td>\n",
              "      <td>0.000000</td>\n",
              "      <td>0.000000</td>\n",
              "      <td>0.0</td>\n",
              "      <td>0.693147</td>\n",
              "      <td>0.0</td>\n",
              "      <td>0.000000</td>\n",
              "      <td>0.693147</td>\n",
              "    </tr>\n",
              "  </tbody>\n",
              "</table>\n",
              "</div>"
            ],
            "text/plain": [
              "        target  start_hour  end_hour  ... time_diff_7 time_diff_8  time_diff_9\n",
              "21668        0           8         8  ...         0.0    0.000000     0.000000\n",
              "54842        0           8         9  ...         0.0    0.000000     0.000000\n",
              "77291        0           8         8  ...         0.0    0.693147     0.000000\n",
              "114020       0           8         8  ...         0.0    0.000000     0.693147\n",
              "\n",
              "[4 rows x 16 columns]"
            ]
          },
          "metadata": {},
          "execution_count": 52
        }
      ]
    },
    {
      "cell_type": "markdown",
      "metadata": {
        "id": "2wsJ4hkFfcaZ"
      },
      "source": [
        "---"
      ]
    },
    {
      "cell_type": "markdown",
      "metadata": {
        "id": "Yf-wz_W9fh-x"
      },
      "source": [
        "### most visited web sites"
      ]
    },
    {
      "cell_type": "code",
      "metadata": {
        "colab": {
          "base_uri": "https://localhost:8080/",
          "height": 202
        },
        "id": "h_UPM1WWedW-",
        "outputId": "93b11f4c-39d3-42c6-8ef0-5aadaa60eecb"
      },
      "source": [
        "train_df[SITES].head()"
      ],
      "execution_count": 53,
      "outputs": [
        {
          "output_type": "execute_result",
          "data": {
            "text/html": [
              "<div>\n",
              "<style scoped>\n",
              "    .dataframe tbody tr th:only-of-type {\n",
              "        vertical-align: middle;\n",
              "    }\n",
              "\n",
              "    .dataframe tbody tr th {\n",
              "        vertical-align: top;\n",
              "    }\n",
              "\n",
              "    .dataframe thead th {\n",
              "        text-align: right;\n",
              "    }\n",
              "</style>\n",
              "<table border=\"1\" class=\"dataframe\">\n",
              "  <thead>\n",
              "    <tr style=\"text-align: right;\">\n",
              "      <th></th>\n",
              "      <th>site1</th>\n",
              "      <th>site2</th>\n",
              "      <th>site3</th>\n",
              "      <th>site4</th>\n",
              "      <th>site5</th>\n",
              "      <th>site6</th>\n",
              "      <th>site7</th>\n",
              "      <th>site8</th>\n",
              "      <th>site9</th>\n",
              "      <th>site10</th>\n",
              "    </tr>\n",
              "  </thead>\n",
              "  <tbody>\n",
              "    <tr>\n",
              "      <th>21668</th>\n",
              "      <td>56</td>\n",
              "      <td>55</td>\n",
              "      <td>0</td>\n",
              "      <td>0</td>\n",
              "      <td>0</td>\n",
              "      <td>0</td>\n",
              "      <td>0</td>\n",
              "      <td>0</td>\n",
              "      <td>0</td>\n",
              "      <td>0</td>\n",
              "    </tr>\n",
              "    <tr>\n",
              "      <th>54842</th>\n",
              "      <td>56</td>\n",
              "      <td>55</td>\n",
              "      <td>56</td>\n",
              "      <td>55</td>\n",
              "      <td>0</td>\n",
              "      <td>0</td>\n",
              "      <td>0</td>\n",
              "      <td>0</td>\n",
              "      <td>0</td>\n",
              "      <td>0</td>\n",
              "    </tr>\n",
              "    <tr>\n",
              "      <th>77291</th>\n",
              "      <td>946</td>\n",
              "      <td>946</td>\n",
              "      <td>951</td>\n",
              "      <td>946</td>\n",
              "      <td>946</td>\n",
              "      <td>945</td>\n",
              "      <td>948</td>\n",
              "      <td>784</td>\n",
              "      <td>949</td>\n",
              "      <td>946</td>\n",
              "    </tr>\n",
              "    <tr>\n",
              "      <th>114020</th>\n",
              "      <td>945</td>\n",
              "      <td>948</td>\n",
              "      <td>949</td>\n",
              "      <td>948</td>\n",
              "      <td>945</td>\n",
              "      <td>946</td>\n",
              "      <td>947</td>\n",
              "      <td>945</td>\n",
              "      <td>946</td>\n",
              "      <td>946</td>\n",
              "    </tr>\n",
              "    <tr>\n",
              "      <th>146669</th>\n",
              "      <td>947</td>\n",
              "      <td>950</td>\n",
              "      <td>948</td>\n",
              "      <td>947</td>\n",
              "      <td>950</td>\n",
              "      <td>952</td>\n",
              "      <td>946</td>\n",
              "      <td>951</td>\n",
              "      <td>946</td>\n",
              "      <td>947</td>\n",
              "    </tr>\n",
              "  </tbody>\n",
              "</table>\n",
              "</div>"
            ],
            "text/plain": [
              "        site1  site2  site3  site4  site5  site6  site7  site8  site9  site10\n",
              "21668      56     55      0      0      0      0      0      0      0       0\n",
              "54842      56     55     56     55      0      0      0      0      0       0\n",
              "77291     946    946    951    946    946    945    948    784    949     946\n",
              "114020    945    948    949    948    945    946    947    945    946     946\n",
              "146669    947    950    948    947    950    952    946    951    946     947"
            ]
          },
          "metadata": {},
          "execution_count": 53
        }
      ]
    },
    {
      "cell_type": "code",
      "metadata": {
        "id": "6RrFGlfHfnqP"
      },
      "source": [
        "# Load websites dictionary\n",
        "with open(PATH_TO_DICT, \"rb\") as input_file:\n",
        "    site_dict = pickle.load(input_file)\n",
        "\n",
        "# Create dataframe for the dictionary\n",
        "sites_dict = pd.DataFrame(\n",
        "    list(site_dict.keys()), index=list(site_dict.values()), columns=[\"site\"]\n",
        ")"
      ],
      "execution_count": 54,
      "outputs": []
    },
    {
      "cell_type": "code",
      "metadata": {
        "colab": {
          "base_uri": "https://localhost:8080/",
          "height": 220
        },
        "id": "EGLhnKkyfqXj",
        "outputId": "586f5df5-9c14-470c-beb8-5528566e1ce2"
      },
      "source": [
        "print(u\"Websites total:\", sites_dict.shape[0])\n",
        "sites_dict.head()"
      ],
      "execution_count": 55,
      "outputs": [
        {
          "output_type": "stream",
          "name": "stdout",
          "text": [
            "Websites total: 48371\n"
          ]
        },
        {
          "output_type": "execute_result",
          "data": {
            "text/html": [
              "<div>\n",
              "<style scoped>\n",
              "    .dataframe tbody tr th:only-of-type {\n",
              "        vertical-align: middle;\n",
              "    }\n",
              "\n",
              "    .dataframe tbody tr th {\n",
              "        vertical-align: top;\n",
              "    }\n",
              "\n",
              "    .dataframe thead th {\n",
              "        text-align: right;\n",
              "    }\n",
              "</style>\n",
              "<table border=\"1\" class=\"dataframe\">\n",
              "  <thead>\n",
              "    <tr style=\"text-align: right;\">\n",
              "      <th></th>\n",
              "      <th>site</th>\n",
              "    </tr>\n",
              "  </thead>\n",
              "  <tbody>\n",
              "    <tr>\n",
              "      <th>25075</th>\n",
              "      <td>www.abmecatronique.com</td>\n",
              "    </tr>\n",
              "    <tr>\n",
              "      <th>13997</th>\n",
              "      <td>groups.live.com</td>\n",
              "    </tr>\n",
              "    <tr>\n",
              "      <th>42436</th>\n",
              "      <td>majeureliguefootball.wordpress.com</td>\n",
              "    </tr>\n",
              "    <tr>\n",
              "      <th>30911</th>\n",
              "      <td>cdt46.media.tourinsoft.eu</td>\n",
              "    </tr>\n",
              "    <tr>\n",
              "      <th>8104</th>\n",
              "      <td>www.hdwallpapers.eu</td>\n",
              "    </tr>\n",
              "  </tbody>\n",
              "</table>\n",
              "</div>"
            ],
            "text/plain": [
              "                                     site\n",
              "25075              www.abmecatronique.com\n",
              "13997                     groups.live.com\n",
              "42436  majeureliguefootball.wordpress.com\n",
              "30911           cdt46.media.tourinsoft.eu\n",
              "8104                  www.hdwallpapers.eu"
            ]
          },
          "metadata": {},
          "execution_count": 55
        }
      ]
    },
    {
      "cell_type": "code",
      "metadata": {
        "id": "Ntre2abhftW_"
      },
      "source": [
        "# defining a function for reusability\n",
        "def get_top_sites(train_sites):\n",
        "    top_sites = (\n",
        "        pd.Series(train_sites.values.flatten())\n",
        "        .value_counts()\n",
        "        .sort_values(ascending=False)\n",
        "        .head()\n",
        "    )\n",
        "    return top_sites"
      ],
      "execution_count": 56,
      "outputs": []
    },
    {
      "cell_type": "code",
      "metadata": {
        "colab": {
          "base_uri": "https://localhost:8080/",
          "height": 171
        },
        "id": "JHdAQ9pKfx73",
        "outputId": "db6b236c-8906-4a93-bb95-4404d8ba28a5"
      },
      "source": [
        "# most visited websites by all\n",
        "top_sites = get_top_sites(train_df[SITES])\n",
        "# print(top_sites)\n",
        "sites_dict.loc[top_sites.drop(0).index]"
      ],
      "execution_count": 57,
      "outputs": [
        {
          "output_type": "execute_result",
          "data": {
            "text/html": [
              "<div>\n",
              "<style scoped>\n",
              "    .dataframe tbody tr th:only-of-type {\n",
              "        vertical-align: middle;\n",
              "    }\n",
              "\n",
              "    .dataframe tbody tr th {\n",
              "        vertical-align: top;\n",
              "    }\n",
              "\n",
              "    .dataframe thead th {\n",
              "        text-align: right;\n",
              "    }\n",
              "</style>\n",
              "<table border=\"1\" class=\"dataframe\">\n",
              "  <thead>\n",
              "    <tr style=\"text-align: right;\">\n",
              "      <th></th>\n",
              "      <th>site</th>\n",
              "    </tr>\n",
              "  </thead>\n",
              "  <tbody>\n",
              "    <tr>\n",
              "      <th>21</th>\n",
              "      <td>www.google.fr</td>\n",
              "    </tr>\n",
              "    <tr>\n",
              "      <th>23</th>\n",
              "      <td>www.google.com</td>\n",
              "    </tr>\n",
              "    <tr>\n",
              "      <th>782</th>\n",
              "      <td>annotathon.org</td>\n",
              "    </tr>\n",
              "    <tr>\n",
              "      <th>22</th>\n",
              "      <td>apis.google.com</td>\n",
              "    </tr>\n",
              "  </tbody>\n",
              "</table>\n",
              "</div>"
            ],
            "text/plain": [
              "                site\n",
              "21     www.google.fr\n",
              "23    www.google.com\n",
              "782   annotathon.org\n",
              "22   apis.google.com"
            ]
          },
          "metadata": {},
          "execution_count": 57
        }
      ]
    },
    {
      "cell_type": "code",
      "metadata": {
        "colab": {
          "base_uri": "https://localhost:8080/",
          "height": 202
        },
        "id": "4C4O20nNf04Q",
        "outputId": "b185c08d-7e80-4ead-e469-8dad32334fe3"
      },
      "source": [
        "# most visited websites by Alice\n",
        "top_sites_alice = get_top_sites(train_df[train_df.target == 1][SITES])\n",
        "# print(top_sites_alice)\n",
        "sites_dict.loc[top_sites_alice.index]\n",
        "# First three -- youtube"
      ],
      "execution_count": 58,
      "outputs": [
        {
          "output_type": "execute_result",
          "data": {
            "text/html": [
              "<div>\n",
              "<style scoped>\n",
              "    .dataframe tbody tr th:only-of-type {\n",
              "        vertical-align: middle;\n",
              "    }\n",
              "\n",
              "    .dataframe tbody tr th {\n",
              "        vertical-align: top;\n",
              "    }\n",
              "\n",
              "    .dataframe thead th {\n",
              "        text-align: right;\n",
              "    }\n",
              "</style>\n",
              "<table border=\"1\" class=\"dataframe\">\n",
              "  <thead>\n",
              "    <tr style=\"text-align: right;\">\n",
              "      <th></th>\n",
              "      <th>site</th>\n",
              "    </tr>\n",
              "  </thead>\n",
              "  <tbody>\n",
              "    <tr>\n",
              "      <th>77</th>\n",
              "      <td>i1.ytimg.com</td>\n",
              "    </tr>\n",
              "    <tr>\n",
              "      <th>80</th>\n",
              "      <td>s.youtube.com</td>\n",
              "    </tr>\n",
              "    <tr>\n",
              "      <th>76</th>\n",
              "      <td>www.youtube.com</td>\n",
              "    </tr>\n",
              "    <tr>\n",
              "      <th>29</th>\n",
              "      <td>www.facebook.com</td>\n",
              "    </tr>\n",
              "    <tr>\n",
              "      <th>21</th>\n",
              "      <td>www.google.fr</td>\n",
              "    </tr>\n",
              "  </tbody>\n",
              "</table>\n",
              "</div>"
            ],
            "text/plain": [
              "                site\n",
              "77      i1.ytimg.com\n",
              "80     s.youtube.com\n",
              "76   www.youtube.com\n",
              "29  www.facebook.com\n",
              "21     www.google.fr"
            ]
          },
          "metadata": {},
          "execution_count": 58
        }
      ]
    },
    {
      "cell_type": "markdown",
      "metadata": {
        "id": "0WacuWp3gIFU"
      },
      "source": [
        "---"
      ]
    },
    {
      "cell_type": "markdown",
      "metadata": {
        "id": "tudRszq2gKsx"
      },
      "source": [
        "## DATA PREPROCESSING"
      ]
    },
    {
      "cell_type": "markdown",
      "metadata": {
        "id": "e9xkXktcbogL"
      },
      "source": [
        "### functions for preparing features"
      ]
    },
    {
      "cell_type": "code",
      "metadata": {
        "colab": {
          "base_uri": "https://localhost:8080/",
          "height": 305
        },
        "id": "ka_4dGjNf-x6",
        "outputId": "64d6f485-792b-4709-917a-9e1e6de18f98"
      },
      "source": [
        "train_feat.head()"
      ],
      "execution_count": 59,
      "outputs": [
        {
          "output_type": "execute_result",
          "data": {
            "text/html": [
              "<div>\n",
              "<style scoped>\n",
              "    .dataframe tbody tr th:only-of-type {\n",
              "        vertical-align: middle;\n",
              "    }\n",
              "\n",
              "    .dataframe tbody tr th {\n",
              "        vertical-align: top;\n",
              "    }\n",
              "\n",
              "    .dataframe thead th {\n",
              "        text-align: right;\n",
              "    }\n",
              "</style>\n",
              "<table border=\"1\" class=\"dataframe\">\n",
              "  <thead>\n",
              "    <tr style=\"text-align: right;\">\n",
              "      <th></th>\n",
              "      <th>target</th>\n",
              "      <th>start_hour</th>\n",
              "      <th>end_hour</th>\n",
              "      <th>week_day</th>\n",
              "      <th>session_start</th>\n",
              "      <th>month</th>\n",
              "      <th>session_length</th>\n",
              "      <th>time_diff_1</th>\n",
              "      <th>time_diff_2</th>\n",
              "      <th>time_diff_3</th>\n",
              "      <th>time_diff_4</th>\n",
              "      <th>time_diff_5</th>\n",
              "      <th>time_diff_6</th>\n",
              "      <th>time_diff_7</th>\n",
              "      <th>time_diff_8</th>\n",
              "      <th>time_diff_9</th>\n",
              "    </tr>\n",
              "  </thead>\n",
              "  <tbody>\n",
              "    <tr>\n",
              "      <th>21668</th>\n",
              "      <td>0</td>\n",
              "      <td>8</td>\n",
              "      <td>8</td>\n",
              "      <td>Saturday</td>\n",
              "      <td>2013-01-12 08:05:57</td>\n",
              "      <td>1</td>\n",
              "      <td>0</td>\n",
              "      <td>0.000000</td>\n",
              "      <td>0.000000</td>\n",
              "      <td>0.000000</td>\n",
              "      <td>0.000000</td>\n",
              "      <td>0.0</td>\n",
              "      <td>0.000000</td>\n",
              "      <td>0.000000</td>\n",
              "      <td>0.000000</td>\n",
              "      <td>0.000000</td>\n",
              "    </tr>\n",
              "    <tr>\n",
              "      <th>54842</th>\n",
              "      <td>0</td>\n",
              "      <td>8</td>\n",
              "      <td>9</td>\n",
              "      <td>Saturday</td>\n",
              "      <td>2013-01-12 08:37:23</td>\n",
              "      <td>1</td>\n",
              "      <td>1786</td>\n",
              "      <td>0.000000</td>\n",
              "      <td>7.487174</td>\n",
              "      <td>1.098612</td>\n",
              "      <td>0.000000</td>\n",
              "      <td>0.0</td>\n",
              "      <td>0.000000</td>\n",
              "      <td>0.000000</td>\n",
              "      <td>0.000000</td>\n",
              "      <td>0.000000</td>\n",
              "    </tr>\n",
              "    <tr>\n",
              "      <th>77291</th>\n",
              "      <td>0</td>\n",
              "      <td>8</td>\n",
              "      <td>8</td>\n",
              "      <td>Saturday</td>\n",
              "      <td>2013-01-12 08:50:13</td>\n",
              "      <td>1</td>\n",
              "      <td>4</td>\n",
              "      <td>0.693147</td>\n",
              "      <td>0.693147</td>\n",
              "      <td>0.000000</td>\n",
              "      <td>0.693147</td>\n",
              "      <td>0.0</td>\n",
              "      <td>0.000000</td>\n",
              "      <td>0.000000</td>\n",
              "      <td>0.693147</td>\n",
              "      <td>0.000000</td>\n",
              "    </tr>\n",
              "    <tr>\n",
              "      <th>114020</th>\n",
              "      <td>0</td>\n",
              "      <td>8</td>\n",
              "      <td>8</td>\n",
              "      <td>Saturday</td>\n",
              "      <td>2013-01-12 08:50:17</td>\n",
              "      <td>1</td>\n",
              "      <td>3</td>\n",
              "      <td>0.000000</td>\n",
              "      <td>0.693147</td>\n",
              "      <td>0.000000</td>\n",
              "      <td>0.000000</td>\n",
              "      <td>0.0</td>\n",
              "      <td>0.693147</td>\n",
              "      <td>0.000000</td>\n",
              "      <td>0.000000</td>\n",
              "      <td>0.693147</td>\n",
              "    </tr>\n",
              "    <tr>\n",
              "      <th>146669</th>\n",
              "      <td>0</td>\n",
              "      <td>8</td>\n",
              "      <td>8</td>\n",
              "      <td>Saturday</td>\n",
              "      <td>2013-01-12 08:50:20</td>\n",
              "      <td>1</td>\n",
              "      <td>2</td>\n",
              "      <td>0.000000</td>\n",
              "      <td>0.000000</td>\n",
              "      <td>0.693147</td>\n",
              "      <td>0.000000</td>\n",
              "      <td>0.0</td>\n",
              "      <td>0.000000</td>\n",
              "      <td>0.693147</td>\n",
              "      <td>0.000000</td>\n",
              "      <td>0.000000</td>\n",
              "    </tr>\n",
              "  </tbody>\n",
              "</table>\n",
              "</div>"
            ],
            "text/plain": [
              "        target  start_hour  end_hour  ... time_diff_7 time_diff_8  time_diff_9\n",
              "21668        0           8         8  ...    0.000000    0.000000     0.000000\n",
              "54842        0           8         9  ...    0.000000    0.000000     0.000000\n",
              "77291        0           8         8  ...    0.000000    0.693147     0.000000\n",
              "114020       0           8         8  ...    0.000000    0.000000     0.693147\n",
              "146669       0           8         8  ...    0.693147    0.000000     0.000000\n",
              "\n",
              "[5 rows x 16 columns]"
            ]
          },
          "metadata": {},
          "execution_count": 59
        }
      ]
    },
    {
      "cell_type": "code",
      "metadata": {
        "id": "qe_396lcgiAy"
      },
      "source": [
        "# \"Bag of words\" using TF-IDF technique\n",
        "def add_sparse_features(train_df, test_df, vect_params):\n",
        "  \n",
        "  with open(PATH_TO_DICT, 'rb') as f:\n",
        "    site2id = pickle.load(f)\n",
        "  # create an inverse id _> site mapping\n",
        "  id2site = {v:k for (k, v) in site2id.items()}\n",
        "  # id 0 as \"unknown\"\n",
        "  id2site[0] = 'unknown'\n",
        "\n",
        "  # STEP 3\n",
        "  # preparing data for TfidVectorizer\n",
        "  train_sites = train_df[SITES].apply(lambda row: ' '.join([id2site[i] for i in row]), \n",
        "                                      axis=1).tolist()\n",
        "  test_sites = test_df[SITES].apply(lambda row: ' '.join([id2site[i] for i in row]), \n",
        "                                    axis=1).tolist()                                   \n",
        "\n",
        "  # tf_idf vectorizing\n",
        "  vect = TfidfVectorizer(**vect_params)\n",
        "  X_train_sparse = vect.fit_transform(train_sites)\n",
        "  X_test_sparse = vect.transform(test_sites)\n",
        "\n",
        "  return X_train_sparse, X_test_sparse, vect"
      ],
      "execution_count": 60,
      "outputs": []
    },
    {
      "cell_type": "code",
      "metadata": {
        "id": "jSoJQOSmjbfE"
      },
      "source": [
        "# all the features can be added at once in a single function\n",
        "# but instead they'll be added and tested one by one\n",
        "# hence separate functions are needed\n",
        "\n",
        "# 1. start hour\n",
        "def add_start_hour(df, feat):\n",
        "  feat[\"start_hour\"] = df[\"time1\"].apply(lambda ts: ts.hour)\n",
        "  feat = pd.get_dummies(feat, columns=[\"start_hour\"], prefix='start_hour_', prefix_sep='')\n",
        "  return feat\n",
        "\n",
        "# 2. end hour\n",
        "def add_end_hour(df, feat):\n",
        "  feat = add_end_hour_column(df, feat)\n",
        "  feat = pd.get_dummies(feat, columns=[\"end_hour\"], prefix='end_hour_', prefix_sep='')\n",
        "  return feat\n",
        "\n",
        "# 3. daily observations\n",
        "def add_week_day(df, feat):\n",
        "  feat[\"week_day\"] = df[\"time1\"].dt.dayofweek\n",
        "  feat = pd.get_dummies(feat, columns=[\"week_day\"], prefix='week_day_', prefix_sep='')\n",
        "  return feat\n",
        "\n",
        "# 4. session length\n",
        "def add_session_length(df, feat):\n",
        "  feat[\"session_length\"] = (df[TIMES].max(axis = 1) - df[TIMES].min(axis = 1) \n",
        "                            ).dt.seconds\n",
        "  scaler = StandardScaler()\n",
        "  feat[\"session_length\"] = scaler.fit_transform(feat[\"session_length\"].values.reshape(-1, 1))\n",
        "  return feat\n",
        "\n",
        "# 5. time differences\n",
        "def add_time_diff(df, feat):\n",
        "  feat = add_time_diff_columns(df, feat)\n",
        "  scaler = StandardScaler()\n",
        "  time_diff_columns = ['time_diff_' + str(t) for t in range(1,10)] \n",
        "  feat[time_diff_columns] = scaler.fit_transform(feat[time_diff_columns].values)\n",
        "  return feat\n",
        "\n",
        "# 6. monthly observations [may not be useful]\n",
        "def add_month(df, feat):\n",
        "  feat[\"month\"] = df[\"time1\"].dt.month\n",
        "  feat = pd.get_dummies(feat, columns=[\"month\"], prefix='month_', prefix_sep='')\n",
        "  return feat"
      ],
      "execution_count": 119,
      "outputs": []
    },
    {
      "cell_type": "markdown",
      "metadata": {
        "id": "hFzmWV3sjxzn"
      },
      "source": [
        "---"
      ]
    },
    {
      "cell_type": "markdown",
      "metadata": {
        "id": "Dl29ghBVNTGj"
      },
      "source": [
        "## TRAINING"
      ]
    },
    {
      "cell_type": "markdown",
      "metadata": {
        "id": "cR9MQXC-a4k_"
      },
      "source": [
        "### functions for tuning, training and writing to submission"
      ]
    },
    {
      "cell_type": "code",
      "metadata": {
        "id": "mqJ8sLCba6e7"
      },
      "source": [
        "def write_to_submission_file(predicted_labels, out_file,\n",
        "                             target='target', index_label=\"session_id\"):\n",
        "    predicted_df = pd.DataFrame(predicted_labels,\n",
        "                                index = np.arange(1, predicted_labels.shape[0] + 1),\n",
        "                                columns=[target])\n",
        "    predicted_df.to_csv(out_file, index_label=index_label)"
      ],
      "execution_count": 69,
      "outputs": []
    },
    {
      "cell_type": "code",
      "metadata": {
        "id": "ZU9uWKOCa8Wr"
      },
      "source": [
        "def tuning_logit(X_train, y_train):\n",
        "  c_values = np.logspace(-2, 2, 20)\n",
        "  logit = LogisticRegression(C=1, random_state=SEED, solver='liblinear')\n",
        "  logit_grid_searcher = GridSearchCV(estimator=logit, \n",
        "                                     param_grid={'C': c_values},\n",
        "                                     scoring=SCORING, cv=TIME_SPLIT, \n",
        "                                     n_jobs=N_JOBS, verbose=1)\n",
        "  logit_grid_searcher.fit(X_train, y_train)\n",
        "  return logit_grid_searcher"
      ],
      "execution_count": 70,
      "outputs": []
    },
    {
      "cell_type": "code",
      "metadata": {
        "id": "BlJx8WKNa8em"
      },
      "source": [
        "def train_and_predict(model, X_train, y_train, X_test, \n",
        "                      site_feature_names=None, \n",
        "                      specific_feature_names=None, \n",
        "                      cv=TIME_SPLIT, scoring=SCORING,\n",
        "                      top_n_features_to_show=30, \n",
        "                      submission_file_name=\"submission.csv\"):\n",
        "    \n",
        "    cv_scores = cross_val_score(model, X_train, y_train, cv=cv, \n",
        "                                scoring=scoring, n_jobs=N_JOBS)\n",
        "    print('CV scores:', cv_scores)\n",
        "    print('CV mean: {}, CV std: {}'.format(cv_scores.mean(), cv_scores.std()))\n",
        "    model.fit(X_train, y_train)\n",
        "    \n",
        "    if site_feature_names:\n",
        "      if specific_feature_names:\n",
        "          feature_names = site_feature_names + specific_feature_names \n",
        "      else: \n",
        "          feature_names = site_feature_names\n",
        "      \n",
        "      display_html(eli5.show_weights(estimator=model, \n",
        "                                    feature_names=feature_names, \n",
        "                                    top=top_n_features_to_show))\n",
        "    \n",
        "    if specific_feature_names:\n",
        "      print('Specific feature weights:')\n",
        "      print(pd.DataFrame({'feature': specific_feature_names, \n",
        "                          'coef': model.coef_.flatten()[-len(specific_feature_names):]}))\n",
        "\n",
        "    test_pred = model.predict_proba(X_test)[:, 1]\n",
        "    write_to_submission_file(test_pred, submission_file_name) \n",
        "    \n",
        "    return cv_scores"
      ],
      "execution_count": 71,
      "outputs": []
    },
    {
      "cell_type": "markdown",
      "metadata": {
        "id": "xvFDYVjTZ9-H"
      },
      "source": [
        "### future preparation"
      ]
    },
    {
      "cell_type": "code",
      "metadata": {
        "colab": {
          "base_uri": "https://localhost:8080/",
          "height": 392
        },
        "id": "bVE29nQrjghi",
        "outputId": "c845a45a-e56d-441d-b2c8-32bd8123b8fa"
      },
      "source": [
        "# checking train_df and test_df are sorted by time1\n",
        "# should start from session_id = 21669\n",
        "print(\"TRAIN SET\")\n",
        "display(train_df.head(2))\n",
        "\n",
        "print(\"TEST SET\")\n",
        "display(test_df.head(2))"
      ],
      "execution_count": 72,
      "outputs": [
        {
          "output_type": "stream",
          "name": "stdout",
          "text": [
            "TRAIN SET\n"
          ]
        },
        {
          "output_type": "display_data",
          "data": {
            "text/html": [
              "<div>\n",
              "<style scoped>\n",
              "    .dataframe tbody tr th:only-of-type {\n",
              "        vertical-align: middle;\n",
              "    }\n",
              "\n",
              "    .dataframe tbody tr th {\n",
              "        vertical-align: top;\n",
              "    }\n",
              "\n",
              "    .dataframe thead th {\n",
              "        text-align: right;\n",
              "    }\n",
              "</style>\n",
              "<table border=\"1\" class=\"dataframe\">\n",
              "  <thead>\n",
              "    <tr style=\"text-align: right;\">\n",
              "      <th></th>\n",
              "      <th>session_id</th>\n",
              "      <th>site1</th>\n",
              "      <th>time1</th>\n",
              "      <th>site2</th>\n",
              "      <th>time2</th>\n",
              "      <th>site3</th>\n",
              "      <th>time3</th>\n",
              "      <th>site4</th>\n",
              "      <th>time4</th>\n",
              "      <th>site5</th>\n",
              "      <th>time5</th>\n",
              "      <th>site6</th>\n",
              "      <th>time6</th>\n",
              "      <th>site7</th>\n",
              "      <th>time7</th>\n",
              "      <th>site8</th>\n",
              "      <th>time8</th>\n",
              "      <th>site9</th>\n",
              "      <th>time9</th>\n",
              "      <th>site10</th>\n",
              "      <th>time10</th>\n",
              "      <th>target</th>\n",
              "    </tr>\n",
              "  </thead>\n",
              "  <tbody>\n",
              "    <tr>\n",
              "      <th>21668</th>\n",
              "      <td>21669</td>\n",
              "      <td>56</td>\n",
              "      <td>2013-01-12 08:05:57</td>\n",
              "      <td>55</td>\n",
              "      <td>2013-01-12 08:05:57</td>\n",
              "      <td>0</td>\n",
              "      <td>NaT</td>\n",
              "      <td>0</td>\n",
              "      <td>NaT</td>\n",
              "      <td>0</td>\n",
              "      <td>NaT</td>\n",
              "      <td>0</td>\n",
              "      <td>NaT</td>\n",
              "      <td>0</td>\n",
              "      <td>NaT</td>\n",
              "      <td>0</td>\n",
              "      <td>NaT</td>\n",
              "      <td>0</td>\n",
              "      <td>NaT</td>\n",
              "      <td>0</td>\n",
              "      <td>NaT</td>\n",
              "      <td>0</td>\n",
              "    </tr>\n",
              "    <tr>\n",
              "      <th>54842</th>\n",
              "      <td>54843</td>\n",
              "      <td>56</td>\n",
              "      <td>2013-01-12 08:37:23</td>\n",
              "      <td>55</td>\n",
              "      <td>2013-01-12 08:37:23</td>\n",
              "      <td>56</td>\n",
              "      <td>2013-01-12 09:07:07</td>\n",
              "      <td>55</td>\n",
              "      <td>2013-01-12 09:07:09</td>\n",
              "      <td>0</td>\n",
              "      <td>NaT</td>\n",
              "      <td>0</td>\n",
              "      <td>NaT</td>\n",
              "      <td>0</td>\n",
              "      <td>NaT</td>\n",
              "      <td>0</td>\n",
              "      <td>NaT</td>\n",
              "      <td>0</td>\n",
              "      <td>NaT</td>\n",
              "      <td>0</td>\n",
              "      <td>NaT</td>\n",
              "      <td>0</td>\n",
              "    </tr>\n",
              "  </tbody>\n",
              "</table>\n",
              "</div>"
            ],
            "text/plain": [
              "       session_id  site1               time1  ...  site10 time10  target\n",
              "21668       21669     56 2013-01-12 08:05:57  ...       0    NaT       0\n",
              "54842       54843     56 2013-01-12 08:37:23  ...       0    NaT       0\n",
              "\n",
              "[2 rows x 22 columns]"
            ]
          },
          "metadata": {}
        },
        {
          "output_type": "stream",
          "name": "stdout",
          "text": [
            "TEST SET\n"
          ]
        },
        {
          "output_type": "display_data",
          "data": {
            "text/html": [
              "<div>\n",
              "<style scoped>\n",
              "    .dataframe tbody tr th:only-of-type {\n",
              "        vertical-align: middle;\n",
              "    }\n",
              "\n",
              "    .dataframe tbody tr th {\n",
              "        vertical-align: top;\n",
              "    }\n",
              "\n",
              "    .dataframe thead th {\n",
              "        text-align: right;\n",
              "    }\n",
              "</style>\n",
              "<table border=\"1\" class=\"dataframe\">\n",
              "  <thead>\n",
              "    <tr style=\"text-align: right;\">\n",
              "      <th></th>\n",
              "      <th>session_id</th>\n",
              "      <th>site1</th>\n",
              "      <th>time1</th>\n",
              "      <th>site2</th>\n",
              "      <th>time2</th>\n",
              "      <th>site3</th>\n",
              "      <th>time3</th>\n",
              "      <th>site4</th>\n",
              "      <th>time4</th>\n",
              "      <th>site5</th>\n",
              "      <th>time5</th>\n",
              "      <th>site6</th>\n",
              "      <th>time6</th>\n",
              "      <th>site7</th>\n",
              "      <th>time7</th>\n",
              "      <th>site8</th>\n",
              "      <th>time8</th>\n",
              "      <th>site9</th>\n",
              "      <th>time9</th>\n",
              "      <th>site10</th>\n",
              "      <th>time10</th>\n",
              "    </tr>\n",
              "  </thead>\n",
              "  <tbody>\n",
              "    <tr>\n",
              "      <th>0</th>\n",
              "      <td>1</td>\n",
              "      <td>29</td>\n",
              "      <td>2014-10-04 11:19:53</td>\n",
              "      <td>35</td>\n",
              "      <td>2014-10-04 11:19:53</td>\n",
              "      <td>22</td>\n",
              "      <td>2014-10-04 11:19:54</td>\n",
              "      <td>321</td>\n",
              "      <td>2014-10-04 11:19:54</td>\n",
              "      <td>23</td>\n",
              "      <td>2014-10-04 11:19:54</td>\n",
              "      <td>2211</td>\n",
              "      <td>2014-10-04 11:19:54</td>\n",
              "      <td>6730</td>\n",
              "      <td>2014-10-04 11:19:54</td>\n",
              "      <td>21</td>\n",
              "      <td>2014-10-04 11:19:54</td>\n",
              "      <td>44582</td>\n",
              "      <td>2014-10-04 11:20:00</td>\n",
              "      <td>15336</td>\n",
              "      <td>2014-10-04 11:20:00</td>\n",
              "    </tr>\n",
              "    <tr>\n",
              "      <th>1</th>\n",
              "      <td>2</td>\n",
              "      <td>782</td>\n",
              "      <td>2014-07-03 11:00:28</td>\n",
              "      <td>782</td>\n",
              "      <td>2014-07-03 11:00:53</td>\n",
              "      <td>782</td>\n",
              "      <td>2014-07-03 11:00:58</td>\n",
              "      <td>782</td>\n",
              "      <td>2014-07-03 11:01:06</td>\n",
              "      <td>782</td>\n",
              "      <td>2014-07-03 11:01:09</td>\n",
              "      <td>782</td>\n",
              "      <td>2014-07-03 11:01:10</td>\n",
              "      <td>782</td>\n",
              "      <td>2014-07-03 11:01:23</td>\n",
              "      <td>782</td>\n",
              "      <td>2014-07-03 11:01:29</td>\n",
              "      <td>782</td>\n",
              "      <td>2014-07-03 11:01:30</td>\n",
              "      <td>782</td>\n",
              "      <td>2014-07-03 11:01:53</td>\n",
              "    </tr>\n",
              "  </tbody>\n",
              "</table>\n",
              "</div>"
            ],
            "text/plain": [
              "   session_id  site1  ... site10              time10\n",
              "0           1     29  ...  15336 2014-10-04 11:20:00\n",
              "1           2    782  ...    782 2014-07-03 11:01:53\n",
              "\n",
              "[2 rows x 21 columns]"
            ]
          },
          "metadata": {}
        }
      ]
    },
    {
      "cell_type": "markdown",
      "metadata": {
        "id": "0I9yJ3XBaqke"
      },
      "source": [
        "---"
      ]
    },
    {
      "cell_type": "markdown",
      "metadata": {
        "id": "eLLwJanWaikk"
      },
      "source": [
        "sparse matrix from SITES"
      ]
    },
    {
      "cell_type": "code",
      "metadata": {
        "id": "53TKhSTnabHX"
      },
      "source": [
        "VECT_PARAMS = {'ngram_range': (1, 5), \n",
        "               'max_features': 50000,\n",
        "               'tokenizer': lambda s: s.split()}"
      ],
      "execution_count": 73,
      "outputs": []
    },
    {
      "cell_type": "code",
      "metadata": {
        "colab": {
          "base_uri": "https://localhost:8080/"
        },
        "id": "_9tSeuimahZw",
        "outputId": "089a5ff6-6107-42a9-cfcf-d76630176f15"
      },
      "source": [
        "%%time\n",
        "X_train_sparse, X_test_sparse, vectorizer = \\\n",
        "  add_sparse_features(train_df, test_df, vect_params=VECT_PARAMS)"
      ],
      "execution_count": 74,
      "outputs": [
        {
          "output_type": "stream",
          "name": "stdout",
          "text": [
            "CPU times: user 32 s, sys: 873 ms, total: 32.8 s\n",
            "Wall time: 32.8 s\n"
          ]
        }
      ]
    },
    {
      "cell_type": "code",
      "metadata": {
        "colab": {
          "base_uri": "https://localhost:8080/"
        },
        "id": "CE1tG0PBme7k",
        "outputId": "76358bbe-e742-4636-9e6a-a03a996c6bcb"
      },
      "source": [
        "vectorizer.get_feature_names()[:10]"
      ],
      "execution_count": 75,
      "outputs": [
        {
          "output_type": "execute_result",
          "data": {
            "text/plain": [
              "['0.academia-assets.com',\n",
              " '0.docs.google.com',\n",
              " '0.docs.google.com 0.docs.google.com',\n",
              " '0.docs.google.com 0.docs.google.com 0.docs.google.com',\n",
              " '0.docs.google.com 0.docs.google.com 0.docs.google.com 0.docs.google.com',\n",
              " '0.docs.google.com 0.docs.google.com 0.drive.google.com',\n",
              " '0.docs.google.com 0.docs.google.com apis.google.com',\n",
              " '0.docs.google.com 0.docs.google.com docs.google.com',\n",
              " '0.docs.google.com 0.drive.google.com',\n",
              " '0.docs.google.com 0.drive.google.com 0.docs.google.com']"
            ]
          },
          "metadata": {},
          "execution_count": 75
        }
      ]
    },
    {
      "cell_type": "markdown",
      "metadata": {
        "id": "YGK-4059amFf"
      },
      "source": [
        "---"
      ]
    },
    {
      "cell_type": "markdown",
      "metadata": {
        "id": "o3UkKzpOb_5x"
      },
      "source": [
        "### adding baseline features and training"
      ]
    },
    {
      "cell_type": "markdown",
      "metadata": {
        "id": "HuRaPIA8cFv3"
      },
      "source": [
        "baseline"
      ]
    },
    {
      "cell_type": "code",
      "metadata": {
        "id": "RWnHkQBJcf14",
        "colab": {
          "base_uri": "https://localhost:8080/"
        },
        "outputId": "161d8cd6-8a65-4ca8-9e43-f62f642ec11b"
      },
      "source": [
        "y_train = train_df[\"target\"]\n",
        "y_train.head(2)"
      ],
      "execution_count": 76,
      "outputs": [
        {
          "output_type": "execute_result",
          "data": {
            "text/plain": [
              "21668    0\n",
              "54842    0\n",
              "Name: target, dtype: int64"
            ]
          },
          "metadata": {},
          "execution_count": 76
        }
      ]
    },
    {
      "cell_type": "code",
      "metadata": {
        "colab": {
          "base_uri": "https://localhost:8080/",
          "height": 711
        },
        "id": "ul_z0IE2cFKU",
        "outputId": "d3c8669d-29ae-48c0-9809-936f0a546bcf"
      },
      "source": [
        "%%time\n",
        "cv_scores_baseline = \\\n",
        "  train_and_predict(model=LOGIT, \n",
        "                    X_train=X_train_sparse, y_train=y_train, X_test=X_test_sparse, \n",
        "                    site_feature_names=vectorizer.get_feature_names(),\n",
        "                    submission_file_name = \\\n",
        "                      PATH_TO_SUBM + \\\n",
        "                      \"baseline_sparse_matrix.csv\")"
      ],
      "execution_count": 77,
      "outputs": [
        {
          "output_type": "stream",
          "name": "stdout",
          "text": [
            "CV scores: [0.83124023 0.65993466 0.85673565 0.92824237 0.84779639 0.88954524\n",
            " 0.88829128 0.8771044  0.92023038 0.92624209]\n",
            "CV mean: 0.862536269338128, CV std: 0.07455677913813062\n"
          ]
        },
        {
          "output_type": "display_data",
          "data": {
            "text/html": [
              "\n",
              "    <style>\n",
              "    table.eli5-weights tr:hover {\n",
              "        filter: brightness(85%);\n",
              "    }\n",
              "</style>\n",
              "\n",
              "\n",
              "\n",
              "    \n",
              "\n",
              "    \n",
              "\n",
              "    \n",
              "\n",
              "    \n",
              "\n",
              "    \n",
              "\n",
              "    \n",
              "\n",
              "\n",
              "    \n",
              "\n",
              "    \n",
              "\n",
              "    \n",
              "\n",
              "    \n",
              "        \n",
              "\n",
              "    \n",
              "\n",
              "        \n",
              "            \n",
              "                \n",
              "                \n",
              "    \n",
              "        <p style=\"margin-bottom: 0.5em; margin-top: 0em\">\n",
              "            <b>\n",
              "    \n",
              "        y=1\n",
              "    \n",
              "</b>\n",
              "\n",
              "top features\n",
              "        </p>\n",
              "    \n",
              "    <table class=\"eli5-weights\"\n",
              "           style=\"border-collapse: collapse; border: none; margin-top: 0em; table-layout: auto; margin-bottom: 2em;\">\n",
              "        <thead>\n",
              "        <tr style=\"border: none;\">\n",
              "            \n",
              "                <th style=\"padding: 0 1em 0 0.5em; text-align: right; border: none;\" title=\"Feature weights. Note that weights do not account for feature value scales, so if feature values have different scales, features with highest weights might not be the most important.\">\n",
              "                    Weight<sup>?</sup>\n",
              "                </th>\n",
              "            \n",
              "            <th style=\"padding: 0 0.5em 0 0.5em; text-align: left; border: none;\">Feature</th>\n",
              "            \n",
              "        </tr>\n",
              "        </thead>\n",
              "        <tbody>\n",
              "        \n",
              "            <tr style=\"background-color: hsl(120, 100.00%, 80.00%); border: none;\">\n",
              "    <td style=\"padding: 0 1em 0 0.5em; text-align: right; border: none;\">\n",
              "        +5.880\n",
              "    </td>\n",
              "    <td style=\"padding: 0 0.5em 0 0.5em; text-align: left; border: none;\">\n",
              "        youwatch.org\n",
              "    </td>\n",
              "    \n",
              "</tr>\n",
              "        \n",
              "            <tr style=\"background-color: hsl(120, 100.00%, 81.21%); border: none;\">\n",
              "    <td style=\"padding: 0 1em 0 0.5em; text-align: right; border: none;\">\n",
              "        +5.380\n",
              "    </td>\n",
              "    <td style=\"padding: 0 0.5em 0 0.5em; text-align: left; border: none;\">\n",
              "        cid-ed6c3e6a5c6608a4.users.storage.live.com\n",
              "    </td>\n",
              "    \n",
              "</tr>\n",
              "        \n",
              "            <tr style=\"background-color: hsl(120, 100.00%, 81.60%); border: none;\">\n",
              "    <td style=\"padding: 0 1em 0 0.5em; text-align: right; border: none;\">\n",
              "        +5.222\n",
              "    </td>\n",
              "    <td style=\"padding: 0 0.5em 0 0.5em; text-align: left; border: none;\">\n",
              "        fr.glee.wikia.com\n",
              "    </td>\n",
              "    \n",
              "</tr>\n",
              "        \n",
              "            <tr style=\"background-color: hsl(120, 100.00%, 81.86%); border: none;\">\n",
              "    <td style=\"padding: 0 1em 0 0.5em; text-align: right; border: none;\">\n",
              "        +5.114\n",
              "    </td>\n",
              "    <td style=\"padding: 0 0.5em 0 0.5em; text-align: left; border: none;\">\n",
              "        vk.com\n",
              "    </td>\n",
              "    \n",
              "</tr>\n",
              "        \n",
              "            <tr style=\"background-color: hsl(120, 100.00%, 82.46%); border: none;\">\n",
              "    <td style=\"padding: 0 1em 0 0.5em; text-align: right; border: none;\">\n",
              "        +4.875\n",
              "    </td>\n",
              "    <td style=\"padding: 0 0.5em 0 0.5em; text-align: left; border: none;\">\n",
              "        www.info-jeunes.net\n",
              "    </td>\n",
              "    \n",
              "</tr>\n",
              "        \n",
              "            <tr style=\"background-color: hsl(120, 100.00%, 83.42%); border: none;\">\n",
              "    <td style=\"padding: 0 1em 0 0.5em; text-align: right; border: none;\">\n",
              "        +4.499\n",
              "    </td>\n",
              "    <td style=\"padding: 0 0.5em 0 0.5em; text-align: left; border: none;\">\n",
              "        www.banque-chalus.fr\n",
              "    </td>\n",
              "    \n",
              "</tr>\n",
              "        \n",
              "            <tr style=\"background-color: hsl(120, 100.00%, 84.14%); border: none;\">\n",
              "    <td style=\"padding: 0 1em 0 0.5em; text-align: right; border: none;\">\n",
              "        +4.220\n",
              "    </td>\n",
              "    <td style=\"padding: 0 0.5em 0 0.5em; text-align: left; border: none;\">\n",
              "        www.express.co.uk\n",
              "    </td>\n",
              "    \n",
              "</tr>\n",
              "        \n",
              "            <tr style=\"background-color: hsl(120, 100.00%, 84.34%); border: none;\">\n",
              "    <td style=\"padding: 0 1em 0 0.5em; text-align: right; border: none;\">\n",
              "        +4.147\n",
              "    </td>\n",
              "    <td style=\"padding: 0 0.5em 0 0.5em; text-align: left; border: none;\">\n",
              "        www.audienceinsights.net\n",
              "    </td>\n",
              "    \n",
              "</tr>\n",
              "        \n",
              "            <tr style=\"background-color: hsl(120, 100.00%, 84.49%); border: none;\">\n",
              "    <td style=\"padding: 0 1em 0 0.5em; text-align: right; border: none;\">\n",
              "        +4.089\n",
              "    </td>\n",
              "    <td style=\"padding: 0 0.5em 0 0.5em; text-align: left; border: none;\">\n",
              "        www.melty.fr\n",
              "    </td>\n",
              "    \n",
              "</tr>\n",
              "        \n",
              "            <tr style=\"background-color: hsl(120, 100.00%, 84.72%); border: none;\">\n",
              "    <td style=\"padding: 0 1em 0 0.5em; text-align: right; border: none;\">\n",
              "        +4.003\n",
              "    </td>\n",
              "    <td style=\"padding: 0 0.5em 0 0.5em; text-align: left; border: none;\">\n",
              "        glee.hypnoweb.net\n",
              "    </td>\n",
              "    \n",
              "</tr>\n",
              "        \n",
              "            <tr style=\"background-color: hsl(120, 100.00%, 84.74%); border: none;\">\n",
              "    <td style=\"padding: 0 1em 0 0.5em; text-align: right; border: none;\">\n",
              "        +3.993\n",
              "    </td>\n",
              "    <td style=\"padding: 0 0.5em 0 0.5em; text-align: left; border: none;\">\n",
              "        media-1.melty.fr\n",
              "    </td>\n",
              "    \n",
              "</tr>\n",
              "        \n",
              "            <tr style=\"background-color: hsl(120, 100.00%, 84.88%); border: none;\">\n",
              "    <td style=\"padding: 0 1em 0 0.5em; text-align: right; border: none;\">\n",
              "        +3.945\n",
              "    </td>\n",
              "    <td style=\"padding: 0 0.5em 0 0.5em; text-align: left; border: none;\">\n",
              "        r4---sn-gxo5uxg-jqbe.googlevideo.com\n",
              "    </td>\n",
              "    \n",
              "</tr>\n",
              "        \n",
              "            <tr style=\"background-color: hsl(120, 100.00%, 84.95%); border: none;\">\n",
              "    <td style=\"padding: 0 1em 0 0.5em; text-align: right; border: none;\">\n",
              "        +3.917\n",
              "    </td>\n",
              "    <td style=\"padding: 0 0.5em 0 0.5em; text-align: left; border: none;\">\n",
              "        reviewer.lavoixdunord.fr\n",
              "    </td>\n",
              "    \n",
              "</tr>\n",
              "        \n",
              "            <tr style=\"background-color: hsl(120, 100.00%, 85.01%); border: none;\">\n",
              "    <td style=\"padding: 0 1em 0 0.5em; text-align: right; border: none;\">\n",
              "        +3.893\n",
              "    </td>\n",
              "    <td style=\"padding: 0 0.5em 0 0.5em; text-align: left; border: none;\">\n",
              "        browser-update.org\n",
              "    </td>\n",
              "    \n",
              "</tr>\n",
              "        \n",
              "            <tr style=\"background-color: hsl(120, 100.00%, 85.31%); border: none;\">\n",
              "    <td style=\"padding: 0 1em 0 0.5em; text-align: right; border: none;\">\n",
              "        +3.783\n",
              "    </td>\n",
              "    <td style=\"padding: 0 0.5em 0 0.5em; text-align: left; border: none;\">\n",
              "        r3---sn-gxo5uxg-jqbe.googlevideo.com\n",
              "    </td>\n",
              "    \n",
              "</tr>\n",
              "        \n",
              "            <tr style=\"background-color: hsl(120, 100.00%, 85.51%); border: none;\">\n",
              "    <td style=\"padding: 0 1em 0 0.5em; text-align: right; border: none;\">\n",
              "        +3.711\n",
              "    </td>\n",
              "    <td style=\"padding: 0 0.5em 0 0.5em; text-align: left; border: none;\">\n",
              "        api.bing.com\n",
              "    </td>\n",
              "    \n",
              "</tr>\n",
              "        \n",
              "            <tr style=\"background-color: hsl(120, 100.00%, 85.58%); border: none;\">\n",
              "    <td style=\"padding: 0 1em 0 0.5em; text-align: right; border: none;\">\n",
              "        +3.686\n",
              "    </td>\n",
              "    <td style=\"padding: 0 0.5em 0 0.5em; text-align: left; border: none;\">\n",
              "        www.kelbillet.com\n",
              "    </td>\n",
              "    \n",
              "</tr>\n",
              "        \n",
              "            <tr style=\"background-color: hsl(120, 100.00%, 85.82%); border: none;\">\n",
              "    <td style=\"padding: 0 1em 0 0.5em; text-align: right; border: none;\">\n",
              "        +3.596\n",
              "    </td>\n",
              "    <td style=\"padding: 0 0.5em 0 0.5em; text-align: left; border: none;\">\n",
              "        i1.ytimg.com\n",
              "    </td>\n",
              "    \n",
              "</tr>\n",
              "        \n",
              "            <tr style=\"background-color: hsl(120, 100.00%, 85.83%); border: none;\">\n",
              "    <td style=\"padding: 0 1em 0 0.5em; text-align: right; border: none;\">\n",
              "        +3.593\n",
              "    </td>\n",
              "    <td style=\"padding: 0 0.5em 0 0.5em; text-align: left; border: none;\">\n",
              "        dub119.mail.live.com\n",
              "    </td>\n",
              "    \n",
              "</tr>\n",
              "        \n",
              "            <tr style=\"background-color: hsl(120, 100.00%, 85.99%); border: none;\">\n",
              "    <td style=\"padding: 0 1em 0 0.5em; text-align: right; border: none;\">\n",
              "        +3.536\n",
              "    </td>\n",
              "    <td style=\"padding: 0 0.5em 0 0.5em; text-align: left; border: none;\">\n",
              "        www.video.tt\n",
              "    </td>\n",
              "    \n",
              "</tr>\n",
              "        \n",
              "            <tr style=\"background-color: hsl(120, 100.00%, 86.03%); border: none;\">\n",
              "    <td style=\"padding: 0 1em 0 0.5em; text-align: right; border: none;\">\n",
              "        +3.521\n",
              "    </td>\n",
              "    <td style=\"padding: 0 0.5em 0 0.5em; text-align: left; border: none;\">\n",
              "        www.purepeople.com\n",
              "    </td>\n",
              "    \n",
              "</tr>\n",
              "        \n",
              "            <tr style=\"background-color: hsl(120, 100.00%, 86.06%); border: none;\">\n",
              "    <td style=\"padding: 0 1em 0 0.5em; text-align: right; border: none;\">\n",
              "        +3.512\n",
              "    </td>\n",
              "    <td style=\"padding: 0 0.5em 0 0.5em; text-align: left; border: none;\">\n",
              "        www.cjn.justice.gouv.fr\n",
              "    </td>\n",
              "    \n",
              "</tr>\n",
              "        \n",
              "            <tr style=\"background-color: hsl(120, 100.00%, 86.06%); border: none;\">\n",
              "    <td style=\"padding: 0 1em 0 0.5em; text-align: right; border: none;\">\n",
              "        +3.511\n",
              "    </td>\n",
              "    <td style=\"padding: 0 0.5em 0 0.5em; text-align: left; border: none;\">\n",
              "        www.bbc.co.uk\n",
              "    </td>\n",
              "    \n",
              "</tr>\n",
              "        \n",
              "            <tr style=\"background-color: hsl(120, 100.00%, 86.30%); border: none;\">\n",
              "    <td style=\"padding: 0 1em 0 0.5em; text-align: right; border: none;\">\n",
              "        +3.424\n",
              "    </td>\n",
              "    <td style=\"padding: 0 0.5em 0 0.5em; text-align: left; border: none;\">\n",
              "        www.tete-en-lair.com\n",
              "    </td>\n",
              "    \n",
              "</tr>\n",
              "        \n",
              "            <tr style=\"background-color: hsl(120, 100.00%, 86.35%); border: none;\">\n",
              "    <td style=\"padding: 0 1em 0 0.5em; text-align: right; border: none;\">\n",
              "        +3.406\n",
              "    </td>\n",
              "    <td style=\"padding: 0 0.5em 0 0.5em; text-align: left; border: none;\">\n",
              "        www.jeux.com\n",
              "    </td>\n",
              "    \n",
              "</tr>\n",
              "        \n",
              "            <tr style=\"background-color: hsl(120, 100.00%, 86.45%); border: none;\">\n",
              "    <td style=\"padding: 0 1em 0 0.5em; text-align: right; border: none;\">\n",
              "        +3.373\n",
              "    </td>\n",
              "    <td style=\"padding: 0 0.5em 0 0.5em; text-align: left; border: none;\">\n",
              "        s.radio-canada.ca\n",
              "    </td>\n",
              "    \n",
              "</tr>\n",
              "        \n",
              "            <tr style=\"background-color: hsl(120, 100.00%, 86.50%); border: none;\">\n",
              "    <td style=\"padding: 0 1em 0 0.5em; text-align: right; border: none;\">\n",
              "        +3.355\n",
              "    </td>\n",
              "    <td style=\"padding: 0 0.5em 0 0.5em; text-align: left; border: none;\">\n",
              "        r1---sn-gxo5uxg-jqbe.googlevideo.com\n",
              "    </td>\n",
              "    \n",
              "</tr>\n",
              "        \n",
              "        \n",
              "            <tr style=\"background-color: hsl(120, 100.00%, 86.50%); border: none;\">\n",
              "                <td colspan=\"2\" style=\"padding: 0 0.5em 0 0.5em; text-align: center; border: none; white-space: nowrap;\">\n",
              "                    <i>&hellip; 4840 more positive &hellip;</i>\n",
              "                </td>\n",
              "            </tr>\n",
              "        \n",
              "\n",
              "        \n",
              "            <tr style=\"background-color: hsl(0, 100.00%, 85.08%); border: none;\">\n",
              "                <td colspan=\"2\" style=\"padding: 0 0.5em 0 0.5em; text-align: center; border: none; white-space: nowrap;\">\n",
              "                    <i>&hellip; 45131 more negative &hellip;</i>\n",
              "                </td>\n",
              "            </tr>\n",
              "        \n",
              "        \n",
              "            <tr style=\"background-color: hsl(0, 100.00%, 85.08%); border: none;\">\n",
              "    <td style=\"padding: 0 1em 0 0.5em; text-align: right; border: none;\">\n",
              "        -3.869\n",
              "    </td>\n",
              "    <td style=\"padding: 0 0.5em 0 0.5em; text-align: left; border: none;\">\n",
              "        mail.google.com\n",
              "    </td>\n",
              "    \n",
              "</tr>\n",
              "        \n",
              "            <tr style=\"background-color: hsl(0, 100.00%, 81.72%); border: none;\">\n",
              "    <td style=\"padding: 0 1em 0 0.5em; text-align: right; border: none;\">\n",
              "        -5.171\n",
              "    </td>\n",
              "    <td style=\"padding: 0 0.5em 0 0.5em; text-align: left; border: none;\">\n",
              "        plus.google.com\n",
              "    </td>\n",
              "    \n",
              "</tr>\n",
              "        \n",
              "            <tr style=\"background-color: hsl(0, 100.00%, 80.80%); border: none;\">\n",
              "    <td style=\"padding: 0 1em 0 0.5em; text-align: right; border: none;\">\n",
              "        -5.549\n",
              "    </td>\n",
              "    <td style=\"padding: 0 0.5em 0 0.5em; text-align: left; border: none;\">\n",
              "        &lt;BIAS&gt;\n",
              "    </td>\n",
              "    \n",
              "</tr>\n",
              "        \n",
              "\n",
              "        </tbody>\n",
              "    </table>\n",
              "\n",
              "            \n",
              "        \n",
              "\n",
              "        \n",
              "\n",
              "\n",
              "\n",
              "    \n",
              "\n",
              "    \n",
              "\n",
              "    \n",
              "\n",
              "    \n",
              "\n",
              "\n",
              "    \n",
              "\n",
              "    \n",
              "\n",
              "    \n",
              "\n",
              "    \n",
              "\n",
              "    \n",
              "\n",
              "    \n",
              "\n",
              "\n",
              "    \n",
              "\n",
              "    \n",
              "\n",
              "    \n",
              "\n",
              "    \n",
              "\n",
              "    \n",
              "\n",
              "    \n",
              "\n",
              "\n",
              "\n"
            ]
          },
          "metadata": {}
        },
        {
          "output_type": "stream",
          "name": "stdout",
          "text": [
            "CPU times: user 3.69 s, sys: 2.38 s, total: 6.07 s\n",
            "Wall time: 14.4 s\n"
          ]
        }
      ]
    },
    {
      "cell_type": "code",
      "metadata": {
        "id": "fPxo4fUdnVdt"
      },
      "source": [
        "# public leader board score\n",
        "plbs_baseline = 0.91807"
      ],
      "execution_count": 78,
      "outputs": []
    },
    {
      "cell_type": "markdown",
      "metadata": {
        "id": "gIA5wU1Nel2f"
      },
      "source": [
        "---"
      ]
    },
    {
      "cell_type": "markdown",
      "metadata": {
        "id": "9OMImJJ_qstc"
      },
      "source": [
        "### feature 1: sparse + start hour"
      ]
    },
    {
      "cell_type": "code",
      "metadata": {
        "id": "ieAIbhA3MEcM"
      },
      "source": [
        "# creating new features DataFrame\n",
        "full_df = pd.concat([train_df.drop('target', axis=1), test_df]).copy()\n",
        "\n",
        "# index to split train_df from test_df\n",
        "idx_split = train_df.shape[0]"
      ],
      "execution_count": 79,
      "outputs": []
    },
    {
      "cell_type": "code",
      "metadata": {
        "colab": {
          "base_uri": "https://localhost:8080/"
        },
        "id": "5caXbf3YMjzJ",
        "outputId": "0911fa24-f0a8-4400-c4d7-9256d57db1c8"
      },
      "source": [
        "new_feat_full = pd.DataFrame(index=full_df.index)\n",
        "new_feat_full = add_start_hour(full_df, new_feat_full)\n",
        "new_feat_full.columns"
      ],
      "execution_count": 99,
      "outputs": [
        {
          "output_type": "execute_result",
          "data": {
            "text/plain": [
              "Index(['start_hour_7', 'start_hour_8', 'start_hour_9', 'start_hour_10',\n",
              "       'start_hour_11', 'start_hour_12', 'start_hour_13', 'start_hour_14',\n",
              "       'start_hour_15', 'start_hour_16', 'start_hour_17', 'start_hour_18',\n",
              "       'start_hour_19', 'start_hour_20', 'start_hour_21', 'start_hour_22',\n",
              "       'start_hour_23'],\n",
              "      dtype='object')"
            ]
          },
          "metadata": {},
          "execution_count": 99
        }
      ]
    },
    {
      "cell_type": "code",
      "metadata": {
        "id": "Kg9MCwuNM4hy"
      },
      "source": [
        "# splitting train and test data\n",
        "X_train = hstack([X_train_sparse, new_feat_full[:idx_split].values])\n",
        "X_test = hstack([X_test_sparse, new_feat_full[idx_split:].values])"
      ],
      "execution_count": 81,
      "outputs": []
    },
    {
      "cell_type": "code",
      "metadata": {
        "colab": {
          "base_uri": "https://localhost:8080/"
        },
        "id": "LPJ7Vjp8OA83",
        "outputId": "a638013d-032a-42f0-b104-edb4467c66c8"
      },
      "source": [
        "print(X_train.get_shape)\n",
        "print(X_test.get_shape)"
      ],
      "execution_count": 82,
      "outputs": [
        {
          "output_type": "stream",
          "name": "stdout",
          "text": [
            "<bound method spmatrix.get_shape of <253561x50017 sparse matrix of type '<class 'numpy.float64'>'\n",
            "\twith 4366334 stored elements in COOrdinate format>>\n",
            "<bound method spmatrix.get_shape of <82797x50017 sparse matrix of type '<class 'numpy.float64'>'\n",
            "\twith 1347651 stored elements in COOrdinate format>>\n"
          ]
        }
      ]
    },
    {
      "cell_type": "code",
      "metadata": {
        "id": "IkulP3phOEW-"
      },
      "source": [
        "# to see start_hour coef in eli5 table\n",
        "specific_feature_names = ['start_hour_' + str(x) for x in range (7,24)]"
      ],
      "execution_count": 83,
      "outputs": []
    },
    {
      "cell_type": "code",
      "metadata": {
        "colab": {
          "base_uri": "https://localhost:8080/",
          "height": 1000
        },
        "id": "tfJUD3qjOGmk",
        "outputId": "0d5347f9-fc34-447b-9b8b-e7a3bfdddc4a"
      },
      "source": [
        "%%time\n",
        "cv_scores_1 = \\\n",
        "  train_and_predict(model=LOGIT, \n",
        "                    X_train=X_train, y_train=y_train, X_test=X_test, \n",
        "                    site_feature_names=vectorizer.get_feature_names(),\n",
        "                    specific_feature_names=specific_feature_names,\n",
        "                    submission_file_name = PATH_TO_SUBM + \"feature_1.csv\")"
      ],
      "execution_count": 84,
      "outputs": [
        {
          "output_type": "stream",
          "name": "stdout",
          "text": [
            "CV scores: [0.65844406 0.83867378 0.95866681 0.94103382 0.92837891 0.97659296\n",
            " 0.86126152 0.95669368 0.96259841 0.97184857]\n",
            "CV mean: 0.9054192519662572, CV std: 0.0934930632418389\n"
          ]
        },
        {
          "output_type": "display_data",
          "data": {
            "text/html": [
              "\n",
              "    <style>\n",
              "    table.eli5-weights tr:hover {\n",
              "        filter: brightness(85%);\n",
              "    }\n",
              "</style>\n",
              "\n",
              "\n",
              "\n",
              "    \n",
              "\n",
              "    \n",
              "\n",
              "    \n",
              "\n",
              "    \n",
              "\n",
              "    \n",
              "\n",
              "    \n",
              "\n",
              "\n",
              "    \n",
              "\n",
              "    \n",
              "\n",
              "    \n",
              "\n",
              "    \n",
              "        \n",
              "\n",
              "    \n",
              "\n",
              "        \n",
              "            \n",
              "                \n",
              "                \n",
              "    \n",
              "        <p style=\"margin-bottom: 0.5em; margin-top: 0em\">\n",
              "            <b>\n",
              "    \n",
              "        y=1\n",
              "    \n",
              "</b>\n",
              "\n",
              "top features\n",
              "        </p>\n",
              "    \n",
              "    <table class=\"eli5-weights\"\n",
              "           style=\"border-collapse: collapse; border: none; margin-top: 0em; table-layout: auto; margin-bottom: 2em;\">\n",
              "        <thead>\n",
              "        <tr style=\"border: none;\">\n",
              "            \n",
              "                <th style=\"padding: 0 1em 0 0.5em; text-align: right; border: none;\" title=\"Feature weights. Note that weights do not account for feature value scales, so if feature values have different scales, features with highest weights might not be the most important.\">\n",
              "                    Weight<sup>?</sup>\n",
              "                </th>\n",
              "            \n",
              "            <th style=\"padding: 0 0.5em 0 0.5em; text-align: left; border: none;\">Feature</th>\n",
              "            \n",
              "        </tr>\n",
              "        </thead>\n",
              "        <tbody>\n",
              "        \n",
              "            <tr style=\"background-color: hsl(120, 100.00%, 83.00%); border: none;\">\n",
              "    <td style=\"padding: 0 1em 0 0.5em; text-align: right; border: none;\">\n",
              "        +5.233\n",
              "    </td>\n",
              "    <td style=\"padding: 0 0.5em 0 0.5em; text-align: left; border: none;\">\n",
              "        www.melty.fr\n",
              "    </td>\n",
              "    \n",
              "</tr>\n",
              "        \n",
              "            <tr style=\"background-color: hsl(120, 100.00%, 83.47%); border: none;\">\n",
              "    <td style=\"padding: 0 1em 0 0.5em; text-align: right; border: none;\">\n",
              "        +5.027\n",
              "    </td>\n",
              "    <td style=\"padding: 0 0.5em 0 0.5em; text-align: left; border: none;\">\n",
              "        cid-ed6c3e6a5c6608a4.users.storage.live.com\n",
              "    </td>\n",
              "    \n",
              "</tr>\n",
              "        \n",
              "            <tr style=\"background-color: hsl(120, 100.00%, 83.96%); border: none;\">\n",
              "    <td style=\"padding: 0 1em 0 0.5em; text-align: right; border: none;\">\n",
              "        +4.814\n",
              "    </td>\n",
              "    <td style=\"padding: 0 0.5em 0 0.5em; text-align: left; border: none;\">\n",
              "        www.express.co.uk\n",
              "    </td>\n",
              "    \n",
              "</tr>\n",
              "        \n",
              "            <tr style=\"background-color: hsl(120, 100.00%, 84.81%); border: none;\">\n",
              "    <td style=\"padding: 0 1em 0 0.5em; text-align: right; border: none;\">\n",
              "        +4.457\n",
              "    </td>\n",
              "    <td style=\"padding: 0 0.5em 0 0.5em; text-align: left; border: none;\">\n",
              "        youwatch.org\n",
              "    </td>\n",
              "    \n",
              "</tr>\n",
              "        \n",
              "            <tr style=\"background-color: hsl(120, 100.00%, 84.81%); border: none;\">\n",
              "    <td style=\"padding: 0 1em 0 0.5em; text-align: right; border: none;\">\n",
              "        +4.456\n",
              "    </td>\n",
              "    <td style=\"padding: 0 0.5em 0 0.5em; text-align: left; border: none;\">\n",
              "        www.info-jeunes.net\n",
              "    </td>\n",
              "    \n",
              "</tr>\n",
              "        \n",
              "            <tr style=\"background-color: hsl(120, 100.00%, 85.10%); border: none;\">\n",
              "    <td style=\"padding: 0 1em 0 0.5em; text-align: right; border: none;\">\n",
              "        +4.337\n",
              "    </td>\n",
              "    <td style=\"padding: 0 0.5em 0 0.5em; text-align: left; border: none;\">\n",
              "        www.audienceinsights.net\n",
              "    </td>\n",
              "    \n",
              "</tr>\n",
              "        \n",
              "            <tr style=\"background-color: hsl(120, 100.00%, 85.28%); border: none;\">\n",
              "    <td style=\"padding: 0 1em 0 0.5em; text-align: right; border: none;\">\n",
              "        +4.260\n",
              "    </td>\n",
              "    <td style=\"padding: 0 0.5em 0 0.5em; text-align: left; border: none;\">\n",
              "        vk.com\n",
              "    </td>\n",
              "    \n",
              "</tr>\n",
              "        \n",
              "            <tr style=\"background-color: hsl(120, 100.00%, 86.31%); border: none;\">\n",
              "    <td style=\"padding: 0 1em 0 0.5em; text-align: right; border: none;\">\n",
              "        +3.843\n",
              "    </td>\n",
              "    <td style=\"padding: 0 0.5em 0 0.5em; text-align: left; border: none;\">\n",
              "        fr.glee.wikia.com\n",
              "    </td>\n",
              "    \n",
              "</tr>\n",
              "        \n",
              "            <tr style=\"background-color: hsl(120, 100.00%, 86.35%); border: none;\">\n",
              "    <td style=\"padding: 0 1em 0 0.5em; text-align: right; border: none;\">\n",
              "        +3.825\n",
              "    </td>\n",
              "    <td style=\"padding: 0 0.5em 0 0.5em; text-align: left; border: none;\">\n",
              "        www.banque-chalus.fr\n",
              "    </td>\n",
              "    \n",
              "</tr>\n",
              "        \n",
              "            <tr style=\"background-color: hsl(120, 100.00%, 87.06%); border: none;\">\n",
              "    <td style=\"padding: 0 1em 0 0.5em; text-align: right; border: none;\">\n",
              "        +3.545\n",
              "    </td>\n",
              "    <td style=\"padding: 0 0.5em 0 0.5em; text-align: left; border: none;\">\n",
              "        i1.ytimg.com\n",
              "    </td>\n",
              "    \n",
              "</tr>\n",
              "        \n",
              "            <tr style=\"background-color: hsl(120, 100.00%, 87.20%); border: none;\">\n",
              "    <td style=\"padding: 0 1em 0 0.5em; text-align: right; border: none;\">\n",
              "        +3.491\n",
              "    </td>\n",
              "    <td style=\"padding: 0 0.5em 0 0.5em; text-align: left; border: none;\">\n",
              "        r4---sn-gxo5uxg-jqbe.googlevideo.com\n",
              "    </td>\n",
              "    \n",
              "</tr>\n",
              "        \n",
              "            <tr style=\"background-color: hsl(120, 100.00%, 87.46%); border: none;\">\n",
              "    <td style=\"padding: 0 1em 0 0.5em; text-align: right; border: none;\">\n",
              "        +3.389\n",
              "    </td>\n",
              "    <td style=\"padding: 0 0.5em 0 0.5em; text-align: left; border: none;\">\n",
              "        s.radio-canada.ca\n",
              "    </td>\n",
              "    \n",
              "</tr>\n",
              "        \n",
              "            <tr style=\"background-color: hsl(120, 100.00%, 87.56%); border: none;\">\n",
              "    <td style=\"padding: 0 1em 0 0.5em; text-align: right; border: none;\">\n",
              "        +3.351\n",
              "    </td>\n",
              "    <td style=\"padding: 0 0.5em 0 0.5em; text-align: left; border: none;\">\n",
              "        www.clermont-filmfest.com\n",
              "    </td>\n",
              "    \n",
              "</tr>\n",
              "        \n",
              "            <tr style=\"background-color: hsl(120, 100.00%, 87.56%); border: none;\">\n",
              "    <td style=\"padding: 0 1em 0 0.5em; text-align: right; border: none;\">\n",
              "        +3.349\n",
              "    </td>\n",
              "    <td style=\"padding: 0 0.5em 0 0.5em; text-align: left; border: none;\">\n",
              "        media.melty.fr\n",
              "    </td>\n",
              "    \n",
              "</tr>\n",
              "        \n",
              "            <tr style=\"background-color: hsl(120, 100.00%, 87.62%); border: none;\">\n",
              "    <td style=\"padding: 0 1em 0 0.5em; text-align: right; border: none;\">\n",
              "        +3.325\n",
              "    </td>\n",
              "    <td style=\"padding: 0 0.5em 0 0.5em; text-align: left; border: none;\">\n",
              "        www.demotivateur.fr\n",
              "    </td>\n",
              "    \n",
              "</tr>\n",
              "        \n",
              "            <tr style=\"background-color: hsl(120, 100.00%, 87.75%); border: none;\">\n",
              "    <td style=\"padding: 0 1em 0 0.5em; text-align: right; border: none;\">\n",
              "        +3.275\n",
              "    </td>\n",
              "    <td style=\"padding: 0 0.5em 0 0.5em; text-align: left; border: none;\">\n",
              "        api.bing.com\n",
              "    </td>\n",
              "    \n",
              "</tr>\n",
              "        \n",
              "            <tr style=\"background-color: hsl(120, 100.00%, 87.86%); border: none;\">\n",
              "    <td style=\"padding: 0 1em 0 0.5em; text-align: right; border: none;\">\n",
              "        +3.233\n",
              "    </td>\n",
              "    <td style=\"padding: 0 0.5em 0 0.5em; text-align: left; border: none;\">\n",
              "        reviewer.lavoixdunord.fr\n",
              "    </td>\n",
              "    \n",
              "</tr>\n",
              "        \n",
              "            <tr style=\"background-color: hsl(120, 100.00%, 87.88%); border: none;\">\n",
              "    <td style=\"padding: 0 1em 0 0.5em; text-align: right; border: none;\">\n",
              "        +3.226\n",
              "    </td>\n",
              "    <td style=\"padding: 0 0.5em 0 0.5em; text-align: left; border: none;\">\n",
              "        dub119.mail.live.com\n",
              "    </td>\n",
              "    \n",
              "</tr>\n",
              "        \n",
              "            <tr style=\"background-color: hsl(120, 100.00%, 87.90%); border: none;\">\n",
              "    <td style=\"padding: 0 1em 0 0.5em; text-align: right; border: none;\">\n",
              "        +3.219\n",
              "    </td>\n",
              "    <td style=\"padding: 0 0.5em 0 0.5em; text-align: left; border: none;\">\n",
              "        s.videostep.com\n",
              "    </td>\n",
              "    \n",
              "</tr>\n",
              "        \n",
              "            <tr style=\"background-color: hsl(120, 100.00%, 87.97%); border: none;\">\n",
              "    <td style=\"padding: 0 1em 0 0.5em; text-align: right; border: none;\">\n",
              "        +3.194\n",
              "    </td>\n",
              "    <td style=\"padding: 0 0.5em 0 0.5em; text-align: left; border: none;\">\n",
              "        www.purepeople.com\n",
              "    </td>\n",
              "    \n",
              "</tr>\n",
              "        \n",
              "            <tr style=\"background-color: hsl(120, 100.00%, 88.01%); border: none;\">\n",
              "    <td style=\"padding: 0 1em 0 0.5em; text-align: right; border: none;\">\n",
              "        +3.177\n",
              "    </td>\n",
              "    <td style=\"padding: 0 0.5em 0 0.5em; text-align: left; border: none;\">\n",
              "        media-1.melty.fr\n",
              "    </td>\n",
              "    \n",
              "</tr>\n",
              "        \n",
              "            <tr style=\"background-color: hsl(120, 100.00%, 88.03%); border: none;\">\n",
              "    <td style=\"padding: 0 1em 0 0.5em; text-align: right; border: none;\">\n",
              "        +3.170\n",
              "    </td>\n",
              "    <td style=\"padding: 0 0.5em 0 0.5em; text-align: left; border: none;\">\n",
              "        www.kelbillet.com\n",
              "    </td>\n",
              "    \n",
              "</tr>\n",
              "        \n",
              "            <tr style=\"background-color: hsl(120, 100.00%, 88.04%); border: none;\">\n",
              "    <td style=\"padding: 0 1em 0 0.5em; text-align: right; border: none;\">\n",
              "        +3.166\n",
              "    </td>\n",
              "    <td style=\"padding: 0 0.5em 0 0.5em; text-align: left; border: none;\">\n",
              "        glee.hypnoweb.net\n",
              "    </td>\n",
              "    \n",
              "</tr>\n",
              "        \n",
              "            <tr style=\"background-color: hsl(120, 100.00%, 88.09%); border: none;\">\n",
              "    <td style=\"padding: 0 1em 0 0.5em; text-align: right; border: none;\">\n",
              "        +3.149\n",
              "    </td>\n",
              "    <td style=\"padding: 0 0.5em 0 0.5em; text-align: left; border: none;\">\n",
              "        browser-update.org\n",
              "    </td>\n",
              "    \n",
              "</tr>\n",
              "        \n",
              "            <tr style=\"background-color: hsl(120, 100.00%, 88.10%); border: none;\">\n",
              "    <td style=\"padding: 0 1em 0 0.5em; text-align: right; border: none;\">\n",
              "        +3.143\n",
              "    </td>\n",
              "    <td style=\"padding: 0 0.5em 0 0.5em; text-align: left; border: none;\">\n",
              "        www.tete-en-lair.com\n",
              "    </td>\n",
              "    \n",
              "</tr>\n",
              "        \n",
              "            <tr style=\"background-color: hsl(120, 100.00%, 88.20%); border: none;\">\n",
              "    <td style=\"padding: 0 1em 0 0.5em; text-align: right; border: none;\">\n",
              "        +3.105\n",
              "    </td>\n",
              "    <td style=\"padding: 0 0.5em 0 0.5em; text-align: left; border: none;\">\n",
              "        www.caf.fr\n",
              "    </td>\n",
              "    \n",
              "</tr>\n",
              "        \n",
              "        \n",
              "            <tr style=\"background-color: hsl(120, 100.00%, 88.20%); border: none;\">\n",
              "                <td colspan=\"2\" style=\"padding: 0 0.5em 0 0.5em; text-align: center; border: none; white-space: nowrap;\">\n",
              "                    <i>&hellip; 4845 more positive &hellip;</i>\n",
              "                </td>\n",
              "            </tr>\n",
              "        \n",
              "\n",
              "        \n",
              "            <tr style=\"background-color: hsl(0, 100.00%, 87.30%); border: none;\">\n",
              "                <td colspan=\"2\" style=\"padding: 0 0.5em 0 0.5em; text-align: center; border: none; white-space: nowrap;\">\n",
              "                    <i>&hellip; 45143 more negative &hellip;</i>\n",
              "                </td>\n",
              "            </tr>\n",
              "        \n",
              "        \n",
              "            <tr style=\"background-color: hsl(0, 100.00%, 87.30%); border: none;\">\n",
              "    <td style=\"padding: 0 1em 0 0.5em; text-align: right; border: none;\">\n",
              "        -3.452\n",
              "    </td>\n",
              "    <td style=\"padding: 0 0.5em 0 0.5em; text-align: left; border: none;\">\n",
              "        start_hour_10\n",
              "    </td>\n",
              "    \n",
              "</tr>\n",
              "        \n",
              "            <tr style=\"background-color: hsl(0, 100.00%, 85.06%); border: none;\">\n",
              "    <td style=\"padding: 0 1em 0 0.5em; text-align: right; border: none;\">\n",
              "        -4.351\n",
              "    </td>\n",
              "    <td style=\"padding: 0 0.5em 0 0.5em; text-align: left; border: none;\">\n",
              "        mail.google.com\n",
              "    </td>\n",
              "    \n",
              "</tr>\n",
              "        \n",
              "            <tr style=\"background-color: hsl(0, 100.00%, 83.07%); border: none;\">\n",
              "    <td style=\"padding: 0 1em 0 0.5em; text-align: right; border: none;\">\n",
              "        -5.201\n",
              "    </td>\n",
              "    <td style=\"padding: 0 0.5em 0 0.5em; text-align: left; border: none;\">\n",
              "        plus.google.com\n",
              "    </td>\n",
              "    \n",
              "</tr>\n",
              "        \n",
              "            <tr style=\"background-color: hsl(0, 100.00%, 80.00%); border: none;\">\n",
              "    <td style=\"padding: 0 1em 0 0.5em; text-align: right; border: none;\">\n",
              "        -6.601\n",
              "    </td>\n",
              "    <td style=\"padding: 0 0.5em 0 0.5em; text-align: left; border: none;\">\n",
              "        &lt;BIAS&gt;\n",
              "    </td>\n",
              "    \n",
              "</tr>\n",
              "        \n",
              "\n",
              "        </tbody>\n",
              "    </table>\n",
              "\n",
              "            \n",
              "        \n",
              "\n",
              "        \n",
              "\n",
              "\n",
              "\n",
              "    \n",
              "\n",
              "    \n",
              "\n",
              "    \n",
              "\n",
              "    \n",
              "\n",
              "\n",
              "    \n",
              "\n",
              "    \n",
              "\n",
              "    \n",
              "\n",
              "    \n",
              "\n",
              "    \n",
              "\n",
              "    \n",
              "\n",
              "\n",
              "    \n",
              "\n",
              "    \n",
              "\n",
              "    \n",
              "\n",
              "    \n",
              "\n",
              "    \n",
              "\n",
              "    \n",
              "\n",
              "\n",
              "\n"
            ]
          },
          "metadata": {}
        },
        {
          "output_type": "stream",
          "name": "stdout",
          "text": [
            "Specific feature weights:\n",
            "          feature      coef\n",
            "0    start_hour_7 -0.354118\n",
            "1    start_hour_8 -3.024821\n",
            "2    start_hour_9 -0.893525\n",
            "3   start_hour_10 -3.451935\n",
            "4   start_hour_11 -2.707237\n",
            "5   start_hour_12  1.625014\n",
            "6   start_hour_13  1.204019\n",
            "7   start_hour_14 -2.487767\n",
            "8   start_hour_15 -0.352154\n",
            "9   start_hour_16  2.834669\n",
            "10  start_hour_17  2.673946\n",
            "11  start_hour_18  2.773480\n",
            "12  start_hour_19 -0.956146\n",
            "13  start_hour_20 -0.667686\n",
            "14  start_hour_21 -1.087343\n",
            "15  start_hour_22 -0.920037\n",
            "16  start_hour_23 -0.809346\n",
            "CPU times: user 4.79 s, sys: 2.83 s, total: 7.62 s\n",
            "Wall time: 16.8 s\n"
          ]
        }
      ]
    },
    {
      "cell_type": "code",
      "metadata": {
        "colab": {
          "base_uri": "https://localhost:8080/"
        },
        "id": "hG1eKdhdrln1",
        "outputId": "098d23d0-3934-48d2-bb9a-4092b853934f"
      },
      "source": [
        "# compare if cv scores improved\n",
        "cv_scores_1 > cv_scores_baseline\n",
        "# 8/10"
      ],
      "execution_count": 87,
      "outputs": [
        {
          "output_type": "execute_result",
          "data": {
            "text/plain": [
              "array([False,  True,  True,  True,  True,  True, False,  True,  True,\n",
              "        True])"
            ]
          },
          "metadata": {},
          "execution_count": 87
        }
      ]
    },
    {
      "cell_type": "code",
      "metadata": {
        "id": "IVK7LFbvrX_4"
      },
      "source": [
        "plbs_feature_1 = 0.94139"
      ],
      "execution_count": 88,
      "outputs": []
    },
    {
      "cell_type": "markdown",
      "metadata": {
        "id": "tTstnmOHnT21"
      },
      "source": [
        "---"
      ]
    },
    {
      "cell_type": "markdown",
      "metadata": {
        "id": "SIapujborv1b"
      },
      "source": [
        "### feature 2: end hour"
      ]
    },
    {
      "cell_type": "code",
      "metadata": {
        "colab": {
          "base_uri": "https://localhost:8080/"
        },
        "id": "t7rS8uTBry6m",
        "outputId": "92eb2cd6-6ef9-4e4a-faa4-ac85686d6c44"
      },
      "source": [
        "new_feat_full = add_end_hour(full_df, new_feat_full)\n",
        "new_feat_full.columns"
      ],
      "execution_count": 100,
      "outputs": [
        {
          "output_type": "execute_result",
          "data": {
            "text/plain": [
              "Index(['start_hour_7', 'start_hour_8', 'start_hour_9', 'start_hour_10',\n",
              "       'start_hour_11', 'start_hour_12', 'start_hour_13', 'start_hour_14',\n",
              "       'start_hour_15', 'start_hour_16', 'start_hour_17', 'start_hour_18',\n",
              "       'start_hour_19', 'start_hour_20', 'start_hour_21', 'start_hour_22',\n",
              "       'start_hour_23', 'end_hour_7', 'end_hour_8', 'end_hour_9',\n",
              "       'end_hour_10', 'end_hour_11', 'end_hour_12', 'end_hour_13',\n",
              "       'end_hour_14', 'end_hour_15', 'end_hour_16', 'end_hour_17',\n",
              "       'end_hour_18', 'end_hour_19', 'end_hour_20', 'end_hour_21',\n",
              "       'end_hour_22', 'end_hour_23'],\n",
              "      dtype='object')"
            ]
          },
          "metadata": {},
          "execution_count": 100
        }
      ]
    },
    {
      "cell_type": "code",
      "metadata": {
        "id": "vkl_OnDgr-G3"
      },
      "source": [
        "X_train = hstack([X_train_sparse, new_feat_full[:idx_split].values])\n",
        "X_test = hstack([X_test_sparse, new_feat_full[idx_split:].values])"
      ],
      "execution_count": 90,
      "outputs": []
    },
    {
      "cell_type": "code",
      "metadata": {
        "colab": {
          "base_uri": "https://localhost:8080/"
        },
        "id": "6gcWpPtosXpd",
        "outputId": "15908388-a6d2-4859-f904-064ada0b507d"
      },
      "source": [
        "%%time\n",
        "cv_scores_2 = \\\n",
        "  train_and_predict(model=LOGIT, \n",
        "                    X_train=X_train, y_train=y_train, X_test=X_test, \n",
        "                    submission_file_name = PATH_TO_SUBM + \"feature_2.csv\")"
      ],
      "execution_count": 91,
      "outputs": [
        {
          "output_type": "stream",
          "name": "stdout",
          "text": [
            "CV scores: [0.65332541 0.842306   0.96149884 0.9434827  0.9291471  0.97746972\n",
            " 0.83420923 0.95755531 0.96281806 0.97236421]\n",
            "CV mean: 0.9034176585715757, CV std: 0.09664772842950495\n",
            "CPU times: user 5.8 s, sys: 3.67 s, total: 9.47 s\n",
            "Wall time: 19.3 s\n"
          ]
        }
      ]
    },
    {
      "cell_type": "code",
      "metadata": {
        "colab": {
          "base_uri": "https://localhost:8080/"
        },
        "id": "67CUh66Ds9HZ",
        "outputId": "1c84cc99-0a30-4425-aa21-c3d730dbba09"
      },
      "source": [
        "cv_scores_2 > cv_scores_1\n",
        "# 8/10"
      ],
      "execution_count": 92,
      "outputs": [
        {
          "output_type": "execute_result",
          "data": {
            "text/plain": [
              "array([False,  True,  True,  True,  True,  True, False,  True,  True,\n",
              "        True])"
            ]
          },
          "metadata": {},
          "execution_count": 92
        }
      ]
    },
    {
      "cell_type": "code",
      "metadata": {
        "id": "yNf94GDGshD8"
      },
      "source": [
        "plbs_feature_2 = 0.94269"
      ],
      "execution_count": 93,
      "outputs": []
    },
    {
      "cell_type": "markdown",
      "metadata": {
        "id": "b2JBDiISuaw8"
      },
      "source": [
        "---"
      ]
    },
    {
      "cell_type": "markdown",
      "metadata": {
        "id": "ZBCrUZDOtkpw"
      },
      "source": [
        "### feature 3: week days"
      ]
    },
    {
      "cell_type": "code",
      "metadata": {
        "colab": {
          "base_uri": "https://localhost:8080/"
        },
        "id": "nlgVZpX8taKw",
        "outputId": "717f0885-6136-4cb0-ea43-07beb7c6a84d"
      },
      "source": [
        "new_feat_full = add_week_day(full_df, new_feat_full)\n",
        "new_feat_full.columns"
      ],
      "execution_count": 101,
      "outputs": [
        {
          "output_type": "execute_result",
          "data": {
            "text/plain": [
              "Index(['start_hour_7', 'start_hour_8', 'start_hour_9', 'start_hour_10',\n",
              "       'start_hour_11', 'start_hour_12', 'start_hour_13', 'start_hour_14',\n",
              "       'start_hour_15', 'start_hour_16', 'start_hour_17', 'start_hour_18',\n",
              "       'start_hour_19', 'start_hour_20', 'start_hour_21', 'start_hour_22',\n",
              "       'start_hour_23', 'end_hour_7', 'end_hour_8', 'end_hour_9',\n",
              "       'end_hour_10', 'end_hour_11', 'end_hour_12', 'end_hour_13',\n",
              "       'end_hour_14', 'end_hour_15', 'end_hour_16', 'end_hour_17',\n",
              "       'end_hour_18', 'end_hour_19', 'end_hour_20', 'end_hour_21',\n",
              "       'end_hour_22', 'end_hour_23', 'week_day_0', 'week_day_1', 'week_day_2',\n",
              "       'week_day_3', 'week_day_4', 'week_day_5', 'week_day_6'],\n",
              "      dtype='object')"
            ]
          },
          "metadata": {},
          "execution_count": 101
        }
      ]
    },
    {
      "cell_type": "code",
      "metadata": {
        "id": "EbHGK9XUt6uQ"
      },
      "source": [
        "X_train = hstack([X_train_sparse, new_feat_full[:idx_split].values])\n",
        "X_test = hstack([X_test_sparse, new_feat_full[idx_split:].values])"
      ],
      "execution_count": 95,
      "outputs": []
    },
    {
      "cell_type": "code",
      "metadata": {
        "colab": {
          "base_uri": "https://localhost:8080/"
        },
        "id": "Icoyk9fpt8Xd",
        "outputId": "9043f041-053f-4cb9-e3e2-f2bf595a9e99"
      },
      "source": [
        "%%time\n",
        "cv_scores_3 = \\\n",
        "  train_and_predict(model=LOGIT, \n",
        "                    X_train=X_train, y_train=y_train, X_test=X_test, \n",
        "                    submission_file_name = PATH_TO_SUBM + \"feature_3.csv\")"
      ],
      "execution_count": 96,
      "outputs": [
        {
          "output_type": "stream",
          "name": "stdout",
          "text": [
            "CV scores: [0.64485421 0.90086612 0.91395693 0.952679   0.9365243  0.98400617\n",
            " 0.84667529 0.95879279 0.8266916  0.98021308]\n",
            "CV mean: 0.8945259497089655, CV std: 0.0970926274993356\n",
            "CPU times: user 6.54 s, sys: 4.11 s, total: 10.6 s\n",
            "Wall time: 22.5 s\n"
          ]
        }
      ]
    },
    {
      "cell_type": "code",
      "metadata": {
        "id": "tnxtLBW9uB6L"
      },
      "source": [
        "plbs_feature_3 = 0.94816"
      ],
      "execution_count": 97,
      "outputs": []
    },
    {
      "cell_type": "markdown",
      "metadata": {
        "id": "CS4sf-p2uYZa"
      },
      "source": [
        "---"
      ]
    },
    {
      "cell_type": "markdown",
      "metadata": {
        "id": "jy4HfmCWQFTs"
      },
      "source": [
        "### feature 4: session length"
      ]
    },
    {
      "cell_type": "code",
      "metadata": {
        "colab": {
          "base_uri": "https://localhost:8080/"
        },
        "id": "fgAc0DNYQDnU",
        "outputId": "84d4aa97-894e-42fb-9027-c38f8169641a"
      },
      "source": [
        "new_feat_full = add_session_length(full_df, new_feat_full)\n",
        "new_feat_full.columns"
      ],
      "execution_count": 102,
      "outputs": [
        {
          "output_type": "execute_result",
          "data": {
            "text/plain": [
              "Index(['start_hour_7', 'start_hour_8', 'start_hour_9', 'start_hour_10',\n",
              "       'start_hour_11', 'start_hour_12', 'start_hour_13', 'start_hour_14',\n",
              "       'start_hour_15', 'start_hour_16', 'start_hour_17', 'start_hour_18',\n",
              "       'start_hour_19', 'start_hour_20', 'start_hour_21', 'start_hour_22',\n",
              "       'start_hour_23', 'end_hour_7', 'end_hour_8', 'end_hour_9',\n",
              "       'end_hour_10', 'end_hour_11', 'end_hour_12', 'end_hour_13',\n",
              "       'end_hour_14', 'end_hour_15', 'end_hour_16', 'end_hour_17',\n",
              "       'end_hour_18', 'end_hour_19', 'end_hour_20', 'end_hour_21',\n",
              "       'end_hour_22', 'end_hour_23', 'week_day_0', 'week_day_1', 'week_day_2',\n",
              "       'week_day_3', 'week_day_4', 'week_day_5', 'week_day_6',\n",
              "       'session_length'],\n",
              "      dtype='object')"
            ]
          },
          "metadata": {},
          "execution_count": 102
        }
      ]
    },
    {
      "cell_type": "code",
      "metadata": {
        "id": "gnnq2Ah5QRhb"
      },
      "source": [
        "X_train = hstack([X_train_sparse, new_feat_full[:idx_split].values])\n",
        "X_test = hstack([X_test_sparse, new_feat_full[idx_split:].values])"
      ],
      "execution_count": 103,
      "outputs": []
    },
    {
      "cell_type": "code",
      "metadata": {
        "colab": {
          "base_uri": "https://localhost:8080/"
        },
        "id": "ScP7-q_TQTcU",
        "outputId": "abb46636-f5bd-4e9a-9bc5-df1bda9842c4"
      },
      "source": [
        "%%time\n",
        "cv_scores_4 = \\\n",
        "  train_and_predict(model=LOGIT, \n",
        "                    X_train=X_train, y_train=y_train, X_test=X_test, \n",
        "                    submission_file_name = PATH_TO_SUBM + \"feature_4.csv\")"
      ],
      "execution_count": 104,
      "outputs": [
        {
          "output_type": "stream",
          "name": "stdout",
          "text": [
            "CV scores: [0.64976952 0.90195807 0.91509982 0.95283748 0.93744313 0.98436491\n",
            " 0.85145774 0.95952535 0.8292339  0.98055959]\n",
            "CV mean: 0.8962249527506282, CV std: 0.09561022617069491\n",
            "CPU times: user 7.09 s, sys: 4.42 s, total: 11.5 s\n",
            "Wall time: 24 s\n"
          ]
        }
      ]
    },
    {
      "cell_type": "code",
      "metadata": {
        "colab": {
          "base_uri": "https://localhost:8080/"
        },
        "id": "WDQLubaFQfX0",
        "outputId": "45a2a068-36b1-41cf-d528-1b84ab5330a4"
      },
      "source": [
        "cv_scores_4 > cv_scores_3"
      ],
      "execution_count": 105,
      "outputs": [
        {
          "output_type": "execute_result",
          "data": {
            "text/plain": [
              "array([ True,  True,  True,  True,  True,  True,  True,  True,  True,\n",
              "        True])"
            ]
          },
          "metadata": {},
          "execution_count": 105
        }
      ]
    },
    {
      "cell_type": "code",
      "metadata": {
        "id": "9RUl0Q1yQh1C"
      },
      "source": [
        "plbs_feature_4 = 0.94896"
      ],
      "execution_count": 106,
      "outputs": []
    },
    {
      "cell_type": "markdown",
      "metadata": {
        "id": "3fxRnuyVRHnZ"
      },
      "source": [
        "### feature 5: time differences"
      ]
    },
    {
      "cell_type": "code",
      "metadata": {
        "colab": {
          "base_uri": "https://localhost:8080/"
        },
        "id": "S0Z_D_LSRE7w",
        "outputId": "6afcdb37-bb54-4213-b1ad-9c193f308eeb"
      },
      "source": [
        "%%time\n",
        "new_feat_full = add_time_diff(full_df, new_feat_full)\n",
        "new_feat_full.columns"
      ],
      "execution_count": 107,
      "outputs": [
        {
          "output_type": "stream",
          "name": "stdout",
          "text": [
            "CPU times: user 24.8 s, sys: 67.8 ms, total: 24.8 s\n",
            "Wall time: 24.9 s\n"
          ]
        }
      ]
    },
    {
      "cell_type": "code",
      "metadata": {
        "id": "M-H4ruYrRRQz"
      },
      "source": [
        "X_train = hstack([X_train_sparse, new_feat_full[:idx_split].values])\n",
        "X_test = hstack([X_test_sparse, new_feat_full[idx_split:].values])"
      ],
      "execution_count": 108,
      "outputs": []
    },
    {
      "cell_type": "code",
      "metadata": {
        "colab": {
          "base_uri": "https://localhost:8080/"
        },
        "id": "JDkKXT6YRXzs",
        "outputId": "02a653c1-3f1a-4ed6-ca2d-5829469d7e1e"
      },
      "source": [
        "%%time\n",
        "cv_scores_5 = \\\n",
        "  train_and_predict(model=LOGIT, \n",
        "                    X_train=X_train, y_train=y_train, X_test=X_test, \n",
        "                    submission_file_name = PATH_TO_SUBM + \"feature_5.csv\")"
      ],
      "execution_count": 109,
      "outputs": [
        {
          "output_type": "stream",
          "name": "stdout",
          "text": [
            "CV scores: [0.65429884 0.90178331 0.91531937 0.95214059 0.93760756 0.98490302\n",
            " 0.85375164 0.95997839 0.83123759 0.98025206]\n",
            "CV mean: 0.8971272369427773, CV std: 0.0942182935052016\n",
            "CPU times: user 12.1 s, sys: 8.02 s, total: 20.1 s\n",
            "Wall time: 42.6 s\n"
          ]
        }
      ]
    },
    {
      "cell_type": "code",
      "metadata": {
        "colab": {
          "base_uri": "https://localhost:8080/"
        },
        "id": "xuWj3hjCRgcr",
        "outputId": "3ad8baa4-56d0-4301-f367-c43e0c368754"
      },
      "source": [
        "cv_scores_5 > cv_scores_4\n",
        "# 5/10"
      ],
      "execution_count": 110,
      "outputs": [
        {
          "output_type": "execute_result",
          "data": {
            "text/plain": [
              "array([ True, False,  True, False,  True,  True,  True,  True,  True,\n",
              "       False])"
            ]
          },
          "metadata": {},
          "execution_count": 110
        }
      ]
    },
    {
      "cell_type": "code",
      "metadata": {
        "id": "91ScCBihRiav"
      },
      "source": [
        "plbs_feature_5 = 0.94907"
      ],
      "execution_count": 112,
      "outputs": []
    },
    {
      "cell_type": "markdown",
      "metadata": {
        "id": "F0flLAwAR35v"
      },
      "source": [
        "---"
      ]
    },
    {
      "cell_type": "markdown",
      "metadata": {
        "id": "O9VGiqvqR76O"
      },
      "source": [
        "### hyper parameter tuning"
      ]
    },
    {
      "cell_type": "code",
      "metadata": {
        "colab": {
          "base_uri": "https://localhost:8080/"
        },
        "id": "-D2w-8WQR5QX",
        "outputId": "7817c203-dd20-4d34-e627-91edaef2bcfd"
      },
      "source": [
        "%%time\n",
        "logit_tuned = tuning_logit(X_train, y_train)"
      ],
      "execution_count": 113,
      "outputs": [
        {
          "output_type": "stream",
          "name": "stdout",
          "text": [
            "Fitting 10 folds for each of 20 candidates, totalling 200 fits\n"
          ]
        },
        {
          "output_type": "stream",
          "name": "stderr",
          "text": [
            "[Parallel(n_jobs=4)]: Using backend LokyBackend with 4 concurrent workers.\n",
            "[Parallel(n_jobs=4)]: Done  42 tasks      | elapsed:   47.0s\n",
            "[Parallel(n_jobs=4)]: Done 192 tasks      | elapsed: 11.8min\n",
            "[Parallel(n_jobs=4)]: Done 200 out of 200 | elapsed: 13.3min finished\n"
          ]
        },
        {
          "output_type": "stream",
          "name": "stdout",
          "text": [
            "CPU times: user 28.6 s, sys: 17 s, total: 45.6 s\n",
            "Wall time: 13min 37s\n"
          ]
        }
      ]
    },
    {
      "cell_type": "code",
      "metadata": {
        "colab": {
          "base_uri": "https://localhost:8080/"
        },
        "id": "eQ6FuuBKR2-T",
        "outputId": "0be87473-a93e-4433-f6c8-edf9ad4f688b"
      },
      "source": [
        "logit_tuned.best_score_, logit_tuned.best_params_"
      ],
      "execution_count": 114,
      "outputs": [
        {
          "output_type": "execute_result",
          "data": {
            "text/plain": [
              "(0.9032558750403679, {'C': 8.858667904100823})"
            ]
          },
          "metadata": {},
          "execution_count": 114
        }
      ]
    },
    {
      "cell_type": "code",
      "metadata": {
        "colab": {
          "base_uri": "https://localhost:8080/"
        },
        "id": "NTGjbA1pS9Hp",
        "outputId": "c06535f7-a24d-4409-e242-70e1691ec619"
      },
      "source": [
        "%%time\n",
        "cv_scores_5_tuned = \\\n",
        "  train_and_predict(model=logit_tuned.best_estimator_, \n",
        "                    X_train=X_train, y_train=y_train, X_test=X_test, \n",
        "                    submission_file_name = PATH_TO_SUBM + \"feature_5_tuned.csv\")"
      ],
      "execution_count": 115,
      "outputs": [
        {
          "output_type": "stream",
          "name": "stdout",
          "text": [
            "CV scores: [0.65110776 0.89350482 0.91509343 0.96748513 0.94162186 0.98223383\n",
            " 0.89380325 0.9596543  0.84965711 0.97839727]\n",
            "CV mean: 0.9032558750403679, CV std: 0.09350825444478224\n",
            "CPU times: user 23.4 s, sys: 16.2 s, total: 39.6 s\n",
            "Wall time: 1min 16s\n"
          ]
        }
      ]
    },
    {
      "cell_type": "code",
      "metadata": {
        "colab": {
          "base_uri": "https://localhost:8080/"
        },
        "id": "u1Zp99QOV_Cs",
        "outputId": "62249bb2-984b-48b2-b248-72e8136d53a8"
      },
      "source": [
        "cv_scores_5_tuned > cv_scores_5"
      ],
      "execution_count": 116,
      "outputs": [
        {
          "output_type": "execute_result",
          "data": {
            "text/plain": [
              "array([False, False, False,  True,  True, False,  True, False,  True,\n",
              "       False])"
            ]
          },
          "metadata": {},
          "execution_count": 116
        }
      ]
    },
    {
      "cell_type": "code",
      "metadata": {
        "colab": {
          "base_uri": "https://localhost:8080/"
        },
        "id": "60cGu5_uWDyn",
        "outputId": "aef7f860-5060-416f-f1d2-22ba64d6aee1"
      },
      "source": [
        "cv_scores_5_tuned > cv_scores_4"
      ],
      "execution_count": 117,
      "outputs": [
        {
          "output_type": "execute_result",
          "data": {
            "text/plain": [
              "array([ True, False, False,  True,  True, False,  True,  True,  True,\n",
              "       False])"
            ]
          },
          "metadata": {},
          "execution_count": 117
        }
      ]
    },
    {
      "cell_type": "code",
      "metadata": {
        "id": "gW_Enbw-WEhZ"
      },
      "source": [
        "plbs_feature_5_tuned = 0.95229"
      ],
      "execution_count": 121,
      "outputs": []
    },
    {
      "cell_type": "markdown",
      "metadata": {
        "id": "pV8nDZOZXGz8"
      },
      "source": [
        "### submission history scores"
      ]
    },
    {
      "cell_type": "code",
      "metadata": {
        "colab": {
          "base_uri": "https://localhost:8080/",
          "height": 263
        },
        "id": "5EiaGdk4WfNF",
        "outputId": "e3db883a-c90c-47c6-bd4e-867a181a8231"
      },
      "source": [
        "cv_means = [np.round(cv_scores.mean(), 5) \n",
        "            for cv_scores in [cv_scores_baseline, cv_scores_1, cv_scores_2, cv_scores_3, \n",
        "                              cv_scores_4, cv_scores_5, cv_scores_5_tuned]]\n",
        "cv_stds = [np.round(cv_scores.std(), 5) \n",
        "            for cv_scores in [cv_scores_baseline, cv_scores_1, cv_scores_2, cv_scores_3, \n",
        "                              cv_scores_4, cv_scores_5, cv_scores_5_tuned]]\n",
        "\n",
        "public_lb_scores = [plbs_baseline, plbs_feature_1, plbs_feature_2, plbs_feature_3, \n",
        "                    plbs_feature_4, plbs_feature_5, plbs_feature_5_tuned]\n",
        "\n",
        "subm_df = pd.DataFrame({'CV_mean': cv_means, 'CV_std': cv_stds, \n",
        "                        'Leaderboard': public_lb_scores},\n",
        "                       index=range(0, len(cv_means)))\n",
        "subm_df"
      ],
      "execution_count": 122,
      "outputs": [
        {
          "output_type": "execute_result",
          "data": {
            "text/html": [
              "<div>\n",
              "<style scoped>\n",
              "    .dataframe tbody tr th:only-of-type {\n",
              "        vertical-align: middle;\n",
              "    }\n",
              "\n",
              "    .dataframe tbody tr th {\n",
              "        vertical-align: top;\n",
              "    }\n",
              "\n",
              "    .dataframe thead th {\n",
              "        text-align: right;\n",
              "    }\n",
              "</style>\n",
              "<table border=\"1\" class=\"dataframe\">\n",
              "  <thead>\n",
              "    <tr style=\"text-align: right;\">\n",
              "      <th></th>\n",
              "      <th>CV_mean</th>\n",
              "      <th>CV_std</th>\n",
              "      <th>Leaderboard</th>\n",
              "    </tr>\n",
              "  </thead>\n",
              "  <tbody>\n",
              "    <tr>\n",
              "      <th>0</th>\n",
              "      <td>0.86254</td>\n",
              "      <td>0.07456</td>\n",
              "      <td>0.91807</td>\n",
              "    </tr>\n",
              "    <tr>\n",
              "      <th>1</th>\n",
              "      <td>0.90542</td>\n",
              "      <td>0.09349</td>\n",
              "      <td>0.94139</td>\n",
              "    </tr>\n",
              "    <tr>\n",
              "      <th>2</th>\n",
              "      <td>0.90342</td>\n",
              "      <td>0.09665</td>\n",
              "      <td>0.94269</td>\n",
              "    </tr>\n",
              "    <tr>\n",
              "      <th>3</th>\n",
              "      <td>0.89453</td>\n",
              "      <td>0.09709</td>\n",
              "      <td>0.94816</td>\n",
              "    </tr>\n",
              "    <tr>\n",
              "      <th>4</th>\n",
              "      <td>0.89622</td>\n",
              "      <td>0.09561</td>\n",
              "      <td>0.94896</td>\n",
              "    </tr>\n",
              "    <tr>\n",
              "      <th>5</th>\n",
              "      <td>0.89713</td>\n",
              "      <td>0.09422</td>\n",
              "      <td>0.94907</td>\n",
              "    </tr>\n",
              "    <tr>\n",
              "      <th>6</th>\n",
              "      <td>0.90326</td>\n",
              "      <td>0.09351</td>\n",
              "      <td>0.95229</td>\n",
              "    </tr>\n",
              "  </tbody>\n",
              "</table>\n",
              "</div>"
            ],
            "text/plain": [
              "   CV_mean   CV_std  Leaderboard\n",
              "0  0.86254  0.07456      0.91807\n",
              "1  0.90542  0.09349      0.94139\n",
              "2  0.90342  0.09665      0.94269\n",
              "3  0.89453  0.09709      0.94816\n",
              "4  0.89622  0.09561      0.94896\n",
              "5  0.89713  0.09422      0.94907\n",
              "6  0.90326  0.09351      0.95229"
            ]
          },
          "metadata": {},
          "execution_count": 122
        }
      ]
    },
    {
      "cell_type": "markdown",
      "metadata": {
        "id": "NPrhdZS-Ojf_"
      },
      "source": [
        "Which model to choose? Adding weights to CV and LB results.\n"
      ]
    },
    {
      "cell_type": "code",
      "metadata": {
        "colab": {
          "base_uri": "https://localhost:8080/",
          "height": 263
        },
        "id": "tA2Yalo0YQhr",
        "outputId": "87a2a52f-a886-4a62-e6a7-d1256fcf827a"
      },
      "source": [
        "subm_df['CV_LB_weighted'] =  0.6 * subm_df['Leaderboard'] + (1 - 0.6) * subm_df['CV_mean']\n",
        "subm_df"
      ],
      "execution_count": 123,
      "outputs": [
        {
          "output_type": "execute_result",
          "data": {
            "text/html": [
              "<div>\n",
              "<style scoped>\n",
              "    .dataframe tbody tr th:only-of-type {\n",
              "        vertical-align: middle;\n",
              "    }\n",
              "\n",
              "    .dataframe tbody tr th {\n",
              "        vertical-align: top;\n",
              "    }\n",
              "\n",
              "    .dataframe thead th {\n",
              "        text-align: right;\n",
              "    }\n",
              "</style>\n",
              "<table border=\"1\" class=\"dataframe\">\n",
              "  <thead>\n",
              "    <tr style=\"text-align: right;\">\n",
              "      <th></th>\n",
              "      <th>CV_mean</th>\n",
              "      <th>CV_std</th>\n",
              "      <th>Leaderboard</th>\n",
              "      <th>CV_LB_weighted</th>\n",
              "    </tr>\n",
              "  </thead>\n",
              "  <tbody>\n",
              "    <tr>\n",
              "      <th>0</th>\n",
              "      <td>0.86254</td>\n",
              "      <td>0.07456</td>\n",
              "      <td>0.91807</td>\n",
              "      <td>0.895858</td>\n",
              "    </tr>\n",
              "    <tr>\n",
              "      <th>1</th>\n",
              "      <td>0.90542</td>\n",
              "      <td>0.09349</td>\n",
              "      <td>0.94139</td>\n",
              "      <td>0.927002</td>\n",
              "    </tr>\n",
              "    <tr>\n",
              "      <th>2</th>\n",
              "      <td>0.90342</td>\n",
              "      <td>0.09665</td>\n",
              "      <td>0.94269</td>\n",
              "      <td>0.926982</td>\n",
              "    </tr>\n",
              "    <tr>\n",
              "      <th>3</th>\n",
              "      <td>0.89453</td>\n",
              "      <td>0.09709</td>\n",
              "      <td>0.94816</td>\n",
              "      <td>0.926708</td>\n",
              "    </tr>\n",
              "    <tr>\n",
              "      <th>4</th>\n",
              "      <td>0.89622</td>\n",
              "      <td>0.09561</td>\n",
              "      <td>0.94896</td>\n",
              "      <td>0.927864</td>\n",
              "    </tr>\n",
              "    <tr>\n",
              "      <th>5</th>\n",
              "      <td>0.89713</td>\n",
              "      <td>0.09422</td>\n",
              "      <td>0.94907</td>\n",
              "      <td>0.928294</td>\n",
              "    </tr>\n",
              "    <tr>\n",
              "      <th>6</th>\n",
              "      <td>0.90326</td>\n",
              "      <td>0.09351</td>\n",
              "      <td>0.95229</td>\n",
              "      <td>0.932678</td>\n",
              "    </tr>\n",
              "  </tbody>\n",
              "</table>\n",
              "</div>"
            ],
            "text/plain": [
              "   CV_mean   CV_std  Leaderboard  CV_LB_weighted\n",
              "0  0.86254  0.07456      0.91807        0.895858\n",
              "1  0.90542  0.09349      0.94139        0.927002\n",
              "2  0.90342  0.09665      0.94269        0.926982\n",
              "3  0.89453  0.09709      0.94816        0.926708\n",
              "4  0.89622  0.09561      0.94896        0.927864\n",
              "5  0.89713  0.09422      0.94907        0.928294\n",
              "6  0.90326  0.09351      0.95229        0.932678"
            ]
          },
          "metadata": {},
          "execution_count": 123
        }
      ]
    },
    {
      "cell_type": "markdown",
      "metadata": {
        "id": "UIS3iLmkL0uc"
      },
      "source": [
        "The best results we've got with sparse matrix and additional 5 features: \n",
        "- start hour, \n",
        "- end hour, \n",
        "- week day, \n",
        "- session length,\n",
        "- time differences.\n",
        "\n",
        "CV mean: 0.90326.  \n",
        "Kaggle Leaderboard: 0.95229\n",
        "\n"
      ]
    }
  ]
}